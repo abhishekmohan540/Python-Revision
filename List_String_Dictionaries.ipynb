{
 "cells": [
  {
   "cell_type": "markdown",
   "id": "fcbdb9b7-acf3-47c5-afc6-7d98a5b9c141",
   "metadata": {},
   "source": [
    "## Loops and List Comprehension"
   ]
  },
  {
   "cell_type": "code",
   "execution_count": 13,
   "id": "1a60274b-3cfd-4812-a689-f11ba3dfaa37",
   "metadata": {},
   "outputs": [],
   "source": [
    "a  = [5,7,8,9,12,45,71,5]"
   ]
  },
  {
   "cell_type": "code",
   "execution_count": 2,
   "id": "0139c45b-7a74-4354-91be-ced02877123d",
   "metadata": {},
   "outputs": [
    {
     "data": {
      "text/plain": [
       "[9, 12, 45]"
      ]
     },
     "execution_count": 2,
     "metadata": {},
     "output_type": "execute_result"
    }
   ],
   "source": [
    "a[3:-2]"
   ]
  },
  {
   "cell_type": "raw",
   "id": "76abd795-ca96-4f69-be27-8ca1010a9780",
   "metadata": {},
   "source": [
    "a[-2]"
   ]
  },
  {
   "cell_type": "code",
   "execution_count": 4,
   "id": "86007f25-4471-4ccd-b1d7-7b124424e6a7",
   "metadata": {},
   "outputs": [
    {
     "data": {
      "text/plain": [
       "[5, 7, 8]"
      ]
     },
     "execution_count": 4,
     "metadata": {},
     "output_type": "execute_result"
    }
   ],
   "source": [
    "a[0:3]"
   ]
  },
  {
   "cell_type": "code",
   "execution_count": 6,
   "id": "ac155432-5ec9-4dcb-bba1-d1f2c240f439",
   "metadata": {},
   "outputs": [
    {
     "data": {
      "text/plain": [
       "[5, 7, 8, 9, 12, 45, 71]"
      ]
     },
     "execution_count": 6,
     "metadata": {},
     "output_type": "execute_result"
    }
   ],
   "source": [
    "a[0:-1]"
   ]
  },
  {
   "cell_type": "code",
   "execution_count": 9,
   "id": "77c3b82e-f0eb-48b8-97c7-84ab096c1b20",
   "metadata": {},
   "outputs": [],
   "source": [
    "def fashionably_late(arrivals):\n",
    "    \"\"\"Given an ordered list of arrivals to the party and a name, return whether the guest with that\n",
    "    name was fashionably late.\n",
    "    \"\"\"\n",
    "    n = round(len(arrivals)/2)\n",
    "    late = arrivals[n:-1]\n",
    "    return late"
   ]
  },
  {
   "cell_type": "code",
   "execution_count": 10,
   "id": "d1bbc1d2-dd8c-4086-b5a9-198fa8666944",
   "metadata": {},
   "outputs": [
    {
     "data": {
      "text/plain": [
       "['Mona', 'Gilbert']"
      ]
     },
     "execution_count": 10,
     "metadata": {},
     "output_type": "execute_result"
    }
   ],
   "source": [
    "fashionably_late(['Adela', 'Fleda', 'Owen', 'May', 'Mona', 'Gilbert', 'Ford'])"
   ]
  },
  {
   "cell_type": "code",
   "execution_count": 11,
   "id": "3e42f7dc-8b55-43cf-93a3-d960411bc9c6",
   "metadata": {},
   "outputs": [
    {
     "name": "stdout",
     "output_type": "stream",
     "text": [
      "HELLO"
     ]
    }
   ],
   "source": [
    "s = 'steganograpHy is the practicE of conceaLing a file, message, image, or video within another fiLe, message, image, Or video.'\n",
    "msg = ''\n",
    "# print all the uppercase letters in s, one at a time\n",
    "for char in s:\n",
    "    if char.isupper():\n",
    "        print(char, end='')       "
   ]
  },
  {
   "cell_type": "code",
   "execution_count": 12,
   "id": "e37cff71-3124-4ace-8f58-568508db4ecf",
   "metadata": {},
   "outputs": [
    {
     "name": "stdout",
     "output_type": "stream",
     "text": [
      "H\n",
      "E\n",
      "L\n",
      "L\n",
      "O\n"
     ]
    }
   ],
   "source": [
    "s = 'steganograpHy is the practicE of conceaLing a file, message, image, or video within another fiLe, message, image, Or video.'\n",
    "msg = ''\n",
    "# print all the uppercase letters in s, one at a time\n",
    "for char in s:\n",
    "    if char.isupper():\n",
    "        print(char)       "
   ]
  },
  {
   "cell_type": "code",
   "execution_count": 14,
   "id": "c140b429-e400-4802-83ec-f3077516fb49",
   "metadata": {},
   "outputs": [
    {
     "name": "stdout",
     "output_type": "stream",
     "text": [
      "0\n",
      "1\n",
      "2\n",
      "3\n",
      "4\n"
     ]
    }
   ],
   "source": [
    "for i in range(5):\n",
    "    print(i)"
   ]
  },
  {
   "cell_type": "markdown",
   "id": "982e68b5-706b-4127-a0df-76583eb730b2",
   "metadata": {},
   "source": [
    "## While Loops"
   ]
  },
  {
   "cell_type": "code",
   "execution_count": 15,
   "id": "46abb0dd-34a8-48a2-8823-83347014df2a",
   "metadata": {},
   "outputs": [
    {
     "name": "stdout",
     "output_type": "stream",
     "text": [
      "0 1 2 3 4 5 6 7 8 9 "
     ]
    }
   ],
   "source": [
    "i = 0\n",
    "while i < 10:\n",
    "    print(i, end=' ')\n",
    "    i += 1 # increase the value of i by 1"
   ]
  },
  {
   "cell_type": "markdown",
   "id": "eb5b5dd2-92b2-4495-8e73-b5fe8b63aa7c",
   "metadata": {},
   "source": [
    "## List Comprehensions"
   ]
  },
  {
   "cell_type": "code",
   "execution_count": 16,
   "id": "4de20a9d-2024-4f50-9d30-c2d9fc2dfb88",
   "metadata": {},
   "outputs": [
    {
     "data": {
      "text/plain": [
       "[0, 1, 4, 9, 16, 25, 36, 49, 64, 81]"
      ]
     },
     "execution_count": 16,
     "metadata": {},
     "output_type": "execute_result"
    }
   ],
   "source": [
    "squares = [n**2 for n in range(10)]\n",
    "squares"
   ]
  },
  {
   "cell_type": "code",
   "execution_count": 17,
   "id": "b32541c6-25ae-47ab-ac4c-8634aa40574f",
   "metadata": {},
   "outputs": [
    {
     "data": {
      "text/plain": [
       "[0, 1, 4, 9, 16, 25, 36, 49, 64, 81]"
      ]
     },
     "execution_count": 17,
     "metadata": {},
     "output_type": "execute_result"
    }
   ],
   "source": [
    "squares = []\n",
    "for n in range(10):\n",
    "    squares.append(n**2)\n",
    "squares"
   ]
  },
  {
   "cell_type": "code",
   "execution_count": 19,
   "id": "205f4b46-eab4-488a-85b7-993ac47584b3",
   "metadata": {},
   "outputs": [
    {
     "name": "stdout",
     "output_type": "stream",
     "text": [
      "Mercury Venus Earth Mars Jupiter Saturn Uranus Neptune "
     ]
    }
   ],
   "source": [
    "planets = ['Mercury', 'Venus', 'Earth', 'Mars', 'Jupiter', 'Saturn', 'Uranus', 'Neptune']\n",
    "for planet in planets:\n",
    "    print(planet, end=' ') # print all on same line"
   ]
  },
  {
   "cell_type": "code",
   "execution_count": 20,
   "id": "f07e07f3-d686-438c-bf65-f6088a8f5cd0",
   "metadata": {},
   "outputs": [
    {
     "data": {
      "text/plain": [
       "['Venus', 'Earth', 'Mars']"
      ]
     },
     "execution_count": 20,
     "metadata": {},
     "output_type": "execute_result"
    }
   ],
   "source": [
    "short_planets = [planet for planet in planets if len(planet) < 6]\n",
    "short_planets"
   ]
  },
  {
   "cell_type": "code",
   "execution_count": null,
   "id": "315444ae-27cc-4950-bc43-7439e2b646e6",
   "metadata": {},
   "outputs": [],
   "source": []
  },
  {
   "cell_type": "code",
   "execution_count": 2,
   "id": "61079964-0dd8-4223-bf60-23234e3a86a2",
   "metadata": {},
   "outputs": [
    {
     "name": "stdout",
     "output_type": "stream",
     "text": [
      "[True, False]\n"
     ]
    }
   ],
   "source": [
    "a=[]\n",
    "a.append(2>1)\n",
    "a.append(3>5)\n",
    "print(a)"
   ]
  },
  {
   "cell_type": "markdown",
   "id": "ed5e6098-7217-4b1a-bde1-5bf090aa641a",
   "metadata": {},
   "source": [
    "## Strings and Dictionaries"
   ]
  },
  {
   "cell_type": "code",
   "execution_count": 1,
   "id": "8fca357c-213d-48a6-b2cf-888d9aa023d2",
   "metadata": {},
   "outputs": [
    {
     "name": "stdout",
     "output_type": "stream",
     "text": [
      "What's up\n"
     ]
    }
   ],
   "source": [
    "print(\"What's up\")"
   ]
  },
  {
   "cell_type": "code",
   "execution_count": 3,
   "id": "d0d27632-7880-4d11-9b18-29e3b76208f4",
   "metadata": {},
   "outputs": [
    {
     "name": "stdout",
     "output_type": "stream",
     "text": [
      "What's up\n"
     ]
    }
   ],
   "source": [
    "print('What\\'s up')"
   ]
  },
  {
   "cell_type": "code",
   "execution_count": 4,
   "id": "3b5bb02d-269e-42bb-bb97-0184ea24ebdc",
   "metadata": {},
   "outputs": [
    {
     "name": "stdout",
     "output_type": "stream",
     "text": [
      "Hello\n",
      "World\n"
     ]
    }
   ],
   "source": [
    "print(\"Hello\\nWorld\")"
   ]
  },
  {
   "cell_type": "code",
   "execution_count": 5,
   "id": "a0057faa-6558-4c21-8bea-38e17a25b110",
   "metadata": {},
   "outputs": [
    {
     "name": "stdout",
     "output_type": "stream",
     "text": [
      "This is called....\n",
      "      Mathematics\n"
     ]
    }
   ],
   "source": [
    "print('''This is called....\n",
    "      Mathematics''')"
   ]
  },
  {
   "cell_type": "code",
   "execution_count": 6,
   "id": "af2ec58c-46d0-4ca3-8cd2-eb7fc1852912",
   "metadata": {},
   "outputs": [],
   "source": [
    "st=\"Abhishek\""
   ]
  },
  {
   "cell_type": "code",
   "execution_count": 7,
   "id": "552964a5-322e-4430-8600-b67ffcc7ffb2",
   "metadata": {},
   "outputs": [
    {
     "data": {
      "text/plain": [
       "'A'"
      ]
     },
     "execution_count": 7,
     "metadata": {},
     "output_type": "execute_result"
    }
   ],
   "source": [
    "st[0]"
   ]
  },
  {
   "cell_type": "code",
   "execution_count": 8,
   "id": "1eda143a-fb5c-4788-9e2d-fbc8266d6518",
   "metadata": {},
   "outputs": [
    {
     "data": {
      "text/plain": [
       "'Abhishek'"
      ]
     },
     "execution_count": 8,
     "metadata": {},
     "output_type": "execute_result"
    }
   ],
   "source": [
    "st[0::]"
   ]
  },
  {
   "cell_type": "code",
   "execution_count": 10,
   "id": "5fbce67a-a7bd-458d-abf6-dd8b3146d5d1",
   "metadata": {},
   "outputs": [
    {
     "data": {
      "text/plain": [
       "'kehsihbA'"
      ]
     },
     "execution_count": 10,
     "metadata": {},
     "output_type": "execute_result"
    }
   ],
   "source": [
    "st[::-1]"
   ]
  },
  {
   "cell_type": "code",
   "execution_count": 11,
   "id": "00ab0628-7360-443f-a9d9-62bf1e99bcdb",
   "metadata": {},
   "outputs": [
    {
     "data": {
      "text/plain": [
       "'PLUTO IS A PLANET!'"
      ]
     },
     "execution_count": 11,
     "metadata": {},
     "output_type": "execute_result"
    }
   ],
   "source": [
    "claim = \"Pluto is a planet!\"\n",
    "claim.upper()"
   ]
  },
  {
   "cell_type": "code",
   "execution_count": 15,
   "id": "0335591d-d9a2-4e0b-b874-7fa1c8e0973d",
   "metadata": {},
   "outputs": [
    {
     "data": {
      "text/plain": [
       "6"
      ]
     },
     "execution_count": 15,
     "metadata": {},
     "output_type": "execute_result"
    }
   ],
   "source": [
    "claim.index('is')"
   ]
  },
  {
   "cell_type": "code",
   "execution_count": 19,
   "id": "6cc453e2-d535-4833-a587-3ec6f91beee2",
   "metadata": {},
   "outputs": [
    {
     "data": {
      "text/plain": [
       "True"
      ]
     },
     "execution_count": 19,
     "metadata": {},
     "output_type": "execute_result"
    }
   ],
   "source": [
    "claim.startswith(\"Pluto\")"
   ]
  },
  {
   "cell_type": "code",
   "execution_count": 20,
   "id": "be6201cf-c2cf-4ba2-9f8e-1e0ed126f956",
   "metadata": {},
   "outputs": [
    {
     "data": {
      "text/plain": [
       "False"
      ]
     },
     "execution_count": 20,
     "metadata": {},
     "output_type": "execute_result"
    }
   ],
   "source": [
    "claim.endswith(\"planet\")"
   ]
  },
  {
   "cell_type": "code",
   "execution_count": 21,
   "id": "aad7f92e-3381-47a9-8d4d-ad236bd4ae1a",
   "metadata": {},
   "outputs": [
    {
     "data": {
      "text/plain": [
       "True"
      ]
     },
     "execution_count": 21,
     "metadata": {},
     "output_type": "execute_result"
    }
   ],
   "source": [
    "claim.endswith(\"planet!\")"
   ]
  },
  {
   "cell_type": "code",
   "execution_count": 22,
   "id": "d35fe175-438c-4521-82b7-1880557f514f",
   "metadata": {},
   "outputs": [
    {
     "data": {
      "text/plain": [
       "['Pluto', 'is', 'a', 'planet!']"
      ]
     },
     "execution_count": 22,
     "metadata": {},
     "output_type": "execute_result"
    }
   ],
   "source": [
    "claim.split()"
   ]
  },
  {
   "cell_type": "code",
   "execution_count": 23,
   "id": "cbe8aeaa-5ab2-49f7-a3ca-78977dc412e5",
   "metadata": {},
   "outputs": [],
   "source": [
    "date=\"19-08-2005\"\n",
    "date,month,year = date.split(\"-\")"
   ]
  },
  {
   "cell_type": "code",
   "execution_count": 24,
   "id": "494da268-53b4-4779-960f-57197596d0b2",
   "metadata": {},
   "outputs": [
    {
     "name": "stdout",
     "output_type": "stream",
     "text": [
      "19 08 2005\n"
     ]
    }
   ],
   "source": [
    "print(date,month,year)"
   ]
  },
  {
   "cell_type": "code",
   "execution_count": 26,
   "id": "56f9802a-6852-4faf-80ad-231aea17fd73",
   "metadata": {},
   "outputs": [
    {
     "data": {
      "text/plain": [
       "'19/08/2005'"
      ]
     },
     "execution_count": 26,
     "metadata": {},
     "output_type": "execute_result"
    }
   ],
   "source": [
    "'/'.join([date,month,year])"
   ]
  },
  {
   "cell_type": "markdown",
   "id": "419aa4c8-c6bf-4d27-ae00-f4493bbb0073",
   "metadata": {},
   "source": [
    "## Dictionaries"
   ]
  },
  {
   "cell_type": "code",
   "execution_count": 27,
   "id": "6c74a5bb-83ab-4571-8f24-02108ce18dc9",
   "metadata": {},
   "outputs": [],
   "source": [
    "numbers = {'one':1, 'two':2, 'three':3}"
   ]
  },
  {
   "cell_type": "code",
   "execution_count": 29,
   "id": "9801a463-2bb3-4eb6-83da-8ecba3ff7282",
   "metadata": {},
   "outputs": [
    {
     "data": {
      "text/plain": [
       "1"
      ]
     },
     "execution_count": 29,
     "metadata": {},
     "output_type": "execute_result"
    }
   ],
   "source": [
    "numbers['one']"
   ]
  },
  {
   "cell_type": "code",
   "execution_count": 30,
   "id": "1faaa64c-0284-4cc2-837a-f033347e02ec",
   "metadata": {},
   "outputs": [
    {
     "data": {
      "text/plain": [
       "3"
      ]
     },
     "execution_count": 30,
     "metadata": {},
     "output_type": "execute_result"
    }
   ],
   "source": [
    "numbers['three']"
   ]
  },
  {
   "cell_type": "code",
   "execution_count": 31,
   "id": "e36c487b-5cb6-4501-bc08-46f0d31ef337",
   "metadata": {},
   "outputs": [],
   "source": [
    "numbers['eleven'] = 11"
   ]
  },
  {
   "cell_type": "code",
   "execution_count": 32,
   "id": "96051ca2-0320-452c-af0f-323dc57dfeb2",
   "metadata": {},
   "outputs": [
    {
     "data": {
      "text/plain": [
       "{'one': 1, 'two': 2, 'three': 3, 'eleven': 11}"
      ]
     },
     "execution_count": 32,
     "metadata": {},
     "output_type": "execute_result"
    }
   ],
   "source": [
    "numbers"
   ]
  },
  {
   "cell_type": "code",
   "execution_count": 33,
   "id": "0493e4c1-001e-439a-8f85-d4534215a7fc",
   "metadata": {},
   "outputs": [
    {
     "data": {
      "text/plain": [
       "{'Mercury': 'M',\n",
       " 'Venus': 'V',\n",
       " 'Earth': 'E',\n",
       " 'Mars': 'M',\n",
       " 'Jupiter': 'J',\n",
       " 'Saturn': 'S',\n",
       " 'Uranus': 'U',\n",
       " 'Neptune': 'N'}"
      ]
     },
     "execution_count": 33,
     "metadata": {},
     "output_type": "execute_result"
    }
   ],
   "source": [
    "planets = ['Mercury', 'Venus', 'Earth', 'Mars', 'Jupiter', 'Saturn', 'Uranus', 'Neptune']\n",
    "planet_to_initial = {planet: planet[0] for planet in planets}\n",
    "planet_to_initial"
   ]
  },
  {
   "cell_type": "code",
   "execution_count": 34,
   "id": "ed1290d0-1974-4a45-918d-92175506c5b4",
   "metadata": {},
   "outputs": [
    {
     "data": {
      "text/plain": [
       "True"
      ]
     },
     "execution_count": 34,
     "metadata": {},
     "output_type": "execute_result"
    }
   ],
   "source": [
    "'Saturn' in planet_to_initial"
   ]
  },
  {
   "cell_type": "code",
   "execution_count": 36,
   "id": "04dd9fb5-0ab7-4100-83b7-d68f79307217",
   "metadata": {},
   "outputs": [
    {
     "data": {
      "text/plain": [
       "1"
      ]
     },
     "execution_count": 36,
     "metadata": {},
     "output_type": "execute_result"
    }
   ],
   "source": [
    "len('\\n')"
   ]
  },
  {
   "cell_type": "code",
   "execution_count": 46,
   "id": "229d8dcb-c33d-43dd-82d7-1349f29406c1",
   "metadata": {},
   "outputs": [
    {
     "data": {
      "text/plain": [
       "True"
      ]
     },
     "execution_count": 46,
     "metadata": {},
     "output_type": "execute_result"
    }
   ],
   "source": [
    "'2345'.isdigit()"
   ]
  },
  {
   "cell_type": "code",
   "execution_count": null,
   "id": "38700bf7-c840-4aa8-9ab6-782b74061666",
   "metadata": {},
   "outputs": [],
   "source": []
  }
 ],
 "metadata": {
  "kernelspec": {
   "display_name": "Python 3 (ipykernel)",
   "language": "python",
   "name": "python3"
  },
  "language_info": {
   "codemirror_mode": {
    "name": "ipython",
    "version": 3
   },
   "file_extension": ".py",
   "mimetype": "text/x-python",
   "name": "python",
   "nbconvert_exporter": "python",
   "pygments_lexer": "ipython3",
   "version": "3.12.4"
  }
 },
 "nbformat": 4,
 "nbformat_minor": 5
}
