{
 "cells": [
  {
   "cell_type": "markdown",
   "id": "4deedd18-5c20-4b66-89d5-dfe144e2874c",
   "metadata": {},
   "source": [
    "## File Handling "
   ]
  },
  {
   "cell_type": "code",
   "execution_count": 11,
   "id": "7c0ff168-ec82-4a3a-a56e-043c9ce5289b",
   "metadata": {},
   "outputs": [],
   "source": [
    "f = open(\"Abhi.txt\",\"r\")"
   ]
  },
  {
   "cell_type": "code",
   "execution_count": 12,
   "id": "8479c1cf-907f-42ae-b251-5897ff6c7c46",
   "metadata": {},
   "outputs": [],
   "source": [
    "#f.read()"
   ]
  },
  {
   "cell_type": "code",
   "execution_count": 13,
   "id": "f5f6f98b-7148-4fd3-b5b7-7fda6f9ba2ca",
   "metadata": {},
   "outputs": [],
   "source": [
    "#f.close()"
   ]
  },
  {
   "cell_type": "code",
   "execution_count": 14,
   "id": "49ec35f9-0fa1-479f-8067-d6b409d9dd07",
   "metadata": {},
   "outputs": [
    {
     "name": "stdout",
     "output_type": "stream",
     "text": [
      "Welcome to the Python Programming Class.\n",
      "This is Abhishek.\n",
      "I am a student at Indian Institute of Technology.\n"
     ]
    }
   ],
   "source": [
    "txt= f.read()\n",
    "print(txt)"
   ]
  },
  {
   "cell_type": "code",
   "execution_count": 19,
   "id": "c3a89371-bd17-4c89-9a32-1b3b0622deeb",
   "metadata": {},
   "outputs": [
    {
     "data": {
      "text/plain": [
       "36"
      ]
     },
     "execution_count": 19,
     "metadata": {},
     "output_type": "execute_result"
    }
   ],
   "source": [
    "f = open(\"myfile.txt\",\"w\")\n",
    "f.write(\"This is myfile\\n It contains my notes\")"
   ]
  },
  {
   "cell_type": "code",
   "execution_count": 20,
   "id": "bd144e33-37b2-46f1-90e8-9a26dc0857ed",
   "metadata": {},
   "outputs": [
    {
     "name": "stdout",
     "output_type": "stream",
     "text": [
      "This is myfile\n",
      " It contains my notes\n"
     ]
    }
   ],
   "source": [
    "fl = open(\"myfile.txt\",\"r\")\n",
    "tx = fl.read()\n",
    "print(tx)"
   ]
  },
  {
   "cell_type": "code",
   "execution_count": 22,
   "id": "5575a102-ce60-4141-b9b7-44788dadd6c2",
   "metadata": {},
   "outputs": [
    {
     "data": {
      "text/plain": [
       "46"
      ]
     },
     "execution_count": 22,
     "metadata": {},
     "output_type": "execute_result"
    }
   ],
   "source": [
    "fl = open(\"myfile.txt\",\"a\")\n",
    "fl.write(\"This is additional information for append mode\")"
   ]
  },
  {
   "cell_type": "code",
   "execution_count": 23,
   "id": "153e81db-1fdd-4a32-830a-fdab99641b14",
   "metadata": {},
   "outputs": [
    {
     "name": "stdout",
     "output_type": "stream",
     "text": [
      "This is myfile\n",
      " It contains my notesThis is additional information for append modeThis is additional information for append mode\n"
     ]
    }
   ],
   "source": [
    "fl = open(\"myfile.txt\",\"r\")\n",
    "t = fl.read()\n",
    "print(t)"
   ]
  },
  {
   "cell_type": "code",
   "execution_count": 24,
   "id": "4e2ca10e-143b-4f68-8a39-d9156fec3ded",
   "metadata": {},
   "outputs": [],
   "source": [
    "fl.close()"
   ]
  },
  {
   "cell_type": "code",
   "execution_count": 29,
   "id": "9182f323-0ec2-4e77-9312-525f09e9ef20",
   "metadata": {},
   "outputs": [],
   "source": [
    "with open(\"myfile.txt\",\"w\") as f:\n",
    "    f.write(\"\\n This is with statement\")"
   ]
  },
  {
   "cell_type": "code",
   "execution_count": 32,
   "id": "2801c291-3dd9-4ee2-b216-47824595c8a8",
   "metadata": {},
   "outputs": [],
   "source": [
    "with open(\"myfile.txt\",\"a\") as f:\n",
    "    f.write(\"\\n Hello, this is some extra information\")"
   ]
  },
  {
   "cell_type": "code",
   "execution_count": 33,
   "id": "84ae9c51-ea21-4411-9167-d5d8b02d6d3c",
   "metadata": {},
   "outputs": [
    {
     "name": "stdout",
     "output_type": "stream",
     "text": [
      "\n",
      " This is with statement\n",
      " Hello, this is some extra information\n"
     ]
    }
   ],
   "source": [
    "with open(\"myfile.txt\",\"r\") as f:\n",
    "    a = f.read()\n",
    "    print(a)"
   ]
  },
  {
   "cell_type": "code",
   "execution_count": 37,
   "id": "be768d7d-30b2-4063-b41f-2c52627b085e",
   "metadata": {},
   "outputs": [
    {
     "name": "stdout",
     "output_type": "stream",
     "text": [
      "<class 'map'>\n"
     ]
    }
   ],
   "source": [
    "def sq(a):\n",
    "    return a*a\n",
    "lis = [1,2,3,4,5,6]\n",
    "l = map(sq,lis)\n",
    "print(type(l))"
   ]
  },
  {
   "cell_type": "code",
   "execution_count": 39,
   "id": "cee6660b-8255-4b8a-9983-ec5a28a0d305",
   "metadata": {},
   "outputs": [
    {
     "name": "stdout",
     "output_type": "stream",
     "text": [
      "[1, 4, 9, 16, 25, 36]\n"
     ]
    }
   ],
   "source": [
    "def sq(a):\n",
    "    return a*a\n",
    "lis = [1,2,3,4,5,6]\n",
    "l = list(map(sq,lis))\n",
    "print(l)\n"
   ]
  },
  {
   "cell_type": "code",
   "execution_count": 40,
   "id": "dac150bb-14a9-4a53-9305-bbeeaea7ddca",
   "metadata": {},
   "outputs": [
    {
     "data": {
      "text/plain": [
       "'Welcome to the Python Programming Class.\\n'"
      ]
     },
     "execution_count": 40,
     "metadata": {},
     "output_type": "execute_result"
    }
   ],
   "source": [
    "f= open(\"Abhi.txt\",\"r\")\n",
    "f.readline()"
   ]
  },
  {
   "cell_type": "code",
   "execution_count": 41,
   "id": "9a5f2dd7-db26-4299-a215-6c41036adcbf",
   "metadata": {},
   "outputs": [
    {
     "data": {
      "text/plain": [
       "'This is Abhishek.\\n'"
      ]
     },
     "execution_count": 41,
     "metadata": {},
     "output_type": "execute_result"
    }
   ],
   "source": [
    "f.readline()"
   ]
  },
  {
   "cell_type": "code",
   "execution_count": 42,
   "id": "33b631dd-e9f0-4437-9064-a36c95f17ac9",
   "metadata": {},
   "outputs": [
    {
     "data": {
      "text/plain": [
       "'I am a student at Indian Institute of Technology.'"
      ]
     },
     "execution_count": 42,
     "metadata": {},
     "output_type": "execute_result"
    }
   ],
   "source": [
    "f.readline()"
   ]
  },
  {
   "cell_type": "code",
   "execution_count": 43,
   "id": "79de2523-5415-4934-9bc5-ecedc80dcfb3",
   "metadata": {},
   "outputs": [
    {
     "data": {
      "text/plain": [
       "''"
      ]
     },
     "execution_count": 43,
     "metadata": {},
     "output_type": "execute_result"
    }
   ],
   "source": [
    "f.readline()"
   ]
  },
  {
   "cell_type": "code",
   "execution_count": 44,
   "id": "ae2d8865-9b69-4c45-8d18-9df57e725e91",
   "metadata": {},
   "outputs": [
    {
     "data": {
      "text/plain": [
       "110"
      ]
     },
     "execution_count": 44,
     "metadata": {},
     "output_type": "execute_result"
    }
   ],
   "source": [
    "f.tell()"
   ]
  },
  {
   "cell_type": "code",
   "execution_count": 46,
   "id": "0b6b3fa3-da37-4e28-b5fa-edea7353a2c6",
   "metadata": {},
   "outputs": [
    {
     "data": {
      "text/plain": [
       "0"
      ]
     },
     "execution_count": 46,
     "metadata": {},
     "output_type": "execute_result"
    }
   ],
   "source": [
    "f.seek(0)"
   ]
  },
  {
   "cell_type": "code",
   "execution_count": 47,
   "id": "3780e740-1012-46c6-964a-737266a44779",
   "metadata": {},
   "outputs": [
    {
     "data": {
      "text/plain": [
       "'Welcome to the Python Programming Class.\\n'"
      ]
     },
     "execution_count": 47,
     "metadata": {},
     "output_type": "execute_result"
    }
   ],
   "source": [
    "f.readline()"
   ]
  },
  {
   "cell_type": "code",
   "execution_count": 51,
   "id": "6d82023b-1f8e-4c74-b0d8-a8983f144a10",
   "metadata": {},
   "outputs": [
    {
     "data": {
      "text/plain": [
       "53"
      ]
     },
     "execution_count": 51,
     "metadata": {},
     "output_type": "execute_result"
    }
   ],
   "source": [
    "f.tell()"
   ]
  },
  {
   "cell_type": "code",
   "execution_count": 52,
   "id": "0a313f45-74df-4d1d-bf60-e8fe5e09342c",
   "metadata": {},
   "outputs": [
    {
     "data": {
      "text/plain": [
       "0"
      ]
     },
     "execution_count": 52,
     "metadata": {},
     "output_type": "execute_result"
    }
   ],
   "source": [
    "f.seek(0)"
   ]
  },
  {
   "cell_type": "code",
   "execution_count": 54,
   "id": "d5c1c342-e58a-4e54-96fd-393f4450c727",
   "metadata": {},
   "outputs": [
    {
     "data": {
      "text/plain": [
       "0"
      ]
     },
     "execution_count": 54,
     "metadata": {},
     "output_type": "execute_result"
    }
   ],
   "source": [
    "f.tell()"
   ]
  },
  {
   "cell_type": "code",
   "execution_count": 55,
   "id": "46c78ce7-5dc3-4d5c-9fe1-60b959882c3d",
   "metadata": {},
   "outputs": [
    {
     "data": {
      "text/plain": [
       "'Welcome to the Pytho'"
      ]
     },
     "execution_count": 55,
     "metadata": {},
     "output_type": "execute_result"
    }
   ],
   "source": [
    "f.readline(20)"
   ]
  },
  {
   "cell_type": "code",
   "execution_count": 56,
   "id": "eec0cd42-85ab-48d9-a9a0-5d86d213af3d",
   "metadata": {},
   "outputs": [
    {
     "data": {
      "text/plain": [
       "'n Programming Class.'"
      ]
     },
     "execution_count": 56,
     "metadata": {},
     "output_type": "execute_result"
    }
   ],
   "source": [
    "f.readline(20)"
   ]
  },
  {
   "cell_type": "code",
   "execution_count": 57,
   "id": "c2ee9612-6e85-42ea-bdf9-06de1e9cc7a8",
   "metadata": {},
   "outputs": [
    {
     "data": {
      "text/plain": [
       "0"
      ]
     },
     "execution_count": 57,
     "metadata": {},
     "output_type": "execute_result"
    }
   ],
   "source": [
    "f.seek(0)"
   ]
  },
  {
   "cell_type": "code",
   "execution_count": 58,
   "id": "ffc857c1-0d9d-4dd7-8371-5dd3e6fbf2ab",
   "metadata": {},
   "outputs": [
    {
     "data": {
      "text/plain": [
       "['Welcome to the Python Programming Class.\\n',\n",
       " 'This is Abhishek.\\n',\n",
       " 'I am a student at Indian Institute of Technology.']"
      ]
     },
     "execution_count": 58,
     "metadata": {},
     "output_type": "execute_result"
    }
   ],
   "source": [
    "f.readlines()"
   ]
  },
  {
   "cell_type": "code",
   "execution_count": 59,
   "id": "0eb9656f-093e-4e25-bfcb-a1c5da4e8405",
   "metadata": {},
   "outputs": [
    {
     "data": {
      "text/plain": [
       "[]"
      ]
     },
     "execution_count": 59,
     "metadata": {},
     "output_type": "execute_result"
    }
   ],
   "source": [
    "f.readlines()"
   ]
  },
  {
   "cell_type": "code",
   "execution_count": 60,
   "id": "0c02a5e6-3966-492a-9b62-64960903873d",
   "metadata": {},
   "outputs": [
    {
     "data": {
      "text/plain": [
       "110"
      ]
     },
     "execution_count": 60,
     "metadata": {},
     "output_type": "execute_result"
    }
   ],
   "source": [
    "f.tell()"
   ]
  },
  {
   "cell_type": "code",
   "execution_count": 61,
   "id": "3690483e-efd0-48d8-8f7d-0ed53522bfcf",
   "metadata": {},
   "outputs": [
    {
     "data": {
      "text/plain": [
       "0"
      ]
     },
     "execution_count": 61,
     "metadata": {},
     "output_type": "execute_result"
    }
   ],
   "source": [
    "f.seek(0)"
   ]
  },
  {
   "cell_type": "code",
   "execution_count": 62,
   "id": "9ac0f524-4258-4b45-aad6-2831fe67cf3d",
   "metadata": {},
   "outputs": [
    {
     "name": "stdout",
     "output_type": "stream",
     "text": [
      "['Welcome to the Python Programming Class.\\n', 'This is Abhishek.\\n', 'I am a student at Indian Institute of Technology.']\n"
     ]
    }
   ],
   "source": [
    "t=f.readlines()\n",
    "print(t)"
   ]
  },
  {
   "cell_type": "code",
   "execution_count": 63,
   "id": "961e16b1-6568-45c2-aad2-28562228eab0",
   "metadata": {},
   "outputs": [
    {
     "data": {
      "text/plain": [
       "list"
      ]
     },
     "execution_count": 63,
     "metadata": {},
     "output_type": "execute_result"
    }
   ],
   "source": [
    "type(t)"
   ]
  },
  {
   "cell_type": "code",
   "execution_count": 64,
   "id": "8c84a308-60f0-4cda-8567-8326751fc8cc",
   "metadata": {},
   "outputs": [
    {
     "data": {
      "text/plain": [
       "110"
      ]
     },
     "execution_count": 64,
     "metadata": {},
     "output_type": "execute_result"
    }
   ],
   "source": [
    "f.tell()"
   ]
  },
  {
   "cell_type": "code",
   "execution_count": 65,
   "id": "dc90f1ff-8b92-4341-85cb-69c057e00a6c",
   "metadata": {},
   "outputs": [
    {
     "data": {
      "text/plain": [
       "0"
      ]
     },
     "execution_count": 65,
     "metadata": {},
     "output_type": "execute_result"
    }
   ],
   "source": [
    "f.seek(0)"
   ]
  },
  {
   "cell_type": "code",
   "execution_count": 66,
   "id": "d686e6fa-8232-46f9-b27a-9fdc3d07bee6",
   "metadata": {},
   "outputs": [],
   "source": [
    "f.close()"
   ]
  },
  {
   "cell_type": "code",
   "execution_count": 67,
   "id": "f0b5e60f-82ef-4096-9b4b-0af258a56377",
   "metadata": {},
   "outputs": [
    {
     "ename": "ValueError",
     "evalue": "I/O operation on closed file.",
     "output_type": "error",
     "traceback": [
      "\u001b[1;31m---------------------------------------------------------------------------\u001b[0m",
      "\u001b[1;31mValueError\u001b[0m                                Traceback (most recent call last)",
      "Cell \u001b[1;32mIn[67], line 1\u001b[0m\n\u001b[1;32m----> 1\u001b[0m \u001b[43mf\u001b[49m\u001b[38;5;241;43m.\u001b[39;49m\u001b[43mreadline\u001b[49m\u001b[43m(\u001b[49m\u001b[43m)\u001b[49m\n",
      "\u001b[1;31mValueError\u001b[0m: I/O operation on closed file."
     ]
    }
   ],
   "source": [
    "f.readline()"
   ]
  },
  {
   "cell_type": "code",
   "execution_count": 68,
   "id": "e8f91058-6d9a-4b45-8337-8c4ca63b0da5",
   "metadata": {},
   "outputs": [],
   "source": [
    "fl  = open(\"myfile.txt\",\"a\")"
   ]
  },
  {
   "cell_type": "code",
   "execution_count": 70,
   "id": "8c3d0360-09ad-4351-bb5f-5a7d79cf346c",
   "metadata": {},
   "outputs": [],
   "source": [
    "l = [\"this is pen\", \"\\nthis is car\", \"\\n this is book\"]"
   ]
  },
  {
   "cell_type": "code",
   "execution_count": 71,
   "id": "2d9fd62f-ffdf-4422-8022-bbcee7af6496",
   "metadata": {},
   "outputs": [],
   "source": [
    "fl.writelines(l)"
   ]
  },
  {
   "cell_type": "code",
   "execution_count": 72,
   "id": "c397061d-4423-4f62-803a-252046d3ffe7",
   "metadata": {},
   "outputs": [],
   "source": [
    "fl  = open(\"myfile.txt\",\"r\")"
   ]
  },
  {
   "cell_type": "code",
   "execution_count": 73,
   "id": "7901c913-ebb6-4c6f-b977-b87a45cb641e",
   "metadata": {},
   "outputs": [
    {
     "data": {
      "text/plain": [
       "['\\n',\n",
       " ' This is with statement\\n',\n",
       " ' Hello, this is some extra informationthis is pen\\n',\n",
       " 'this is car\\n',\n",
       " ' this is book']"
      ]
     },
     "execution_count": 73,
     "metadata": {},
     "output_type": "execute_result"
    }
   ],
   "source": [
    "fl.readlines()"
   ]
  },
  {
   "cell_type": "code",
   "execution_count": 74,
   "id": "38ddac69-72da-45e5-a626-f2abe6d6d2c6",
   "metadata": {},
   "outputs": [
    {
     "data": {
      "text/plain": [
       "''"
      ]
     },
     "execution_count": 74,
     "metadata": {},
     "output_type": "execute_result"
    }
   ],
   "source": [
    "fl.readline()"
   ]
  },
  {
   "cell_type": "code",
   "execution_count": 75,
   "id": "fd5edb78-1586-4dfc-b700-c79350847c71",
   "metadata": {},
   "outputs": [
    {
     "data": {
      "text/plain": [
       "0"
      ]
     },
     "execution_count": 75,
     "metadata": {},
     "output_type": "execute_result"
    }
   ],
   "source": [
    "fl.seek(0)"
   ]
  },
  {
   "cell_type": "code",
   "execution_count": 76,
   "id": "d081064b-d76f-40ec-ade9-37f5ef634d6a",
   "metadata": {},
   "outputs": [
    {
     "data": {
      "text/plain": [
       "'\\n'"
      ]
     },
     "execution_count": 76,
     "metadata": {},
     "output_type": "execute_result"
    }
   ],
   "source": [
    "fl.readline()"
   ]
  },
  {
   "cell_type": "code",
   "execution_count": 77,
   "id": "0d04dce9-9f16-4c87-af99-0cdfca15d87e",
   "metadata": {},
   "outputs": [
    {
     "data": {
      "text/plain": [
       "' This is with statement\\n'"
      ]
     },
     "execution_count": 77,
     "metadata": {},
     "output_type": "execute_result"
    }
   ],
   "source": [
    "fl.readline()"
   ]
  },
  {
   "cell_type": "code",
   "execution_count": 78,
   "id": "d3c786bb-0706-4899-91cb-3d021dc8af3c",
   "metadata": {},
   "outputs": [
    {
     "data": {
      "text/plain": [
       "True"
      ]
     },
     "execution_count": 78,
     "metadata": {},
     "output_type": "execute_result"
    }
   ],
   "source": [
    "fl.readable()"
   ]
  },
  {
   "cell_type": "code",
   "execution_count": 79,
   "id": "dae750f8-9991-4d18-bafa-5e1ab7e94d8e",
   "metadata": {},
   "outputs": [
    {
     "data": {
      "text/plain": [
       "False"
      ]
     },
     "execution_count": 79,
     "metadata": {},
     "output_type": "execute_result"
    }
   ],
   "source": [
    "fl.writable()"
   ]
  },
  {
   "cell_type": "code",
   "execution_count": 80,
   "id": "f6fd3f20-1375-4aa3-8c2c-045a705b9f06",
   "metadata": {},
   "outputs": [
    {
     "data": {
      "text/plain": [
       "_io.TextIOWrapper"
      ]
     },
     "execution_count": 80,
     "metadata": {},
     "output_type": "execute_result"
    }
   ],
   "source": [
    "type(fl)"
   ]
  },
  {
   "cell_type": "code",
   "execution_count": 81,
   "id": "b55ac8a5-9475-4080-9646-2c1e62e98fb3",
   "metadata": {},
   "outputs": [
    {
     "name": "stdout",
     "output_type": "stream",
     "text": [
      "<class '_io.TextIOWrapper'>\n"
     ]
    }
   ],
   "source": [
    "print(type(fl))"
   ]
  },
  {
   "cell_type": "code",
   "execution_count": 82,
   "id": "32ec88b4-9eb2-462d-ad4e-2ce0d3a20335",
   "metadata": {},
   "outputs": [],
   "source": [
    "f = open(\"Abhi.txt\",\"r\")"
   ]
  },
  {
   "cell_type": "code",
   "execution_count": 83,
   "id": "ad02442b-cc76-4d0b-8c37-d4f81496f0a2",
   "metadata": {},
   "outputs": [
    {
     "data": {
      "text/plain": [
       "_io.TextIOWrapper"
      ]
     },
     "execution_count": 83,
     "metadata": {},
     "output_type": "execute_result"
    }
   ],
   "source": [
    "type(f)"
   ]
  },
  {
   "cell_type": "code",
   "execution_count": 84,
   "id": "9d88e99d-fb13-4e98-90ca-180d5ed36f93",
   "metadata": {},
   "outputs": [
    {
     "name": "stdout",
     "output_type": "stream",
     "text": [
      "<class 'str'>\n",
      "Welcome to the Python Programming Class.\n",
      "\n"
     ]
    }
   ],
   "source": [
    "x = f.readline()\n",
    "print(type(x))\n",
    "print(x)"
   ]
  },
  {
   "cell_type": "code",
   "execution_count": null,
   "id": "7a2be63e-7425-48f6-b31c-f28263929e6e",
   "metadata": {},
   "outputs": [],
   "source": []
  }
 ],
 "metadata": {
  "kernelspec": {
   "display_name": "Python 3 (ipykernel)",
   "language": "python",
   "name": "python3"
  },
  "language_info": {
   "codemirror_mode": {
    "name": "ipython",
    "version": 3
   },
   "file_extension": ".py",
   "mimetype": "text/x-python",
   "name": "python",
   "nbconvert_exporter": "python",
   "pygments_lexer": "ipython3",
   "version": "3.12.4"
  }
 },
 "nbformat": 4,
 "nbformat_minor": 5
}
