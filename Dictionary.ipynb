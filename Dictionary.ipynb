{
 "cells": [
  {
   "cell_type": "markdown",
   "id": "01bf9a9c-ecab-4662-a5c1-6b25e8b06503",
   "metadata": {},
   "source": [
    "### Type Casting Practice"
   ]
  },
  {
   "cell_type": "code",
   "execution_count": 1,
   "id": "bdee7c19-2cf3-4e96-aca6-44f8b693f5e4",
   "metadata": {},
   "outputs": [],
   "source": [
    "sett  ={1,4,6,7,8,9,5,6}"
   ]
  },
  {
   "cell_type": "code",
   "execution_count": 2,
   "id": "d2a00843-f36b-43f6-b0fb-ca25ef878529",
   "metadata": {},
   "outputs": [
    {
     "data": {
      "text/plain": [
       "{1, 4, 5, 6, 7, 8, 9}"
      ]
     },
     "execution_count": 2,
     "metadata": {},
     "output_type": "execute_result"
    }
   ],
   "source": [
    "sett"
   ]
  },
  {
   "cell_type": "code",
   "execution_count": 4,
   "id": "27202ce6-82e4-444e-bd00-44039d9ddf3b",
   "metadata": {},
   "outputs": [
    {
     "name": "stdout",
     "output_type": "stream",
     "text": [
      "[1, 4, 5, 6, 7, 8, 9]\n"
     ]
    }
   ],
   "source": [
    "## set to list\n",
    "a = list(sett)\n",
    "print(a)"
   ]
  },
  {
   "cell_type": "code",
   "execution_count": 8,
   "id": "93462dc1-c471-414a-bcef-570d1010788f",
   "metadata": {},
   "outputs": [
    {
     "name": "stdout",
     "output_type": "stream",
     "text": [
      "(1, 4, 5, 6, 7, 8, 9)\n",
      "<class 'tuple'>\n"
     ]
    }
   ],
   "source": [
    "## set to tuple\n",
    "b = tuple(sett)\n",
    "print(b)\n",
    "print(type(b))"
   ]
  },
  {
   "cell_type": "code",
   "execution_count": 7,
   "id": "1008b429-2727-4496-a412-a7f9a99662a8",
   "metadata": {},
   "outputs": [
    {
     "name": "stdout",
     "output_type": "stream",
     "text": [
      "{1, 4, 5, 6, 7, 8, 9}\n",
      "<class 'str'>\n"
     ]
    }
   ],
   "source": [
    "## set to string\n",
    "c = str(sett)\n",
    "print(c)\n",
    "print(type(c))"
   ]
  },
  {
   "cell_type": "code",
   "execution_count": 10,
   "id": "c5ab1b5a-4a3d-4ea1-b9b4-f93c458434bf",
   "metadata": {},
   "outputs": [
    {
     "name": "stdout",
     "output_type": "stream",
     "text": [
      "{1, 5, 6, 7, 8}\n",
      "<class 'set'>\n"
     ]
    }
   ],
   "source": [
    "## list to set \n",
    "d = [1,5,6,7,8]\n",
    "e= set(d)\n",
    "print(e)\n",
    "print(type(e))"
   ]
  },
  {
   "cell_type": "code",
   "execution_count": 11,
   "id": "2bf7d277-774c-4195-9165-677e57038dc1",
   "metadata": {},
   "outputs": [
    {
     "name": "stdout",
     "output_type": "stream",
     "text": [
      "(1, 5, 6, 7, 8)\n",
      "<class 'tuple'>\n"
     ]
    }
   ],
   "source": [
    "## list to tuple\n",
    "d = [1,5,6,7,8]\n",
    "f= tuple(d)\n",
    "print(f)\n",
    "print(type(f))"
   ]
  },
  {
   "cell_type": "code",
   "execution_count": 12,
   "id": "21950a0f-adb6-4b89-b1ff-f812ceb6d43e",
   "metadata": {},
   "outputs": [
    {
     "name": "stdout",
     "output_type": "stream",
     "text": [
      "[1, 5, 6, 7, 8]\n",
      "<class 'list'>\n"
     ]
    }
   ],
   "source": [
    "## tuple to list \n",
    "g = (1,5,6,7,8)\n",
    "h = list(g)\n",
    "print(h)\n",
    "print(type(h))"
   ]
  },
  {
   "cell_type": "code",
   "execution_count": 13,
   "id": "6c57437c-f752-4e1c-826a-1150ee40544a",
   "metadata": {},
   "outputs": [
    {
     "name": "stdout",
     "output_type": "stream",
     "text": [
      "{1, 5, 6, 7, 8}\n",
      "<class 'set'>\n"
     ]
    }
   ],
   "source": [
    "## tuple to set \n",
    "g = (1,5,6,7,8)\n",
    "h = set(g)\n",
    "print(h)\n",
    "print(type(h))"
   ]
  },
  {
   "cell_type": "markdown",
   "id": "e3c76e88-6c4e-45f3-adf2-626a49f9595b",
   "metadata": {},
   "source": [
    "## Dictionary"
   ]
  },
  {
   "cell_type": "code",
   "execution_count": 14,
   "id": "338cccac-dbe5-4f75-a5c3-1efebdfeb595",
   "metadata": {},
   "outputs": [],
   "source": [
    "dic = {\"name\":\"abhi\", \"class\":\"MBA\", \"roll\": 45, \"address\": {\"rahul\": 46, \"shyam\":75,\"jay\":89}}"
   ]
  },
  {
   "cell_type": "code",
   "execution_count": 16,
   "id": "af3343ec-03e5-4d34-acb3-6ecc56881a44",
   "metadata": {},
   "outputs": [
    {
     "data": {
      "text/plain": [
       "'abhi'"
      ]
     },
     "execution_count": 16,
     "metadata": {},
     "output_type": "execute_result"
    }
   ],
   "source": [
    "dic[\"name\"]"
   ]
  },
  {
   "cell_type": "code",
   "execution_count": 17,
   "id": "394f51e0-6f82-4db0-992a-b90828593c17",
   "metadata": {},
   "outputs": [
    {
     "data": {
      "text/plain": [
       "{'rahul': 46, 'shyam': 75, 'jay': 89}"
      ]
     },
     "execution_count": 17,
     "metadata": {},
     "output_type": "execute_result"
    }
   ],
   "source": [
    "dic[\"address\"]"
   ]
  },
  {
   "cell_type": "code",
   "execution_count": 18,
   "id": "79beaada-4286-499e-90e3-f2f9a3743062",
   "metadata": {},
   "outputs": [
    {
     "data": {
      "text/plain": [
       "75"
      ]
     },
     "execution_count": 18,
     "metadata": {},
     "output_type": "execute_result"
    }
   ],
   "source": [
    "dic[\"address\"][\"shyam\"]"
   ]
  },
  {
   "cell_type": "code",
   "execution_count": 19,
   "id": "b4cc9357-05a2-4208-87e5-e05e5a9ef602",
   "metadata": {},
   "outputs": [
    {
     "data": {
      "text/plain": [
       "dict_keys(['name', 'class', 'roll', 'address'])"
      ]
     },
     "execution_count": 19,
     "metadata": {},
     "output_type": "execute_result"
    }
   ],
   "source": [
    "dic.keys()"
   ]
  },
  {
   "cell_type": "code",
   "execution_count": 20,
   "id": "7fe80563-102b-4b1b-98f1-ea433f3da77b",
   "metadata": {},
   "outputs": [
    {
     "data": {
      "text/plain": [
       "dict_values(['abhi', 'MBA', 45, {'rahul': 46, 'shyam': 75, 'jay': 89}])"
      ]
     },
     "execution_count": 20,
     "metadata": {},
     "output_type": "execute_result"
    }
   ],
   "source": [
    "dic.values()"
   ]
  },
  {
   "cell_type": "code",
   "execution_count": 22,
   "id": "1ae13d30-9b31-449e-b62d-253cb6e8fa03",
   "metadata": {},
   "outputs": [
    {
     "data": {
      "text/plain": [
       "dict_items([('name', 'abhi'), ('class', 'MBA'), ('roll', 45), ('address', {'rahul': 46, 'shyam': 75, 'jay': 89})])"
      ]
     },
     "execution_count": 22,
     "metadata": {},
     "output_type": "execute_result"
    }
   ],
   "source": [
    "dic.items()"
   ]
  },
  {
   "cell_type": "code",
   "execution_count": 25,
   "id": "6bea0c4c-a8a7-4ba2-bc7f-3d1eea80fb39",
   "metadata": {},
   "outputs": [
    {
     "name": "stdout",
     "output_type": "stream",
     "text": [
      "name\n",
      "abhi\n",
      "class\n",
      "MBA\n",
      "roll\n",
      "45\n",
      "address\n",
      "{'rahul': 46, 'shyam': 75, 'jay': 89}\n"
     ]
    }
   ],
   "source": [
    "for key, value in dic.items():\n",
    "    print(key)\n",
    "    print(value)"
   ]
  },
  {
   "cell_type": "code",
   "execution_count": 28,
   "id": "b09bfac7-d4e9-4f42-8797-ddee8a62e87b",
   "metadata": {},
   "outputs": [],
   "source": [
    "dic.update({\"roll\":42})"
   ]
  },
  {
   "cell_type": "code",
   "execution_count": 29,
   "id": "ffdf2086-254d-4127-bc27-46d156f6c3b5",
   "metadata": {},
   "outputs": [
    {
     "data": {
      "text/plain": [
       "{'name': 'abhi',\n",
       " 'class': 'MBA',\n",
       " 'roll': 42,\n",
       " 'address': {'rahul': 46, 'shyam': 75, 'jay': 89}}"
      ]
     },
     "execution_count": 29,
     "metadata": {},
     "output_type": "execute_result"
    }
   ],
   "source": [
    "dic"
   ]
  },
  {
   "cell_type": "code",
   "execution_count": 30,
   "id": "8697a206-e9f4-4e6c-ace6-7ebe381aba8d",
   "metadata": {},
   "outputs": [
    {
     "data": {
      "text/plain": [
       "'MBA'"
      ]
     },
     "execution_count": 30,
     "metadata": {},
     "output_type": "execute_result"
    }
   ],
   "source": [
    "dic.pop(\"class\")"
   ]
  },
  {
   "cell_type": "code",
   "execution_count": 31,
   "id": "75911369-d328-4273-94dc-be8d467d95e0",
   "metadata": {},
   "outputs": [
    {
     "data": {
      "text/plain": [
       "{'name': 'abhi', 'roll': 42, 'address': {'rahul': 46, 'shyam': 75, 'jay': 89}}"
      ]
     },
     "execution_count": 31,
     "metadata": {},
     "output_type": "execute_result"
    }
   ],
   "source": [
    "dic"
   ]
  },
  {
   "cell_type": "code",
   "execution_count": 33,
   "id": "7bc76d74-35a2-41c5-b320-69b8f491c9fe",
   "metadata": {},
   "outputs": [
    {
     "name": "stdout",
     "output_type": "stream",
     "text": [
      "['name', 'roll', 'address']\n"
     ]
    }
   ],
   "source": [
    "## storing dic keys into list\n",
    "a = list(dic.keys())\n",
    "print(a)"
   ]
  },
  {
   "cell_type": "code",
   "execution_count": 34,
   "id": "8654cd87-07d5-46a7-a845-766e0863eb8e",
   "metadata": {},
   "outputs": [
    {
     "name": "stdout",
     "output_type": "stream",
     "text": [
      "['abhi', 42, {'rahul': 46, 'shyam': 75, 'jay': 89}]\n"
     ]
    }
   ],
   "source": [
    "## storing dic values into list\n",
    "b = list(dic.values())\n",
    "print(b)"
   ]
  },
  {
   "cell_type": "code",
   "execution_count": 35,
   "id": "04625185-b1fd-407c-89f9-e3b96e83ef30",
   "metadata": {},
   "outputs": [
    {
     "data": {
      "text/plain": [
       "{'rahul': 46, 'shyam': 75, 'jay': 89}"
      ]
     },
     "execution_count": 35,
     "metadata": {},
     "output_type": "execute_result"
    }
   ],
   "source": [
    "b[2]"
   ]
  },
  {
   "cell_type": "code",
   "execution_count": 36,
   "id": "ee994c8f-59bb-4b51-9876-a1e0e2fe52b3",
   "metadata": {},
   "outputs": [
    {
     "data": {
      "text/plain": [
       "dict"
      ]
     },
     "execution_count": 36,
     "metadata": {},
     "output_type": "execute_result"
    }
   ],
   "source": [
    "type(b[2])"
   ]
  },
  {
   "cell_type": "code",
   "execution_count": 37,
   "id": "9f7f83a1-45ee-4c31-a920-77d5b9530989",
   "metadata": {},
   "outputs": [],
   "source": [
    "c = [1,1.23, \"abc\", {\"a\":12,\"b\":23}, {4,5,6,1,2}, (4,5,6)]"
   ]
  },
  {
   "cell_type": "code",
   "execution_count": 38,
   "id": "a15e4f50-128a-4888-a53d-1c8ceed36b1a",
   "metadata": {},
   "outputs": [],
   "source": [
    "## A list can store int, float, str, set, dict, tuple"
   ]
  },
  {
   "cell_type": "code",
   "execution_count": 39,
   "id": "eb1f8039-01da-4e29-abcc-142ea1d8b19d",
   "metadata": {},
   "outputs": [
    {
     "data": {
      "text/plain": [
       "{1, 2, 4, 5, 6}"
      ]
     },
     "execution_count": 39,
     "metadata": {},
     "output_type": "execute_result"
    }
   ],
   "source": [
    "c[4]"
   ]
  },
  {
   "cell_type": "code",
   "execution_count": 42,
   "id": "ce146b04-724c-40f4-8e67-6e4a847e6b4b",
   "metadata": {},
   "outputs": [],
   "source": [
    "d = {\"a\":[1,2,3], \"b\": (4,5,6), \"c\":\"abhisek\", \"d\":45.635, \"e\":{1,2,3,4}}"
   ]
  },
  {
   "cell_type": "code",
   "execution_count": 43,
   "id": "55913af0-2c62-45cf-81a9-e43e8003188a",
   "metadata": {},
   "outputs": [],
   "source": [
    "## A dcitionary can store list, set, tuple, str, float as values"
   ]
  },
  {
   "cell_type": "code",
   "execution_count": 44,
   "id": "64c7fa7e-e7a1-4a12-a13e-48ae2e0de525",
   "metadata": {},
   "outputs": [
    {
     "data": {
      "text/plain": [
       "[1, 2, 3]"
      ]
     },
     "execution_count": 44,
     "metadata": {},
     "output_type": "execute_result"
    }
   ],
   "source": [
    "d[\"a\"]"
   ]
  },
  {
   "cell_type": "code",
   "execution_count": 45,
   "id": "fbede130-5a1a-48c9-b1c5-a6cd6a63efea",
   "metadata": {},
   "outputs": [
    {
     "data": {
      "text/plain": [
       "{1, 2, 3, 4}"
      ]
     },
     "execution_count": 45,
     "metadata": {},
     "output_type": "execute_result"
    }
   ],
   "source": [
    "d[\"e\"]"
   ]
  },
  {
   "cell_type": "code",
   "execution_count": 46,
   "id": "45cadb4a-f6ee-432d-b815-a8f65ee7c569",
   "metadata": {},
   "outputs": [
    {
     "data": {
      "text/plain": [
       "(4, 5, 6)"
      ]
     },
     "execution_count": 46,
     "metadata": {},
     "output_type": "execute_result"
    }
   ],
   "source": [
    "d[\"b\"]"
   ]
  },
  {
   "cell_type": "code",
   "execution_count": 47,
   "id": "e357b05f-513a-4bc1-add2-9f89927e1cfc",
   "metadata": {},
   "outputs": [],
   "source": [
    "## Can a tuple store a dictionary ?"
   ]
  },
  {
   "cell_type": "code",
   "execution_count": 49,
   "id": "bca24a7a-7bf2-4ff2-9d29-89d37cc8ae13",
   "metadata": {},
   "outputs": [],
   "source": [
    "tup = ([1,2,3], {\"a\":56,\"b\":78}, 45, \"acv\", {4,5,6,7})"
   ]
  },
  {
   "cell_type": "code",
   "execution_count": 50,
   "id": "145f673f-3e0b-4f4d-84f4-6b7847bc0e80",
   "metadata": {},
   "outputs": [
    {
     "data": {
      "text/plain": [
       "[1, 2, 3]"
      ]
     },
     "execution_count": 50,
     "metadata": {},
     "output_type": "execute_result"
    }
   ],
   "source": [
    "tup[0]"
   ]
  },
  {
   "cell_type": "code",
   "execution_count": 51,
   "id": "85c11ece-dd01-4497-b14e-a755b30dd6b4",
   "metadata": {},
   "outputs": [
    {
     "data": {
      "text/plain": [
       "{'a': 56, 'b': 78}"
      ]
     },
     "execution_count": 51,
     "metadata": {},
     "output_type": "execute_result"
    }
   ],
   "source": [
    "tup[1]"
   ]
  },
  {
   "cell_type": "code",
   "execution_count": 53,
   "id": "64c6115a-b956-42f2-9b55-09970c100a00",
   "metadata": {},
   "outputs": [
    {
     "data": {
      "text/plain": [
       "56"
      ]
     },
     "execution_count": 53,
     "metadata": {},
     "output_type": "execute_result"
    }
   ],
   "source": [
    "tup[1][\"a\"]"
   ]
  },
  {
   "cell_type": "code",
   "execution_count": 54,
   "id": "05654a68-3e12-4e23-ae09-d558d894f03e",
   "metadata": {},
   "outputs": [],
   "source": [
    "tup[1][\"a\"] = 76"
   ]
  },
  {
   "cell_type": "code",
   "execution_count": 55,
   "id": "2bfef8fb-93eb-425e-9e9b-8e24c19e97c9",
   "metadata": {},
   "outputs": [
    {
     "data": {
      "text/plain": [
       "{'a': 76, 'b': 78}"
      ]
     },
     "execution_count": 55,
     "metadata": {},
     "output_type": "execute_result"
    }
   ],
   "source": [
    "tup[1]"
   ]
  },
  {
   "cell_type": "code",
   "execution_count": 56,
   "id": "a035a43f-167c-41c1-9e3f-637fe8daec6c",
   "metadata": {},
   "outputs": [],
   "source": [
    "## chnages made in the dic insidw tuple"
   ]
  },
  {
   "cell_type": "code",
   "execution_count": 59,
   "id": "768169a8-2def-4c71-b6ed-96ed622bf177",
   "metadata": {},
   "outputs": [],
   "source": [
    "tup[0][1]=20"
   ]
  },
  {
   "cell_type": "code",
   "execution_count": 60,
   "id": "a5c61fe8-fa4b-40ea-8aae-a320c4d0bfd6",
   "metadata": {},
   "outputs": [
    {
     "data": {
      "text/plain": [
       "([1, 20, 3], {'a': 76, 'b': 78}, 45, 'acv', {4, 5, 6, 7})"
      ]
     },
     "execution_count": 60,
     "metadata": {},
     "output_type": "execute_result"
    }
   ],
   "source": [
    "tup"
   ]
  },
  {
   "cell_type": "code",
   "execution_count": 61,
   "id": "5a256dce-fcbe-40d0-a854-2405c2953fd4",
   "metadata": {},
   "outputs": [],
   "source": [
    "## Again changes made in the tuple"
   ]
  },
  {
   "cell_type": "code",
   "execution_count": 62,
   "id": "edcf0aca-3b65-4609-b1d2-6cf601c76d32",
   "metadata": {},
   "outputs": [
    {
     "ename": "TypeError",
     "evalue": "'tuple' object does not support item assignment",
     "output_type": "error",
     "traceback": [
      "\u001b[1;31m---------------------------------------------------------------------------\u001b[0m",
      "\u001b[1;31mTypeError\u001b[0m                                 Traceback (most recent call last)",
      "Cell \u001b[1;32mIn[62], line 1\u001b[0m\n\u001b[1;32m----> 1\u001b[0m \u001b[43mtup\u001b[49m\u001b[43m[\u001b[49m\u001b[38;5;241;43m0\u001b[39;49m\u001b[43m]\u001b[49m\u001b[38;5;241m=\u001b[39m[\u001b[38;5;241m7\u001b[39m,\u001b[38;5;241m8\u001b[39m,\u001b[38;5;241m9\u001b[39m]\n",
      "\u001b[1;31mTypeError\u001b[0m: 'tuple' object does not support item assignment"
     ]
    }
   ],
   "source": [
    "tup[0]=[7,8,9]"
   ]
  },
  {
   "cell_type": "code",
   "execution_count": null,
   "id": "67ce4e53-c983-4bd4-a77f-dba3c69085c1",
   "metadata": {},
   "outputs": [],
   "source": []
  }
 ],
 "metadata": {
  "kernelspec": {
   "display_name": "Python 3 (ipykernel)",
   "language": "python",
   "name": "python3"
  },
  "language_info": {
   "codemirror_mode": {
    "name": "ipython",
    "version": 3
   },
   "file_extension": ".py",
   "mimetype": "text/x-python",
   "name": "python",
   "nbconvert_exporter": "python",
   "pygments_lexer": "ipython3",
   "version": "3.12.4"
  }
 },
 "nbformat": 4,
 "nbformat_minor": 5
}
