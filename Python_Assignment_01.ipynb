{
 "cells": [
  {
   "cell_type": "markdown",
   "id": "e5bde35e-1625-4246-af10-04ad8e4ea553",
   "metadata": {},
   "source": [
    "## Python Assignment -01"
   ]
  },
  {
   "cell_type": "markdown",
   "id": "ea0ee22d-f57c-4d7f-8e7b-392c2d3df8e7",
   "metadata": {},
   "source": [
    "Q1. Write a Python script to solve quadratic equation ax2+bx+c=0. Take user input for a,b and c. Print nature of the roots(real or complex) and print the roots"
   ]
  },
  {
   "cell_type": "markdown",
   "id": "6ebf8d4f-2e0a-4963-b632-1b651c2a560d",
   "metadata": {},
   "source": [
    "### Solution-01"
   ]
  },
  {
   "cell_type": "code",
   "execution_count": 55,
   "id": "ceede7df-5ead-46b2-9dc3-02db23bacb5d",
   "metadata": {},
   "outputs": [
    {
     "name": "stdin",
     "output_type": "stream",
     "text": [
      "Enter value of 'a' in ax2+bx+c=0 : 1\n",
      "Enter value of 'b' in ax2+bx+c=0 : -5\n",
      "Enter value of 'c' in ax2+bx+c=0 : 6\n"
     ]
    },
    {
     "name": "stdout",
     "output_type": "stream",
     "text": [
      "1.0\n",
      "The nature of roots are real and distinct\n",
      "The value of root1 is 3.0 and root2 is 2.0\n"
     ]
    }
   ],
   "source": [
    "import cmath\n",
    "import math\n",
    "\n",
    "a= float(input(\"Enter value of 'a' in ax2+bx+c=0 :\"))\n",
    "b= float(input(\"Enter value of 'b' in ax2+bx+c=0 :\"))\n",
    "c= float(input(\"Enter value of 'c' in ax2+bx+c=0 :\"))\n",
    "\n",
    "if a == 0:\n",
    "    print(\"Value of 'a' can not be 0 !\")\n",
    "else:\n",
    "    D = (b**2)-4*a*c\n",
    "    print(D)\n",
    "    if D == 0:\n",
    "        x1 = (-b + math.sqrt(D))/(2*a)\n",
    "        x2 = (-b - math.sqrt(D))/(2*a)\n",
    "        print(\"The nature of roots are real and equal\")\n",
    "        print(\"The value of root1 is {} and root2 is {}\".format(x1,x2))\n",
    "\n",
    "    elif D>0:\n",
    "        x1 = (-b + math.sqrt(D))/(2*a)\n",
    "        x2 = (-b - math.sqrt(D))/(2*a)\n",
    "        print(\"The nature of roots are real and distinct\")\n",
    "        print(\"The value of root1 is {} and root2 is {}\".format(x1,x2))\n",
    "\n",
    "    else:\n",
    "        x1 = (-b + cmath.sqrt(D))/(2*a)\n",
    "        x2 = (-b - cmath.sqrt(D))/(2*a)   \n",
    "        print(\"The nature of roots are Complex\")\n",
    "        print(\"The value of root1 is {} and root2 is {}\".format(x1,x2))\n",
    "                                  \n",
    "                                "
   ]
  },
  {
   "cell_type": "code",
   "execution_count": null,
   "id": "0c80dee7-d019-4115-ba06-a7bfc0bfa841",
   "metadata": {},
   "outputs": [],
   "source": []
  },
  {
   "cell_type": "markdown",
   "id": "855a3381-8714-47d6-aa5c-f7b44c0289cc",
   "metadata": {},
   "source": [
    "Q2. Write a Python script to find the maximum of three numbers (Take input from users)"
   ]
  },
  {
   "cell_type": "markdown",
   "id": "5a8e6718-fa48-43cc-b1a4-a06f3f7d31b4",
   "metadata": {},
   "source": [
    "### Solution-02"
   ]
  },
  {
   "cell_type": "code",
   "execution_count": 58,
   "id": "b077ff65-3ae4-41de-ae5a-7e4128e650a8",
   "metadata": {},
   "outputs": [
    {
     "name": "stdin",
     "output_type": "stream",
     "text": [
      "Enter number-1 : 15\n",
      "Enter number-2 : -6\n",
      "Enter number-3 : 12\n"
     ]
    },
    {
     "name": "stdout",
     "output_type": "stream",
     "text": [
      "The maximum of the three numbers 15.0, -6.0, and 12.0 is: 15.0\n"
     ]
    }
   ],
   "source": [
    "num1 = float(input(\"Enter number-1 :\"))\n",
    "num2 = float(input(\"Enter number-2 :\"))\n",
    "num3 = float(input(\"Enter number-3 :\"))\n",
    "Max = 0\n",
    "\n",
    "if num1>num2:\n",
    "    if num1>num3:\n",
    "        Max=num1\n",
    "    else:\n",
    "        Max = num3\n",
    "\n",
    "else:\n",
    "    if num2>num3:\n",
    "        Max=num2\n",
    "    else:\n",
    "        Max =num3\n",
    "print(\"The maximum of the three numbers {}, {}, and {} is: {}\".format(num1,num2,num3,Max))"
   ]
  },
  {
   "cell_type": "code",
   "execution_count": null,
   "id": "a25ae43e-60d9-4bf6-9a15-b632e92ed474",
   "metadata": {},
   "outputs": [],
   "source": []
  },
  {
   "cell_type": "markdown",
   "id": "72cd2cfb-d4d1-4ed6-a42c-2be5c21c8fb2",
   "metadata": {},
   "source": [
    "Q3. Write a Python script to take a year as input from the user and print if it is leap year or not."
   ]
  },
  {
   "cell_type": "markdown",
   "id": "686d896c-42fd-4066-8398-44fc5cbb20b4",
   "metadata": {},
   "source": [
    "### Solution-03"
   ]
  },
  {
   "cell_type": "code",
   "execution_count": 61,
   "id": "aa46c81a-b622-459c-a76f-409aeda5d602",
   "metadata": {},
   "outputs": [
    {
     "name": "stdin",
     "output_type": "stream",
     "text": [
      "Enter a year : 2000\n"
     ]
    },
    {
     "name": "stdout",
     "output_type": "stream",
     "text": [
      "2000 is a leap year\n"
     ]
    }
   ],
   "source": [
    "year = int(input(\"Enter a year :\"))\n",
    "\n",
    "if (year%400 )== 0:  \n",
    "    print(\"{} is a leap year\".format(year))\n",
    "elif (year%100==0):\n",
    "    print(\"{} is a Not a leap year\".format(year))\n",
    "\n",
    "elif (year%4==0):\n",
    "    print(\"{} is a leap year\".format(year))\n",
    "\n",
    "else:\n",
    "    print(\"{} is a Not a leap year\".format(year))\n",
    "    "
   ]
  },
  {
   "cell_type": "code",
   "execution_count": null,
   "id": "be7211ee-fa61-42c9-becb-0461246e96b4",
   "metadata": {},
   "outputs": [],
   "source": []
  },
  {
   "cell_type": "markdown",
   "id": "96a2cf79-6e36-49f7-bdbe-8a1f8abe5e06",
   "metadata": {},
   "source": [
    "Q4. Write a Python script that accept a day of a week (Sunday through Monday) as a day and a number x.\n",
    "Determine what day of the week it will be x days after the given day."
   ]
  },
  {
   "cell_type": "markdown",
   "id": "175ba193-cb98-4f0a-9a11-393a4471ecac",
   "metadata": {},
   "source": [
    "### Solution-04"
   ]
  },
  {
   "cell_type": "code",
   "execution_count": 84,
   "id": "b7fabcbd-8326-4c22-9ea9-30e0d242064b",
   "metadata": {},
   "outputs": [
    {
     "name": "stdin",
     "output_type": "stream",
     "text": [
      "Enter any day (Sunday to Monday):  monday\n"
     ]
    },
    {
     "name": "stdout",
     "output_type": "stream",
     "text": [
      "Monday\n"
     ]
    },
    {
     "name": "stdin",
     "output_type": "stream",
     "text": [
      "Enter a number x : 13\n"
     ]
    },
    {
     "name": "stdout",
     "output_type": "stream",
     "text": [
      "Sunday\n"
     ]
    }
   ],
   "source": [
    "input_day = input(\"Enter any day (Sunday to Monday): \")\n",
    "day= input_day.title()\n",
    "print(day)\n",
    "dic = {\"Sunday\":0,\"Monday\":1, \"Tuesday\":2,\"Wednesday\":3,\"Thursday\":4,\"Friday\":5,\"Saturday\":6}\n",
    "if day not in dic.keys():\n",
    "    print(\"Enter correct day !\")\n",
    "else:    \n",
    "    x = int(input(\"Enter a number x :\"))\n",
    "    output =  dic[day]+ x\n",
    "    index = output%7\n",
    "    #print(index)\n",
    "    for key,value in dic.items():\n",
    "        if value==index:\n",
    "            print(key)\n"
   ]
  },
  {
   "cell_type": "markdown",
   "id": "1404ea98-a040-4dc5-94f2-0cb6c3031918",
   "metadata": {},
   "source": [
    "### Solution-05"
   ]
  },
  {
   "cell_type": "code",
   "execution_count": 57,
   "id": "26d1a99f-c6b1-46b4-865c-b7dc66c57f58",
   "metadata": {},
   "outputs": [
    {
     "name": "stdout",
     "output_type": "stream",
     "text": [
      "Welcome to the Mathematics International Conference\n",
      "Venue - Hall-A, IIT Mandi\n",
      "Date- 25-10-2024\n",
      "Registation Fees - INR 5000\n"
     ]
    },
    {
     "name": "stdin",
     "output_type": "stream",
     "text": [
      "Do you want to register for the conference ? Press 1 for Yes, 0 for No 1\n",
      "Enter your date of registration (YYYY-MM-DD) : 2024-9-10\n"
     ]
    },
    {
     "name": "stdout",
     "output_type": "stream",
     "text": [
      "45 days to go for the conference\n"
     ]
    },
    {
     "name": "stdin",
     "output_type": "stream",
     "text": [
      "Are you a student from CS-571 ? 1 for Yes/ 0 for No 1\n"
     ]
    },
    {
     "name": "stdout",
     "output_type": "stream",
     "text": [
      "congratulations ! You are eligible for 25% discount.\n",
      "You have to pay 3750.0 as your registration fee for the conference\n"
     ]
    }
   ],
   "source": [
    "from datetime import datetime\n",
    "print('''Welcome to the Mathematics International Conference\n",
    "Venue - Hall-A, IIT Mandi\n",
    "Date- 25-10-2024\n",
    "Registation Fees - INR 5000''')\n",
    "reg_fee = 5000\n",
    "def days_between(reg_dt, conf_dt):\n",
    "    reg_dt = datetime.strptime(reg_dt, \"%Y-%m-%d\")\n",
    "    conf_dt = datetime.strptime(conf_dt, \"%Y-%m-%d\")\n",
    "    return abs((conf_dt - reg_dt).days)\n",
    "\n",
    "\n",
    "user_res = int(input(\"Do you want to register for the conference ? Press 1 for Yes, 0 for No\"))\n",
    "if user_res == 0:\n",
    "    print(\"No Problem ! Thanks\")\n",
    "elif user_res == 1:\n",
    "    reg_dt = input(\"Enter your date of registration (YYYY-MM-DD) :\")\n",
    "    conf_dt = \"2024-10-25\"\n",
    "    duration = days_between(reg_dt,conf_dt)\n",
    "    print(\"{} days to go for the conference\".format(duration))\n",
    "    CS571 = int(input(\"Are you a student from CS-571 ? 1 for Yes/ 0 for No\"))\n",
    "    \n",
    "    if (duration >= 30) and (CS571==1):\n",
    "        print(\"congratulations ! You are eligible for 25% discount.\") \n",
    "        reg_fee = reg_fee * 0.75\n",
    "    elif (duration >= 30) and (CS571==0):\n",
    "        print(\"Congratulatons ! You are eligible for 15%  discount.\")\n",
    "        reg_fee = reg_fee * 0.85\n",
    "    elif (duration < 30) and (CS571==1):\n",
    "        print(\"Congratulatons ! You are eligible for 10%  discount.\")\n",
    "        reg_fee = reg_fee * 0.90\n",
    "    elif (duration < 30) and (CS571==0):\n",
    "        reg_fee = reg_fee\n",
    "    else:\n",
    "        print(\"You have made some error. Please choose the correct rsponses\")\n",
    "        \n",
    "    print(\"You have to pay {} as your registration fee for the conference\".format(reg_fee))\n",
    "        \n",
    "\n",
    "else:\n",
    "    print(\"Plase Choose correct response\")\n"
   ]
  },
  {
   "cell_type": "code",
   "execution_count": null,
   "id": "6d92d011-5000-4b80-bdca-799e13161668",
   "metadata": {},
   "outputs": [],
   "source": []
  },
  {
   "cell_type": "code",
   "execution_count": null,
   "id": "c4b2fb7e-aa77-4e23-98c8-7a0102456fcd",
   "metadata": {},
   "outputs": [],
   "source": []
  },
  {
   "cell_type": "code",
   "execution_count": null,
   "id": "68086f98-adae-4787-ac2c-c47b0ee7960d",
   "metadata": {},
   "outputs": [],
   "source": []
  },
  {
   "cell_type": "markdown",
   "id": "2d9cd30d-97d5-4c39-a655-5bb701c494e4",
   "metadata": {},
   "source": [
    "## Thanks "
   ]
  },
  {
   "cell_type": "markdown",
   "id": "ff5df454-9867-458a-b61d-20b34e644069",
   "metadata": {},
   "source": [
    "### Abhishek Mohan, MB24041"
   ]
  },
  {
   "cell_type": "code",
   "execution_count": null,
   "id": "16016014-87a8-44cf-ac22-4a217bc97c48",
   "metadata": {},
   "outputs": [],
   "source": []
  }
 ],
 "metadata": {
  "kernelspec": {
   "display_name": "Python 3 (ipykernel)",
   "language": "python",
   "name": "python3"
  },
  "language_info": {
   "codemirror_mode": {
    "name": "ipython",
    "version": 3
   },
   "file_extension": ".py",
   "mimetype": "text/x-python",
   "name": "python",
   "nbconvert_exporter": "python",
   "pygments_lexer": "ipython3",
   "version": "3.12.4"
  }
 },
 "nbformat": 4,
 "nbformat_minor": 5
}
