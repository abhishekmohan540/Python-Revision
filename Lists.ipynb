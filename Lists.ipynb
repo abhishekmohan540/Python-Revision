{
 "cells": [
  {
   "cell_type": "markdown",
   "id": "7a31ea87-d941-451f-a762-a561298a67ac",
   "metadata": {},
   "source": [
    "## Lists"
   ]
  },
  {
   "cell_type": "code",
   "execution_count": 1,
   "id": "b11a48cc-d1fe-45cb-ae00-8808e60382ff",
   "metadata": {},
   "outputs": [],
   "source": [
    "marks = [55,45,86,92,100]"
   ]
  },
  {
   "cell_type": "code",
   "execution_count": 2,
   "id": "d426e2a2-9dc8-406f-945f-934a1f31ebe0",
   "metadata": {},
   "outputs": [
    {
     "data": {
      "text/plain": [
       "[55, 45, 86, 92, 100]"
      ]
     },
     "execution_count": 2,
     "metadata": {},
     "output_type": "execute_result"
    }
   ],
   "source": [
    "marks"
   ]
  },
  {
   "cell_type": "code",
   "execution_count": 3,
   "id": "01e10cfb-e4ef-47c5-bc7d-88388ad2a1e2",
   "metadata": {},
   "outputs": [
    {
     "name": "stdout",
     "output_type": "stream",
     "text": [
      "<class 'list'>\n"
     ]
    }
   ],
   "source": [
    "print(type(marks))"
   ]
  },
  {
   "cell_type": "code",
   "execution_count": 4,
   "id": "5a724654-d31b-4e73-be7a-c479f41dad8b",
   "metadata": {},
   "outputs": [
    {
     "data": {
      "text/plain": [
       "list"
      ]
     },
     "execution_count": 4,
     "metadata": {},
     "output_type": "execute_result"
    }
   ],
   "source": [
    "type(marks)"
   ]
  },
  {
   "cell_type": "code",
   "execution_count": 5,
   "id": "11dcdad8-c213-4424-9bde-9b5003aabc4b",
   "metadata": {},
   "outputs": [
    {
     "data": {
      "text/plain": [
       "55"
      ]
     },
     "execution_count": 5,
     "metadata": {},
     "output_type": "execute_result"
    }
   ],
   "source": [
    "marks[0]"
   ]
  },
  {
   "cell_type": "code",
   "execution_count": 6,
   "id": "c4cd6687-ac1d-4ebd-b4da-5f70cbc22097",
   "metadata": {},
   "outputs": [
    {
     "data": {
      "text/plain": [
       "45"
      ]
     },
     "execution_count": 6,
     "metadata": {},
     "output_type": "execute_result"
    }
   ],
   "source": [
    "marks[1]"
   ]
  },
  {
   "cell_type": "code",
   "execution_count": 7,
   "id": "f0a99216-18e6-4450-bd21-d909dec386b7",
   "metadata": {},
   "outputs": [],
   "source": [
    "## Lists are oredred collection of data items "
   ]
  },
  {
   "cell_type": "code",
   "execution_count": 8,
   "id": "5a079f4d-7075-4dcb-b858-9be13074ebe5",
   "metadata": {},
   "outputs": [
    {
     "data": {
      "text/plain": [
       "[55, 45, 86, 92, 100]"
      ]
     },
     "execution_count": 8,
     "metadata": {},
     "output_type": "execute_result"
    }
   ],
   "source": [
    "marks"
   ]
  },
  {
   "cell_type": "code",
   "execution_count": 10,
   "id": "98b5505d-2c9b-44d6-bd96-b608cccbc4a8",
   "metadata": {},
   "outputs": [],
   "source": [
    "marks[4]=95"
   ]
  },
  {
   "cell_type": "code",
   "execution_count": 11,
   "id": "f22491cb-01d3-401f-a495-ca3e199c465e",
   "metadata": {},
   "outputs": [
    {
     "data": {
      "text/plain": [
       "[55, 45, 86, 92, 95]"
      ]
     },
     "execution_count": 11,
     "metadata": {},
     "output_type": "execute_result"
    }
   ],
   "source": [
    "marks"
   ]
  },
  {
   "cell_type": "code",
   "execution_count": 12,
   "id": "d623d947-050c-4223-beb4-9bfb2c0e63f1",
   "metadata": {},
   "outputs": [],
   "source": [
    "marks[0]=\"Abhi\""
   ]
  },
  {
   "cell_type": "code",
   "execution_count": 13,
   "id": "b68867ac-ca8c-47b8-818f-35c4c4f7be67",
   "metadata": {},
   "outputs": [
    {
     "data": {
      "text/plain": [
       "['Abhi', 45, 86, 92, 95]"
      ]
     },
     "execution_count": 13,
     "metadata": {},
     "output_type": "execute_result"
    }
   ],
   "source": [
    "marks"
   ]
  },
  {
   "cell_type": "code",
   "execution_count": 14,
   "id": "bd24ff78-f1b6-484f-9041-e241d8b9c3e2",
   "metadata": {},
   "outputs": [],
   "source": [
    "## Lsits are mutable"
   ]
  },
  {
   "cell_type": "code",
   "execution_count": 15,
   "id": "2ac875ab-5707-47d9-863e-0d89920d483e",
   "metadata": {},
   "outputs": [
    {
     "data": {
      "text/plain": [
       "95"
      ]
     },
     "execution_count": 15,
     "metadata": {},
     "output_type": "execute_result"
    }
   ],
   "source": [
    "marks[-1]"
   ]
  },
  {
   "cell_type": "code",
   "execution_count": 16,
   "id": "36da0eb9-1d36-455e-be4e-96bd1ddee9d5",
   "metadata": {},
   "outputs": [
    {
     "data": {
      "text/plain": [
       "92"
      ]
     },
     "execution_count": 16,
     "metadata": {},
     "output_type": "execute_result"
    }
   ],
   "source": [
    "marks[-2]"
   ]
  },
  {
   "cell_type": "code",
   "execution_count": 17,
   "id": "63f634f2-6f59-4991-b41e-1b57263b2aab",
   "metadata": {},
   "outputs": [
    {
     "data": {
      "text/plain": [
       "95"
      ]
     },
     "execution_count": 17,
     "metadata": {},
     "output_type": "execute_result"
    }
   ],
   "source": [
    "marks[len(marks)-1]"
   ]
  },
  {
   "cell_type": "code",
   "execution_count": 18,
   "id": "ccd57bad-8d8d-4316-9c29-2b0d3dad02fa",
   "metadata": {},
   "outputs": [
    {
     "name": "stdout",
     "output_type": "stream",
     "text": [
      "yes\n"
     ]
    }
   ],
   "source": [
    "if 95 in marks:\n",
    "    print(\"yes\")\n",
    "else:\n",
    "    print(\"no\")"
   ]
  },
  {
   "cell_type": "code",
   "execution_count": 19,
   "id": "b90561c6-5505-4f88-8f1e-b63fa7f39600",
   "metadata": {},
   "outputs": [
    {
     "name": "stdout",
     "output_type": "stream",
     "text": [
      "yes\n"
     ]
    }
   ],
   "source": [
    "if \"Abhi\" in marks:\n",
    "    print(\"yes\")"
   ]
  },
  {
   "cell_type": "code",
   "execution_count": 20,
   "id": "9014f0ad-4407-4bae-8c87-beccec852eaa",
   "metadata": {},
   "outputs": [
    {
     "data": {
      "text/plain": [
       "['Abhi', 45, 86, 92, 95]"
      ]
     },
     "execution_count": 20,
     "metadata": {},
     "output_type": "execute_result"
    }
   ],
   "source": [
    "marks[:]"
   ]
  },
  {
   "cell_type": "code",
   "execution_count": 21,
   "id": "1cefca21-4c53-4f4a-aff5-4af504e9a600",
   "metadata": {},
   "outputs": [
    {
     "data": {
      "text/plain": [
       "5"
      ]
     },
     "execution_count": 21,
     "metadata": {},
     "output_type": "execute_result"
    }
   ],
   "source": [
    "len(marks)"
   ]
  },
  {
   "cell_type": "code",
   "execution_count": 22,
   "id": "b4131386-3125-406d-a43f-bd2e2cbd9085",
   "metadata": {},
   "outputs": [
    {
     "data": {
      "text/plain": [
       "[45, 86, 92, 95]"
      ]
     },
     "execution_count": 22,
     "metadata": {},
     "output_type": "execute_result"
    }
   ],
   "source": [
    "marks[1:]"
   ]
  },
  {
   "cell_type": "code",
   "execution_count": 24,
   "id": "bea7f3fe-b4ad-4f76-83f5-2011d5243677",
   "metadata": {},
   "outputs": [
    {
     "data": {
      "text/plain": [
       "['Abhi', 45, 86, 92, 95]"
      ]
     },
     "execution_count": 24,
     "metadata": {},
     "output_type": "execute_result"
    }
   ],
   "source": [
    "marks[0:5]"
   ]
  },
  {
   "cell_type": "code",
   "execution_count": 25,
   "id": "f3a33d0d-9270-4144-a111-b4de4e8832cf",
   "metadata": {},
   "outputs": [
    {
     "data": {
      "text/plain": [
       "['Abhi', 86, 95]"
      ]
     },
     "execution_count": 25,
     "metadata": {},
     "output_type": "execute_result"
    }
   ],
   "source": [
    "marks[0:5:2]"
   ]
  },
  {
   "cell_type": "markdown",
   "id": "82c5009a-da94-4b1d-b117-53bcffe22b48",
   "metadata": {},
   "source": [
    "## List compreshension"
   ]
  },
  {
   "cell_type": "code",
   "execution_count": 28,
   "id": "a8c286aa-f9ff-4982-afdc-8ff89814af0f",
   "metadata": {},
   "outputs": [
    {
     "name": "stdout",
     "output_type": "stream",
     "text": [
      "[0, 1, 2, 3, 4, 5, 6, 7, 8, 9]\n"
     ]
    }
   ],
   "source": [
    "lst = [i for i in range(10)]\n",
    "print(lst)"
   ]
  },
  {
   "cell_type": "code",
   "execution_count": 29,
   "id": "85363462-70c4-4ac3-a043-5a1261608049",
   "metadata": {},
   "outputs": [
    {
     "name": "stdout",
     "output_type": "stream",
     "text": [
      "[0, 1, 4, 9, 16, 25, 36, 49, 64, 81]\n"
     ]
    }
   ],
   "source": [
    "lst = [i*i for i in range(10)]\n",
    "print(lst)"
   ]
  },
  {
   "cell_type": "code",
   "execution_count": 30,
   "id": "daf60d88-e9b5-4e64-8008-1358930f06a5",
   "metadata": {},
   "outputs": [
    {
     "name": "stdout",
     "output_type": "stream",
     "text": [
      "[0, 2, 4, 6, 8]\n"
     ]
    }
   ],
   "source": [
    "lst = [i for i in range(10) if i%2==0]\n",
    "print(lst)"
   ]
  },
  {
   "cell_type": "code",
   "execution_count": 31,
   "id": "d073a1bc-33e9-4727-959d-105f2ed03d59",
   "metadata": {},
   "outputs": [
    {
     "name": "stdout",
     "output_type": "stream",
     "text": [
      "[0, 4, 16, 36, 64]\n"
     ]
    }
   ],
   "source": [
    "lst = [i*i for i in range(10) if i%2==0]\n",
    "print(lst)"
   ]
  },
  {
   "cell_type": "markdown",
   "id": "5688cd68-820d-4802-b89b-3f5cd6fb503f",
   "metadata": {},
   "source": [
    "## List methods"
   ]
  },
  {
   "cell_type": "code",
   "execution_count": 33,
   "id": "d4f7a16d-b32b-4dca-a260-f2ec50bd6b69",
   "metadata": {},
   "outputs": [],
   "source": [
    "lis = [12,10,45,25,16,2]"
   ]
  },
  {
   "cell_type": "code",
   "execution_count": 34,
   "id": "1765b3be-0508-4e57-8d51-6103853e0e5b",
   "metadata": {},
   "outputs": [
    {
     "data": {
      "text/plain": [
       "[12, 10, 45, 25, 16, 2]"
      ]
     },
     "execution_count": 34,
     "metadata": {},
     "output_type": "execute_result"
    }
   ],
   "source": [
    "lis"
   ]
  },
  {
   "cell_type": "code",
   "execution_count": 35,
   "id": "9d96484c-1a27-49ba-af7c-27b67943735c",
   "metadata": {},
   "outputs": [],
   "source": [
    "lis.sort()"
   ]
  },
  {
   "cell_type": "code",
   "execution_count": 36,
   "id": "2487be71-ba7b-45c5-86d7-dc7ebeaa55b3",
   "metadata": {},
   "outputs": [
    {
     "data": {
      "text/plain": [
       "[2, 10, 12, 16, 25, 45]"
      ]
     },
     "execution_count": 36,
     "metadata": {},
     "output_type": "execute_result"
    }
   ],
   "source": [
    "lis"
   ]
  },
  {
   "cell_type": "code",
   "execution_count": 37,
   "id": "fb74298e-13e1-4619-bd77-fd3e6023f027",
   "metadata": {},
   "outputs": [],
   "source": [
    "lis.append(100)"
   ]
  },
  {
   "cell_type": "code",
   "execution_count": 38,
   "id": "c63bc538-be60-47bb-803c-113742fc16f0",
   "metadata": {},
   "outputs": [
    {
     "data": {
      "text/plain": [
       "[2, 10, 12, 16, 25, 45, 100]"
      ]
     },
     "execution_count": 38,
     "metadata": {},
     "output_type": "execute_result"
    }
   ],
   "source": [
    "lis"
   ]
  },
  {
   "cell_type": "code",
   "execution_count": 39,
   "id": "42c21850-1b74-4d3f-8b95-65aa5c26e847",
   "metadata": {},
   "outputs": [],
   "source": [
    "lis.sort(reverse=True)"
   ]
  },
  {
   "cell_type": "code",
   "execution_count": 40,
   "id": "ccf25010-f3e6-4db7-b022-81a738361360",
   "metadata": {},
   "outputs": [
    {
     "data": {
      "text/plain": [
       "[100, 45, 25, 16, 12, 10, 2]"
      ]
     },
     "execution_count": 40,
     "metadata": {},
     "output_type": "execute_result"
    }
   ],
   "source": [
    "lis"
   ]
  },
  {
   "cell_type": "code",
   "execution_count": 41,
   "id": "e8e66fb8-366f-4bfc-9d33-18a777c22aca",
   "metadata": {},
   "outputs": [],
   "source": [
    "lis.reverse()"
   ]
  },
  {
   "cell_type": "code",
   "execution_count": 42,
   "id": "fb722a38-2633-4416-8f6a-776b71754467",
   "metadata": {},
   "outputs": [
    {
     "data": {
      "text/plain": [
       "[2, 10, 12, 16, 25, 45, 100]"
      ]
     },
     "execution_count": 42,
     "metadata": {},
     "output_type": "execute_result"
    }
   ],
   "source": [
    "lis"
   ]
  },
  {
   "cell_type": "code",
   "execution_count": 43,
   "id": "4668be6e-5f8c-4153-befe-f868556d4a6c",
   "metadata": {},
   "outputs": [
    {
     "data": {
      "text/plain": [
       "6"
      ]
     },
     "execution_count": 43,
     "metadata": {},
     "output_type": "execute_result"
    }
   ],
   "source": [
    "lis.index(100)"
   ]
  },
  {
   "cell_type": "code",
   "execution_count": 44,
   "id": "cee52056-a74f-4850-9215-0e8524021c1e",
   "metadata": {},
   "outputs": [
    {
     "data": {
      "text/plain": [
       "1"
      ]
     },
     "execution_count": 44,
     "metadata": {},
     "output_type": "execute_result"
    }
   ],
   "source": [
    "lis.count(12)"
   ]
  },
  {
   "cell_type": "code",
   "execution_count": 45,
   "id": "d9ee5cce-4029-48df-8d0d-2bcb51e486c0",
   "metadata": {},
   "outputs": [],
   "source": [
    "m = lis.copy()"
   ]
  },
  {
   "cell_type": "code",
   "execution_count": 46,
   "id": "b10e127e-3831-418e-acd1-172697af648f",
   "metadata": {},
   "outputs": [
    {
     "data": {
      "text/plain": [
       "[2, 10, 12, 16, 25, 45, 100]"
      ]
     },
     "execution_count": 46,
     "metadata": {},
     "output_type": "execute_result"
    }
   ],
   "source": [
    "m"
   ]
  },
  {
   "cell_type": "code",
   "execution_count": 47,
   "id": "608fdd6e-cf59-4605-8a76-2cba2b2a3851",
   "metadata": {},
   "outputs": [
    {
     "data": {
      "text/plain": [
       "[2, 10, 12, 16, 25, 45, 100]"
      ]
     },
     "execution_count": 47,
     "metadata": {},
     "output_type": "execute_result"
    }
   ],
   "source": [
    "lis"
   ]
  },
  {
   "cell_type": "code",
   "execution_count": 48,
   "id": "c405bd13-3f4b-439a-9bbc-425d08c17f17",
   "metadata": {},
   "outputs": [],
   "source": [
    "m[0]=\"abc\""
   ]
  },
  {
   "cell_type": "code",
   "execution_count": 49,
   "id": "7e988c69-b975-4644-984c-80401578b1c6",
   "metadata": {},
   "outputs": [
    {
     "data": {
      "text/plain": [
       "['abc', 10, 12, 16, 25, 45, 100]"
      ]
     },
     "execution_count": 49,
     "metadata": {},
     "output_type": "execute_result"
    }
   ],
   "source": [
    "m"
   ]
  },
  {
   "cell_type": "code",
   "execution_count": 50,
   "id": "e19abbe1-3996-447a-9931-5ff746207276",
   "metadata": {},
   "outputs": [
    {
     "data": {
      "text/plain": [
       "[2, 10, 12, 16, 25, 45, 100]"
      ]
     },
     "execution_count": 50,
     "metadata": {},
     "output_type": "execute_result"
    }
   ],
   "source": [
    "lis"
   ]
  },
  {
   "cell_type": "code",
   "execution_count": 51,
   "id": "98847a03-06eb-4f48-b441-696ca70b5698",
   "metadata": {},
   "outputs": [],
   "source": [
    "## Changes made in m is not reflected in original list lis"
   ]
  },
  {
   "cell_type": "code",
   "execution_count": 52,
   "id": "8d1c69e8-b9dc-45f5-9eec-e8aa27841f08",
   "metadata": {},
   "outputs": [],
   "source": [
    "n = lis"
   ]
  },
  {
   "cell_type": "code",
   "execution_count": 53,
   "id": "f10c2de5-a7bf-4e1f-9144-97b510b66324",
   "metadata": {},
   "outputs": [],
   "source": [
    "n[0] = \"ram\""
   ]
  },
  {
   "cell_type": "code",
   "execution_count": 54,
   "id": "e6ea86da-efff-431f-b6a5-8e364167b408",
   "metadata": {},
   "outputs": [
    {
     "data": {
      "text/plain": [
       "['ram', 10, 12, 16, 25, 45, 100]"
      ]
     },
     "execution_count": 54,
     "metadata": {},
     "output_type": "execute_result"
    }
   ],
   "source": [
    "n"
   ]
  },
  {
   "cell_type": "code",
   "execution_count": 55,
   "id": "dafbbe78-ad08-4163-bbd1-df4d05aec57e",
   "metadata": {},
   "outputs": [
    {
     "data": {
      "text/plain": [
       "['ram', 10, 12, 16, 25, 45, 100]"
      ]
     },
     "execution_count": 55,
     "metadata": {},
     "output_type": "execute_result"
    }
   ],
   "source": [
    "lis"
   ]
  },
  {
   "cell_type": "code",
   "execution_count": 56,
   "id": "416cc280-e9c6-4af5-87fe-b5a82b892748",
   "metadata": {},
   "outputs": [],
   "source": [
    "## But here chnages made in n is reflected in original list lis."
   ]
  },
  {
   "cell_type": "code",
   "execution_count": 57,
   "id": "6aff62b9-f268-4943-8574-a012905cab94",
   "metadata": {},
   "outputs": [],
   "source": [
    "# So keep in mind while copying list."
   ]
  },
  {
   "cell_type": "code",
   "execution_count": 58,
   "id": "1c22fb44-07cb-442a-86f7-c8926ee17dd9",
   "metadata": {},
   "outputs": [
    {
     "data": {
      "text/plain": [
       "['ram', 10, 12, 16, 25, 45, 100]"
      ]
     },
     "execution_count": 58,
     "metadata": {},
     "output_type": "execute_result"
    }
   ],
   "source": [
    "lis"
   ]
  },
  {
   "cell_type": "code",
   "execution_count": 59,
   "id": "bab9e7b5-4b12-4acb-ae4f-bf262e373c6a",
   "metadata": {},
   "outputs": [],
   "source": [
    "lis.insert(0,\"mohan\")"
   ]
  },
  {
   "cell_type": "code",
   "execution_count": 60,
   "id": "5a630d3a-39df-4914-96d8-6a509cb368be",
   "metadata": {},
   "outputs": [
    {
     "data": {
      "text/plain": [
       "['mohan', 'ram', 10, 12, 16, 25, 45, 100]"
      ]
     },
     "execution_count": 60,
     "metadata": {},
     "output_type": "execute_result"
    }
   ],
   "source": [
    "lis"
   ]
  },
  {
   "cell_type": "code",
   "execution_count": 61,
   "id": "f7b226f2-becd-439e-b439-ccce981aa671",
   "metadata": {},
   "outputs": [],
   "source": [
    "a = [2,3,4]\n",
    "b = [4,5,6]"
   ]
  },
  {
   "cell_type": "code",
   "execution_count": 62,
   "id": "f1d66967-28e2-4429-bade-d2f66e0044f4",
   "metadata": {},
   "outputs": [],
   "source": [
    "c=a+b"
   ]
  },
  {
   "cell_type": "code",
   "execution_count": 63,
   "id": "c6e929b0-2788-45b6-8f43-1e8daf0848e3",
   "metadata": {},
   "outputs": [
    {
     "data": {
      "text/plain": [
       "[2, 3, 4, 4, 5, 6]"
      ]
     },
     "execution_count": 63,
     "metadata": {},
     "output_type": "execute_result"
    }
   ],
   "source": [
    "c"
   ]
  },
  {
   "cell_type": "code",
   "execution_count": 66,
   "id": "6ec95428-f142-4aa9-bdcb-2e9d6ad22119",
   "metadata": {},
   "outputs": [],
   "source": [
    "a.append(b)\n"
   ]
  },
  {
   "cell_type": "code",
   "execution_count": 67,
   "id": "9f089118-ba97-4045-b2f9-7b6c359eca19",
   "metadata": {},
   "outputs": [
    {
     "data": {
      "text/plain": [
       "[2, 3, 4, [4, 5, 6], [4, 5, 6]]"
      ]
     },
     "execution_count": 67,
     "metadata": {},
     "output_type": "execute_result"
    }
   ],
   "source": [
    "a"
   ]
  },
  {
   "cell_type": "code",
   "execution_count": 68,
   "id": "baac834f-f6c8-4c28-b77b-7ffdeff13110",
   "metadata": {},
   "outputs": [
    {
     "data": {
      "text/plain": [
       "[2, 3, 4, [4, 5, 6], [4, 5, 6]]"
      ]
     },
     "execution_count": 68,
     "metadata": {},
     "output_type": "execute_result"
    }
   ],
   "source": [
    "a"
   ]
  },
  {
   "cell_type": "code",
   "execution_count": 69,
   "id": "c1e579ea-22a3-4f47-99ae-7d5288ab4349",
   "metadata": {},
   "outputs": [],
   "source": [
    "a = [2,3,4]\n",
    "b = [4,5,6]"
   ]
  },
  {
   "cell_type": "code",
   "execution_count": 70,
   "id": "25f83eb7-8777-4292-9c3b-3be905cefaa4",
   "metadata": {},
   "outputs": [],
   "source": [
    "a.extend(b)"
   ]
  },
  {
   "cell_type": "code",
   "execution_count": 71,
   "id": "7a93ac19-3d6a-4242-a23a-67b02fbf31f9",
   "metadata": {},
   "outputs": [
    {
     "data": {
      "text/plain": [
       "[2, 3, 4, 4, 5, 6]"
      ]
     },
     "execution_count": 71,
     "metadata": {},
     "output_type": "execute_result"
    }
   ],
   "source": [
    "a"
   ]
  },
  {
   "cell_type": "code",
   "execution_count": null,
   "id": "85895fca-39f0-43bf-ba92-9d651397459c",
   "metadata": {},
   "outputs": [],
   "source": []
  }
 ],
 "metadata": {
  "kernelspec": {
   "display_name": "Python 3 (ipykernel)",
   "language": "python",
   "name": "python3"
  },
  "language_info": {
   "codemirror_mode": {
    "name": "ipython",
    "version": 3
   },
   "file_extension": ".py",
   "mimetype": "text/x-python",
   "name": "python",
   "nbconvert_exporter": "python",
   "pygments_lexer": "ipython3",
   "version": "3.12.4"
  }
 },
 "nbformat": 4,
 "nbformat_minor": 5
}
