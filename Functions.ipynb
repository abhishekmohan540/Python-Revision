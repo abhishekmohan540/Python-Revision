{
 "cells": [
  {
   "cell_type": "markdown",
   "id": "ea1dd77d-5305-4063-af4b-c538e10987eb",
   "metadata": {},
   "source": [
    "## Functions "
   ]
  },
  {
   "cell_type": "code",
   "execution_count": 1,
   "id": "8176d978-d7fd-4395-8aa0-94e4f6567498",
   "metadata": {},
   "outputs": [],
   "source": [
    "## A function is a block of code used to perform a specific task."
   ]
  },
  {
   "cell_type": "code",
   "execution_count": 2,
   "id": "076b7912-b2f1-4fa6-91c0-4292f1656aea",
   "metadata": {},
   "outputs": [],
   "source": [
    "def Welcome():\n",
    "    print(\"Welcome to the Python Course\")"
   ]
  },
  {
   "cell_type": "code",
   "execution_count": 3,
   "id": "13a5c8cb-5a24-45e6-8df2-ff78dd64d891",
   "metadata": {},
   "outputs": [
    {
     "name": "stdout",
     "output_type": "stream",
     "text": [
      "Welcome to the Python Course\n"
     ]
    }
   ],
   "source": [
    "Welcome()"
   ]
  },
  {
   "cell_type": "code",
   "execution_count": 4,
   "id": "cebb006c-f0ef-4549-a8df-8884a68791ef",
   "metadata": {},
   "outputs": [
    {
     "name": "stdout",
     "output_type": "stream",
     "text": [
      "Welcome to the Python Course\n",
      "None\n"
     ]
    }
   ],
   "source": [
    "a=Welcome()\n",
    "print(a)"
   ]
  },
  {
   "cell_type": "code",
   "execution_count": 8,
   "id": "5e2bd385-b0df-42b0-880f-78cd74b90d08",
   "metadata": {},
   "outputs": [],
   "source": [
    "def Average(a,b): # function to find the average of two numbers\n",
    "    avg = (a+b)/2\n",
    "    print(avg)"
   ]
  },
  {
   "cell_type": "code",
   "execution_count": 9,
   "id": "71eee16b-b336-41d1-a39d-25942171ccaa",
   "metadata": {},
   "outputs": [
    {
     "name": "stdout",
     "output_type": "stream",
     "text": [
      "15.0\n"
     ]
    }
   ],
   "source": [
    "Average(10,20)"
   ]
  },
  {
   "cell_type": "code",
   "execution_count": 10,
   "id": "3460aea9-eb26-4ff7-b8d8-0956aeb784d4",
   "metadata": {},
   "outputs": [],
   "source": [
    "def myname():\n",
    "    print(\"My name is Abhishek\")"
   ]
  },
  {
   "cell_type": "code",
   "execution_count": 11,
   "id": "1910ccff-9999-4361-a925-c23c4d3830c7",
   "metadata": {},
   "outputs": [
    {
     "name": "stdout",
     "output_type": "stream",
     "text": [
      "My name is Abhishek\n"
     ]
    }
   ],
   "source": [
    "myname()"
   ]
  },
  {
   "cell_type": "markdown",
   "id": "65921ccb-953c-48ef-92f7-f1da7a917e54",
   "metadata": {},
   "source": [
    "## Built In functions "
   ]
  },
  {
   "cell_type": "markdown",
   "id": "5b88422a-0578-4327-926f-46bfb6fb848f",
   "metadata": {},
   "source": [
    "-|-\n",
    "-|-\n",
    "abs()\tReturns the absolute value of a number\n",
    "all()\tReturns True if all items in an iterable object are true\n",
    "any()\tReturns True if any item in an iterable object is true\n",
    "ascii()\tReturns a readable version of an object. Replaces none-ascii characters with escape character\n",
    "bin()\tReturns the binary version of a number\n",
    "bool()\tReturns the boolean value of the specified object\n",
    "bytearray()\tReturns an array of bytes\n",
    "bytes()\tReturns a bytes object\n",
    "callable()\tReturns True if the specified object is callable, otherwise False\n",
    "chr()\tReturns a character from the specified Unicode code.\n",
    "classmethod()\tConverts a method into a class method\n",
    "compile()\tReturns the specified source as an object, ready to be executed\n",
    "complex()\tReturns a complex number\n",
    "delattr()\tDeletes the specified attribute (property or method) from the specified object\n",
    "dict()\tReturns a dictionary (Array)\n",
    "dir()\tReturns a list of the specified object's properties and methods\n",
    "divmod()\tReturns the quotient and the remainder when argument1 is divided by argument2\n",
    "enumerate()\tTakes a collection (e.g. a tuple) and returns it as an enumerate object\n",
    "eval()\tEvaluates and executes an expression\n",
    "exec()\tExecutes the specified code (or object)\n",
    "filter()\tUse a filter function to exclude items in an iterable object\n",
    "float()\tReturns a floating point number\n",
    "format()\tFormats a specified value\n",
    "frozenset()\tReturns a frozenset object\n",
    "getattr()\tReturns the value of the specified attribute (property or method)\n",
    "globals()\tReturns the current global symbol table as a dictionary\n",
    "hasattr()\tReturns True if the specified object has the specified attribute (property/method)\n",
    "hash()\tReturns the hash value of a specified object\n",
    "help()\tExecutes the built-in help system\n",
    "hex()\tConverts a number into a hexadecimal value\n",
    "id()\tReturns the id of an object\n",
    "input()\tAllowing user input\n",
    "int()\tReturns an integer number\n",
    "isinstance()\tReturns True if a specified object is an instance of a specified object\n",
    "issubclass()\tReturns True if a specified class is a subclass of a specified object\n",
    "iter()\tReturns an iterator object\n",
    "len()\tReturns the length of an object\n",
    "list()\tReturns a list\n",
    "locals()\tReturns an updated dictionary of the current local symbol table\n",
    "map()\tReturns the specified iterator with the specified function applied to each item\n",
    "max()\tReturns the largest item in an iterable\n",
    "memoryview()\tReturns a memory view object\n",
    "min()\tReturns the smallest item in an iterable\n",
    "next()\tReturns the next item in an iterable\n",
    "object()\tReturns a new object\n",
    "oct()\tConverts a number into an octal\n",
    "open()\tOpens a file and returns a file object\n",
    "ord()\tConvert an integer representing the Unicode of the specified character\n",
    "pow()\tReturns the value of x to the power of y\n",
    "print()\tPrints to the standard output device\n",
    "property()\tGets, sets, deletes a property\n",
    "range()\tReturns a sequence of numbers, starting from 0 and increments by 1 (by default)\n",
    "repr()\tReturns a readable version of an object\n",
    "reversed()\tReturns a reversed iterator\n",
    "round()\tRounds a numbers\n",
    "set()\tReturns a new set object\n",
    "setattr()\tSets an attribute (property/method) of an object\n",
    "slice()\tReturns a slice object\n",
    "sorted()\tReturns a sorted list\n",
    "staticmethod()\tConverts a method into a static method\n",
    "str()\tReturns a string object\n",
    "sum()\tSums the items of an iterator\n",
    "super()\tReturns an object that represents the parent class\n",
    "tuple()\tReturns a tuple\n",
    "type()\tReturns the type of an object\n",
    "vars()\tReturns the __dict__ property of an object\n",
    "zip()\tReturns an iterator, from two or more iterators"
   ]
  },
  {
   "cell_type": "code",
   "execution_count": 14,
   "id": "63ac53fd-7ab0-445c-95a2-6e31919579db",
   "metadata": {},
   "outputs": [],
   "source": [
    "## Function to find a table\n",
    "def table(n):\n",
    "    for i in range(1,11):\n",
    "        res=n*i\n",
    "        print(res)\n",
    "        "
   ]
  },
  {
   "cell_type": "code",
   "execution_count": 15,
   "id": "463531e7-d709-4c2f-969d-9725e4f8849d",
   "metadata": {},
   "outputs": [
    {
     "name": "stdout",
     "output_type": "stream",
     "text": [
      "5\n",
      "10\n",
      "15\n",
      "20\n",
      "25\n",
      "30\n",
      "35\n",
      "40\n",
      "45\n",
      "50\n"
     ]
    }
   ],
   "source": [
    "table(5)"
   ]
  },
  {
   "cell_type": "code",
   "execution_count": 16,
   "id": "7975c410-4c09-4150-b233-5bf9364942bc",
   "metadata": {},
   "outputs": [
    {
     "name": "stdout",
     "output_type": "stream",
     "text": [
      "25\n",
      "50\n",
      "75\n",
      "100\n",
      "125\n",
      "150\n",
      "175\n",
      "200\n",
      "225\n",
      "250\n"
     ]
    }
   ],
   "source": [
    "table(25)"
   ]
  },
  {
   "cell_type": "code",
   "execution_count": 17,
   "id": "5bead11b-5329-49af-b026-99a37f9aa476",
   "metadata": {},
   "outputs": [],
   "source": [
    "def average(a=9,b=3):\n",
    "    avg=(a+b)/2\n",
    "    print(avg)"
   ]
  },
  {
   "cell_type": "code",
   "execution_count": 18,
   "id": "b080f8e3-1166-4430-a6e4-dbe28d3c9a54",
   "metadata": {},
   "outputs": [
    {
     "name": "stdout",
     "output_type": "stream",
     "text": [
      "6.0\n"
     ]
    }
   ],
   "source": [
    "average() # no argumetn provided"
   ]
  },
  {
   "cell_type": "code",
   "execution_count": 21,
   "id": "42124855-5c4e-420c-862b-dce0f46f1a61",
   "metadata": {},
   "outputs": [
    {
     "name": "stdout",
     "output_type": "stream",
     "text": [
      "6.5\n"
     ]
    }
   ],
   "source": [
    "average(a=10) # only a is passed. It took dafault value of b"
   ]
  },
  {
   "cell_type": "code",
   "execution_count": 22,
   "id": "9d023ed7-a0a9-47c4-9e0e-da2024c17970",
   "metadata": {},
   "outputs": [
    {
     "name": "stdout",
     "output_type": "stream",
     "text": [
      "8.0\n"
     ]
    }
   ],
   "source": [
    "average(b=7)  # will take default value of a=9"
   ]
  },
  {
   "cell_type": "code",
   "execution_count": 23,
   "id": "6fc5eaf6-efeb-4de0-870f-cbbfb6303a30",
   "metadata": {},
   "outputs": [
    {
     "name": "stdout",
     "output_type": "stream",
     "text": [
      "7.5\n"
     ]
    }
   ],
   "source": [
    "average(a=5,b=10) # will repplace both default value"
   ]
  },
  {
   "cell_type": "code",
   "execution_count": 24,
   "id": "fa816b4a-a158-496e-ba8d-ea06a3f874a1",
   "metadata": {},
   "outputs": [],
   "source": [
    "def star(*name):\n",
    "    print(name)"
   ]
  },
  {
   "cell_type": "code",
   "execution_count": 27,
   "id": "349f583c-9258-4331-bf64-5c9f0d166685",
   "metadata": {},
   "outputs": [
    {
     "name": "stdout",
     "output_type": "stream",
     "text": [
      "('abhi', 'simit', 'john', 'rahul')\n"
     ]
    }
   ],
   "source": [
    "star(\"abhi\", \"simit\", \"john\", \"rahul\")"
   ]
  },
  {
   "cell_type": "code",
   "execution_count": 28,
   "id": "03ca6759-1f37-4192-8393-8fe84b139bf1",
   "metadata": {},
   "outputs": [
    {
     "data": {
      "text/plain": [
       "function"
      ]
     },
     "execution_count": 28,
     "metadata": {},
     "output_type": "execute_result"
    }
   ],
   "source": [
    "type(star)"
   ]
  },
  {
   "cell_type": "code",
   "execution_count": 32,
   "id": "c08f58f5-6f13-4098-b09a-fab550a26700",
   "metadata": {},
   "outputs": [],
   "source": [
    "def avgg(*nums):\n",
    "    sum =0\n",
    "    for i in nums:\n",
    "        sum = sum+i\n",
    "    avg = sum/len(nums)\n",
    "\n",
    "    return avg    "
   ]
  },
  {
   "cell_type": "code",
   "execution_count": 33,
   "id": "2ab82bb4-c133-4d17-aae8-2161337a58f3",
   "metadata": {},
   "outputs": [
    {
     "data": {
      "text/plain": [
       "12.5"
      ]
     },
     "execution_count": 33,
     "metadata": {},
     "output_type": "execute_result"
    }
   ],
   "source": [
    "avgg(5,10,15,20)"
   ]
  },
  {
   "cell_type": "code",
   "execution_count": 34,
   "id": "527e569a-0216-45fe-8eb8-20d199ae24ec",
   "metadata": {
    "scrolled": true
   },
   "outputs": [
    {
     "name": "stdout",
     "output_type": "stream",
     "text": [
      "12.5\n",
      "<class 'float'>\n"
     ]
    }
   ],
   "source": [
    "c = avgg(5,10,15,20)\n",
    "print(c)\n",
    "print(type(c))"
   ]
  },
  {
   "cell_type": "code",
   "execution_count": 35,
   "id": "b2951b38-4714-442e-9631-888ea196bbb2",
   "metadata": {},
   "outputs": [],
   "source": [
    "def Wapis_7_dunga():\n",
    "    return 7\n",
    "    return 10\n",
    "    return 15"
   ]
  },
  {
   "cell_type": "code",
   "execution_count": 36,
   "id": "febdf99b-e50e-4424-be67-24239a2495c3",
   "metadata": {},
   "outputs": [
    {
     "data": {
      "text/plain": [
       "7"
      ]
     },
     "execution_count": 36,
     "metadata": {},
     "output_type": "execute_result"
    }
   ],
   "source": [
    "Wapis_7_dunga()"
   ]
  },
  {
   "cell_type": "code",
   "execution_count": 37,
   "id": "98f5f8ca-77ca-44d1-a1b0-992b1ad708d0",
   "metadata": {},
   "outputs": [],
   "source": [
    "## Only first retunr is executed"
   ]
  },
  {
   "cell_type": "code",
   "execution_count": 40,
   "id": "95f57fd9-d6db-4c1d-9b90-c31ef36a90c1",
   "metadata": {},
   "outputs": [],
   "source": [
    "def IsLargest(a,b,c):\n",
    "    if a>b:\n",
    "        if a>c:\n",
    "            print(\"largest= \", a)\n",
    "        else:\n",
    "            print(\"largest= \",c)\n",
    "    else:\n",
    "        if b>c:\n",
    "            print(\"largest= \", b)\n",
    "        else:\n",
    "            print(\"largest= \",c)"
   ]
  },
  {
   "cell_type": "code",
   "execution_count": 41,
   "id": "149ad3e8-00bf-40ab-a6bd-da694bd005fb",
   "metadata": {},
   "outputs": [
    {
     "name": "stdout",
     "output_type": "stream",
     "text": [
      "largest=  20\n"
     ]
    }
   ],
   "source": [
    "IsLargest(5,10,20)"
   ]
  },
  {
   "cell_type": "code",
   "execution_count": 42,
   "id": "fb6d3a4c-2891-4594-8dbc-ccf8dbffb342",
   "metadata": {},
   "outputs": [
    {
     "name": "stdout",
     "output_type": "stream",
     "text": [
      "largest=  25\n"
     ]
    }
   ],
   "source": [
    "IsLargest(25,10,20)"
   ]
  },
  {
   "cell_type": "code",
   "execution_count": 43,
   "id": "3eb3f6b9-16f7-4e73-993c-4f5f6947662c",
   "metadata": {},
   "outputs": [
    {
     "name": "stdout",
     "output_type": "stream",
     "text": [
      "largest=  30\n"
     ]
    }
   ],
   "source": [
    "IsLargest(5,30,20)"
   ]
  },
  {
   "cell_type": "code",
   "execution_count": 44,
   "id": "42f767e8-c220-4510-9528-f2b20f099e71",
   "metadata": {},
   "outputs": [
    {
     "name": "stdout",
     "output_type": "stream",
     "text": [
      "largest=  25\n"
     ]
    }
   ],
   "source": [
    "IsLargest(25,10,10)"
   ]
  },
  {
   "cell_type": "code",
   "execution_count": null,
   "id": "603452e4-9ba2-4449-a95e-7d2a07545401",
   "metadata": {},
   "outputs": [],
   "source": []
  }
 ],
 "metadata": {
  "kernelspec": {
   "display_name": "Python 3 (ipykernel)",
   "language": "python",
   "name": "python3"
  },
  "language_info": {
   "codemirror_mode": {
    "name": "ipython",
    "version": 3
   },
   "file_extension": ".py",
   "mimetype": "text/x-python",
   "name": "python",
   "nbconvert_exporter": "python",
   "pygments_lexer": "ipython3",
   "version": "3.12.4"
  }
 },
 "nbformat": 4,
 "nbformat_minor": 5
}
