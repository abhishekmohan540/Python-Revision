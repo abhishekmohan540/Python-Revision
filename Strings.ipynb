{
 "cells": [
  {
   "cell_type": "markdown",
   "id": "0dd0f5c3-d48a-49d6-a90d-09e53e16bcae",
   "metadata": {},
   "source": [
    "## Strings"
   ]
  },
  {
   "cell_type": "code",
   "execution_count": 1,
   "id": "17fa64cf-9e57-4b5c-b216-52ee2c94191c",
   "metadata": {},
   "outputs": [],
   "source": [
    "name = \"Abhi\""
   ]
  },
  {
   "cell_type": "code",
   "execution_count": 2,
   "id": "8a3495a8-1fde-42d0-8b17-b16e69b6d814",
   "metadata": {},
   "outputs": [
    {
     "name": "stdout",
     "output_type": "stream",
     "text": [
      "Abhi\n"
     ]
    }
   ],
   "source": [
    "print(name)"
   ]
  },
  {
   "cell_type": "code",
   "execution_count": 3,
   "id": "0c166842-d3ab-42ee-a89f-44a6138bcf3e",
   "metadata": {},
   "outputs": [
    {
     "name": "stdout",
     "output_type": "stream",
     "text": [
      "Abhi\n"
     ]
    }
   ],
   "source": [
    "names = 'Abhi'\n",
    "print(names)"
   ]
  },
  {
   "cell_type": "code",
   "execution_count": 4,
   "id": "8f4d340f-63d7-4da4-820f-fd77a16df5b0",
   "metadata": {},
   "outputs": [
    {
     "name": "stdout",
     "output_type": "stream",
     "text": [
      "Welcome to Python\n",
      "Welcome to Python\n",
      "Welcome to Python\n"
     ]
    }
   ],
   "source": [
    "print(\"Welcome to Python\")\n",
    "print(\"Welcome to Python\")\n",
    "print(\"Welcome to Python\")      #  Alt+SHift+down arrow"
   ]
  },
  {
   "cell_type": "code",
   "execution_count": 5,
   "id": "fdd82d16-843f-4b8e-a58b-e62b7ba77ed5",
   "metadata": {},
   "outputs": [
    {
     "name": "stdout",
     "output_type": "stream",
     "text": [
      " this is a python class\n",
      "you are supposed to attend it.\n",
      "Wlcome to the class !!\n"
     ]
    }
   ],
   "source": [
    "print(''' this is a python class\n",
    "you are supposed to attend it.\n",
    "Wlcome to the class !!''')"
   ]
  },
  {
   "cell_type": "code",
   "execution_count": 6,
   "id": "9fce379e-b132-4f37-a24d-af20791f1072",
   "metadata": {},
   "outputs": [
    {
     "data": {
      "text/plain": [
       "'A'"
      ]
     },
     "execution_count": 6,
     "metadata": {},
     "output_type": "execute_result"
    }
   ],
   "source": [
    "name[0]"
   ]
  },
  {
   "cell_type": "code",
   "execution_count": 7,
   "id": "3330cde6-9f47-4d47-b480-384d7269e8cc",
   "metadata": {},
   "outputs": [
    {
     "data": {
      "text/plain": [
       "'b'"
      ]
     },
     "execution_count": 7,
     "metadata": {},
     "output_type": "execute_result"
    }
   ],
   "source": [
    "name[1]"
   ]
  },
  {
   "cell_type": "code",
   "execution_count": 8,
   "id": "95edf6df-da1e-4742-9007-61c355ab9a37",
   "metadata": {},
   "outputs": [
    {
     "name": "stdout",
     "output_type": "stream",
     "text": [
      "h\n"
     ]
    }
   ],
   "source": [
    "print(name[2])"
   ]
  },
  {
   "cell_type": "code",
   "execution_count": 9,
   "id": "ecd0b694-f3c1-4f29-97f0-a1cd34643dbf",
   "metadata": {},
   "outputs": [
    {
     "name": "stdout",
     "output_type": "stream",
     "text": [
      "Abhi\n"
     ]
    }
   ],
   "source": [
    "print(name)"
   ]
  },
  {
   "cell_type": "code",
   "execution_count": 10,
   "id": "f8c56ca0-0cdb-410e-8c4e-e8c3399e8560",
   "metadata": {},
   "outputs": [
    {
     "name": "stdout",
     "output_type": "stream",
     "text": [
      "A\n",
      "b\n",
      "h\n",
      "i\n"
     ]
    }
   ],
   "source": [
    "for char in name:\n",
    "    print(char)"
   ]
  },
  {
   "cell_type": "code",
   "execution_count": 11,
   "id": "25854284-b072-42b3-9075-cdb45bc4e27b",
   "metadata": {},
   "outputs": [
    {
     "name": "stdout",
     "output_type": "stream",
     "text": [
      "A b h i "
     ]
    }
   ],
   "source": [
    "for char in name:\n",
    "    print(char, end=' ')"
   ]
  },
  {
   "cell_type": "code",
   "execution_count": 18,
   "id": "d580dd60-a573-4f3f-bd4c-855cd1e7eaf5",
   "metadata": {},
   "outputs": [
    {
     "name": "stdout",
     "output_type": "stream",
     "text": [
      "T h i s   i s   a   P h y t h o n   C l a s s "
     ]
    }
   ],
   "source": [
    "x = \"This is a Phython Class\"\n",
    "for i in x:\n",
    "    print(i, end=' ')"
   ]
  },
  {
   "cell_type": "markdown",
   "id": "b22a6994-a12b-461c-b413-773337009d55",
   "metadata": {},
   "source": [
    "## String Slicing"
   ]
  },
  {
   "cell_type": "code",
   "execution_count": 15,
   "id": "4d6f6e3e-e593-4813-a4c3-798bfa63527d",
   "metadata": {},
   "outputs": [],
   "source": [
    "fruit = \"Mango\""
   ]
  },
  {
   "cell_type": "code",
   "execution_count": 16,
   "id": "34db60a2-b200-4794-8d15-170fe4581c0d",
   "metadata": {},
   "outputs": [
    {
     "data": {
      "text/plain": [
       "5"
      ]
     },
     "execution_count": 16,
     "metadata": {},
     "output_type": "execute_result"
    }
   ],
   "source": [
    "len(fruit)"
   ]
  },
  {
   "cell_type": "code",
   "execution_count": 17,
   "id": "aeb62495-5948-424e-bdb5-5093719c470b",
   "metadata": {},
   "outputs": [
    {
     "data": {
      "text/plain": [
       "'Mang'"
      ]
     },
     "execution_count": 17,
     "metadata": {},
     "output_type": "execute_result"
    }
   ],
   "source": [
    "fruit[0:4]"
   ]
  },
  {
   "cell_type": "code",
   "execution_count": 19,
   "id": "d2859217-febf-452c-aa41-52034c9906d7",
   "metadata": {},
   "outputs": [
    {
     "data": {
      "text/plain": [
       "'Mango'"
      ]
     },
     "execution_count": 19,
     "metadata": {},
     "output_type": "execute_result"
    }
   ],
   "source": [
    "fruit[0:5]"
   ]
  },
  {
   "cell_type": "code",
   "execution_count": 20,
   "id": "4eabb4c9-c269-452e-9081-53fafbaa7892",
   "metadata": {},
   "outputs": [],
   "source": [
    "# [0:5] ->>  will give index 0,1,2,3,4 only"
   ]
  },
  {
   "cell_type": "code",
   "execution_count": 21,
   "id": "7538fb44-a617-4826-899f-70fd314d2793",
   "metadata": {},
   "outputs": [
    {
     "data": {
      "text/plain": [
       "'Mango'"
      ]
     },
     "execution_count": 21,
     "metadata": {},
     "output_type": "execute_result"
    }
   ],
   "source": [
    "fruit[:]"
   ]
  },
  {
   "cell_type": "code",
   "execution_count": 22,
   "id": "d0c7eaac-1db9-49bd-8b3e-8c8f66861d37",
   "metadata": {},
   "outputs": [
    {
     "data": {
      "text/plain": [
       "'Mango'"
      ]
     },
     "execution_count": 22,
     "metadata": {},
     "output_type": "execute_result"
    }
   ],
   "source": [
    "fruit[:5]"
   ]
  },
  {
   "cell_type": "code",
   "execution_count": 23,
   "id": "d42dae4e-45dc-4ffb-83c2-b9bf5d15e025",
   "metadata": {},
   "outputs": [
    {
     "data": {
      "text/plain": [
       "'Mango'"
      ]
     },
     "execution_count": 23,
     "metadata": {},
     "output_type": "execute_result"
    }
   ],
   "source": [
    "fruit[::]"
   ]
  },
  {
   "cell_type": "code",
   "execution_count": 25,
   "id": "1abc0b51-2f8f-42e4-a015-63a582f2f285",
   "metadata": {},
   "outputs": [],
   "source": [
    "clas = \"Welcome to Programming\""
   ]
  },
  {
   "cell_type": "code",
   "execution_count": 26,
   "id": "7bc81a1f-939e-441d-8d1b-a24c97fe6eb9",
   "metadata": {},
   "outputs": [
    {
     "data": {
      "text/plain": [
       "'Wloet rgamn'"
      ]
     },
     "execution_count": 26,
     "metadata": {},
     "output_type": "execute_result"
    }
   ],
   "source": [
    "clas[::2]"
   ]
  },
  {
   "cell_type": "code",
   "execution_count": 27,
   "id": "babc2421-3f51-443e-ba4b-e385120dc87a",
   "metadata": {},
   "outputs": [
    {
     "data": {
      "text/plain": [
       "'gnimmargorP ot emocleW'"
      ]
     },
     "execution_count": 27,
     "metadata": {},
     "output_type": "execute_result"
    }
   ],
   "source": [
    "clas[::-1]"
   ]
  },
  {
   "cell_type": "code",
   "execution_count": 28,
   "id": "fef50c8d-9034-48a7-8a70-136299137a88",
   "metadata": {},
   "outputs": [
    {
     "data": {
      "text/plain": [
       "'Welcome to Programmin'"
      ]
     },
     "execution_count": 28,
     "metadata": {},
     "output_type": "execute_result"
    }
   ],
   "source": [
    "clas[:-1]"
   ]
  },
  {
   "cell_type": "code",
   "execution_count": 33,
   "id": "22fc54e7-97c5-489a-b1ee-c5cce1513561",
   "metadata": {},
   "outputs": [],
   "source": [
    "f =\"Welcome\""
   ]
  },
  {
   "cell_type": "code",
   "execution_count": 34,
   "id": "7e858557-f1c1-484a-ba86-5c588bd577fc",
   "metadata": {},
   "outputs": [
    {
     "data": {
      "text/plain": [
       "'e'"
      ]
     },
     "execution_count": 34,
     "metadata": {},
     "output_type": "execute_result"
    }
   ],
   "source": [
    "f[-1:]"
   ]
  },
  {
   "cell_type": "code",
   "execution_count": 35,
   "id": "b85382ed-4382-4e3a-ba42-4eef08a7bf7c",
   "metadata": {},
   "outputs": [
    {
     "data": {
      "text/plain": [
       "'Welcom'"
      ]
     },
     "execution_count": 35,
     "metadata": {},
     "output_type": "execute_result"
    }
   ],
   "source": [
    "f[-7:-1]"
   ]
  },
  {
   "cell_type": "code",
   "execution_count": 37,
   "id": "ce28c0ed-2831-4b5f-8afc-0f2b3dc233f0",
   "metadata": {},
   "outputs": [
    {
     "data": {
      "text/plain": [
       "'Welcome'"
      ]
     },
     "execution_count": 37,
     "metadata": {},
     "output_type": "execute_result"
    }
   ],
   "source": [
    "f[-7:]"
   ]
  },
  {
   "cell_type": "code",
   "execution_count": 38,
   "id": "6c7b284d-6589-49b2-b378-acaff758cf3b",
   "metadata": {},
   "outputs": [
    {
     "name": "stdout",
     "output_type": "stream",
     "text": [
      "ar\n"
     ]
    }
   ],
   "source": [
    "nm=\"Harry\"\n",
    "print(nm[-4:-2])"
   ]
  },
  {
   "cell_type": "markdown",
   "id": "85aa3416-6a9b-450e-8bc5-9b1f7501a98e",
   "metadata": {},
   "source": [
    "## String Methods"
   ]
  },
  {
   "cell_type": "code",
   "execution_count": 47,
   "id": "3ef676fc-67ce-4a92-91a1-f2d982b1a3cf",
   "metadata": {},
   "outputs": [],
   "source": [
    "## Strings are immutable\n",
    "\n",
    "## Python strings are \"immutable\" which means they cannot be changed after they are created "
   ]
  },
  {
   "cell_type": "code",
   "execution_count": 42,
   "id": "05cf57ec-02c4-4f94-89c4-8da80db2d036",
   "metadata": {},
   "outputs": [],
   "source": [
    "name = \"Abhishek\""
   ]
  },
  {
   "cell_type": "code",
   "execution_count": 43,
   "id": "14371d11-d6c4-42de-90e3-9db603a901a0",
   "metadata": {},
   "outputs": [
    {
     "ename": "TypeError",
     "evalue": "'str' object does not support item assignment",
     "output_type": "error",
     "traceback": [
      "\u001b[1;31m---------------------------------------------------------------------------\u001b[0m",
      "\u001b[1;31mTypeError\u001b[0m                                 Traceback (most recent call last)",
      "Cell \u001b[1;32mIn[43], line 1\u001b[0m\n\u001b[1;32m----> 1\u001b[0m \u001b[43mname\u001b[49m\u001b[43m[\u001b[49m\u001b[38;5;241;43m0\u001b[39;49m\u001b[43m]\u001b[49m\u001b[38;5;241m=\u001b[39m\u001b[38;5;124m\"\u001b[39m\u001b[38;5;124mP\u001b[39m\u001b[38;5;124m\"\u001b[39m\n",
      "\u001b[1;31mTypeError\u001b[0m: 'str' object does not support item assignment"
     ]
    }
   ],
   "source": [
    "name[0]=\"P\""
   ]
  },
  {
   "cell_type": "code",
   "execution_count": 44,
   "id": "4f839eb1-6318-4a60-91f0-9dab29ea52fa",
   "metadata": {},
   "outputs": [
    {
     "data": {
      "text/plain": [
       "'ABHISHEK'"
      ]
     },
     "execution_count": 44,
     "metadata": {},
     "output_type": "execute_result"
    }
   ],
   "source": [
    "name.upper()"
   ]
  },
  {
   "cell_type": "code",
   "execution_count": 45,
   "id": "05b1576a-d42d-4886-ac48-e8e196ace688",
   "metadata": {},
   "outputs": [
    {
     "data": {
      "text/plain": [
       "'abhishek'"
      ]
     },
     "execution_count": 45,
     "metadata": {},
     "output_type": "execute_result"
    }
   ],
   "source": [
    "name.lower()"
   ]
  },
  {
   "cell_type": "code",
   "execution_count": 46,
   "id": "b2db0910-f5dd-4468-b825-6d247a168730",
   "metadata": {},
   "outputs": [
    {
     "data": {
      "text/plain": [
       "'Abhishek'"
      ]
     },
     "execution_count": 46,
     "metadata": {},
     "output_type": "execute_result"
    }
   ],
   "source": [
    "name"
   ]
  },
  {
   "cell_type": "code",
   "execution_count": 48,
   "id": "b82c5805-7590-4831-90b0-5c263a0e77f5",
   "metadata": {},
   "outputs": [
    {
     "data": {
      "text/plain": [
       "'Kabhishek'"
      ]
     },
     "execution_count": 48,
     "metadata": {},
     "output_type": "execute_result"
    }
   ],
   "source": [
    "name.replace(\"Abhi\", \"Kabhi\")"
   ]
  },
  {
   "cell_type": "code",
   "execution_count": 50,
   "id": "214f1373-78fb-4eaf-9198-d725f980f301",
   "metadata": {},
   "outputs": [
    {
     "data": {
      "text/plain": [
       "['A', 'hishek']"
      ]
     },
     "execution_count": 50,
     "metadata": {},
     "output_type": "execute_result"
    }
   ],
   "source": [
    "name.split(\"b\")"
   ]
  },
  {
   "cell_type": "code",
   "execution_count": 51,
   "id": "34702540-d144-4b71-a139-26d25bf5dd57",
   "metadata": {},
   "outputs": [],
   "source": [
    "wel = \"introuction to programming\""
   ]
  },
  {
   "cell_type": "code",
   "execution_count": 52,
   "id": "fc79fae5-303e-408c-9652-3130a1775036",
   "metadata": {},
   "outputs": [
    {
     "data": {
      "text/plain": [
       "'Introuction to programming'"
      ]
     },
     "execution_count": 52,
     "metadata": {},
     "output_type": "execute_result"
    }
   ],
   "source": [
    "wel.capitalize()"
   ]
  },
  {
   "cell_type": "code",
   "execution_count": 53,
   "id": "85c2c612-7028-42c9-b52f-b7b8e1fca768",
   "metadata": {},
   "outputs": [
    {
     "data": {
      "text/plain": [
       "['introuction', 'to', 'programming']"
      ]
     },
     "execution_count": 53,
     "metadata": {},
     "output_type": "execute_result"
    }
   ],
   "source": [
    "wel.split(' ')"
   ]
  },
  {
   "cell_type": "code",
   "execution_count": 58,
   "id": "2fbece8e-0224-4570-81f5-da707b4538f5",
   "metadata": {},
   "outputs": [
    {
     "data": {
      "text/plain": [
       "'                                     introuction to programming                                     '"
      ]
     },
     "execution_count": 58,
     "metadata": {},
     "output_type": "execute_result"
    }
   ],
   "source": [
    "wel.center(100)"
   ]
  },
  {
   "cell_type": "code",
   "execution_count": 59,
   "id": "6e20f4f1-f45e-4225-b486-1bf24062c0fd",
   "metadata": {},
   "outputs": [
    {
     "data": {
      "text/plain": [
       "100"
      ]
     },
     "execution_count": 59,
     "metadata": {},
     "output_type": "execute_result"
    }
   ],
   "source": [
    "len(wel.center(100))"
   ]
  },
  {
   "cell_type": "code",
   "execution_count": 60,
   "id": "ae367d95-b88e-43a0-b79c-3625b670a65b",
   "metadata": {},
   "outputs": [
    {
     "data": {
      "text/plain": [
       "False"
      ]
     },
     "execution_count": 60,
     "metadata": {},
     "output_type": "execute_result"
    }
   ],
   "source": [
    "wel.endswith(\"!!!\")"
   ]
  },
  {
   "cell_type": "code",
   "execution_count": 61,
   "id": "e947fe83-9235-4297-ba34-4a70983c9eef",
   "metadata": {},
   "outputs": [
    {
     "data": {
      "text/plain": [
       "True"
      ]
     },
     "execution_count": 61,
     "metadata": {},
     "output_type": "execute_result"
    }
   ],
   "source": [
    "wel.endswith(\"ming\")"
   ]
  },
  {
   "cell_type": "code",
   "execution_count": 62,
   "id": "587c219e-b0a3-4817-95cb-045bf8dfb414",
   "metadata": {},
   "outputs": [
    {
     "data": {
      "text/plain": [
       "'introuction to programming'"
      ]
     },
     "execution_count": 62,
     "metadata": {},
     "output_type": "execute_result"
    }
   ],
   "source": [
    "wel"
   ]
  },
  {
   "cell_type": "code",
   "execution_count": 63,
   "id": "aad2b020-c6ea-49eb-b6b3-f908bdb75767",
   "metadata": {},
   "outputs": [
    {
     "data": {
      "text/plain": [
       "12"
      ]
     },
     "execution_count": 63,
     "metadata": {},
     "output_type": "execute_result"
    }
   ],
   "source": [
    "wel.find(\"to\")"
   ]
  },
  {
   "cell_type": "code",
   "execution_count": 64,
   "id": "9132fc6a-ce5b-4138-becc-f95f379d8308",
   "metadata": {},
   "outputs": [
    {
     "data": {
      "text/plain": [
       "23"
      ]
     },
     "execution_count": 64,
     "metadata": {},
     "output_type": "execute_result"
    }
   ],
   "source": [
    "wel.find(\"ing\")"
   ]
  },
  {
   "cell_type": "code",
   "execution_count": 67,
   "id": "95bd546e-860f-4ad6-84cc-33d7cdb19b85",
   "metadata": {},
   "outputs": [
    {
     "data": {
      "text/plain": [
       "12"
      ]
     },
     "execution_count": 67,
     "metadata": {},
     "output_type": "execute_result"
    }
   ],
   "source": [
    "wel.index(\"to\")"
   ]
  },
  {
   "cell_type": "code",
   "execution_count": 69,
   "id": "470ffe9a-4ae1-4d05-bc78-60da76aab568",
   "metadata": {},
   "outputs": [
    {
     "data": {
      "text/plain": [
       "-1"
      ]
     },
     "execution_count": 69,
     "metadata": {},
     "output_type": "execute_result"
    }
   ],
   "source": [
    "wel.find(\"spy\")"
   ]
  },
  {
   "cell_type": "code",
   "execution_count": 66,
   "id": "dc79a9d8-5e81-46c9-bc5c-e5c4fbce1124",
   "metadata": {},
   "outputs": [
    {
     "data": {
      "text/plain": [
       "0"
      ]
     },
     "execution_count": 66,
     "metadata": {},
     "output_type": "execute_result"
    }
   ],
   "source": [
    "wel.index(\"i\")"
   ]
  },
  {
   "cell_type": "code",
   "execution_count": 70,
   "id": "8873d086-cf59-4ce3-9624-af739f2df956",
   "metadata": {},
   "outputs": [
    {
     "ename": "ValueError",
     "evalue": "substring not found",
     "output_type": "error",
     "traceback": [
      "\u001b[1;31m---------------------------------------------------------------------------\u001b[0m",
      "\u001b[1;31mValueError\u001b[0m                                Traceback (most recent call last)",
      "Cell \u001b[1;32mIn[70], line 1\u001b[0m\n\u001b[1;32m----> 1\u001b[0m \u001b[43mwel\u001b[49m\u001b[38;5;241;43m.\u001b[39;49m\u001b[43mindex\u001b[49m\u001b[43m(\u001b[49m\u001b[38;5;124;43m\"\u001b[39;49m\u001b[38;5;124;43mspy\u001b[39;49m\u001b[38;5;124;43m\"\u001b[39;49m\u001b[43m)\u001b[49m\n",
      "\u001b[1;31mValueError\u001b[0m: substring not found"
     ]
    }
   ],
   "source": [
    "wel.index(\"spy\")"
   ]
  },
  {
   "cell_type": "code",
   "execution_count": 71,
   "id": "5627aa43-2624-41dc-a1a9-67a2429d376c",
   "metadata": {},
   "outputs": [],
   "source": [
    "## Diff b/w index and find()\n",
    "\n",
    "## find() gives -1 if could not find the string while index() gives Value error"
   ]
  },
  {
   "cell_type": "code",
   "execution_count": 72,
   "id": "07f54054-df08-43c5-a89c-9466f901a583",
   "metadata": {},
   "outputs": [
    {
     "data": {
      "text/plain": [
       "False"
      ]
     },
     "execution_count": 72,
     "metadata": {},
     "output_type": "execute_result"
    }
   ],
   "source": [
    "wel.isalnum()"
   ]
  },
  {
   "cell_type": "code",
   "execution_count": 73,
   "id": "1cc57abd-cd19-45df-8561-c3349e4761c2",
   "metadata": {},
   "outputs": [
    {
     "data": {
      "text/plain": [
       "False"
      ]
     },
     "execution_count": 73,
     "metadata": {},
     "output_type": "execute_result"
    }
   ],
   "source": [
    "\"Hello 123\".isalnum()"
   ]
  },
  {
   "cell_type": "code",
   "execution_count": 74,
   "id": "365be62a-902b-413b-a5f2-b32475b00cc6",
   "metadata": {},
   "outputs": [],
   "source": [
    "##The isalnum() method returns True if all the characters are alphanumeric, meaning alphabet letter (a-z) and numbers (0-9)."
   ]
  },
  {
   "cell_type": "code",
   "execution_count": 75,
   "id": "3664e505-9d65-4f3e-9c3f-c5556b6bd55a",
   "metadata": {},
   "outputs": [
    {
     "data": {
      "text/plain": [
       "True"
      ]
     },
     "execution_count": 75,
     "metadata": {},
     "output_type": "execute_result"
    }
   ],
   "source": [
    "\"12345\".isalnum()"
   ]
  },
  {
   "cell_type": "code",
   "execution_count": 76,
   "id": "0c684a79-43b7-4e0b-8c3a-0881c0cea5ae",
   "metadata": {},
   "outputs": [
    {
     "data": {
      "text/plain": [
       "True"
      ]
     },
     "execution_count": 76,
     "metadata": {},
     "output_type": "execute_result"
    }
   ],
   "source": [
    "\"Hello123\".isalnum()"
   ]
  },
  {
   "cell_type": "code",
   "execution_count": 77,
   "id": "2a438667-1139-403c-a39b-7a41baaab07e",
   "metadata": {},
   "outputs": [
    {
     "data": {
      "text/plain": [
       "True"
      ]
     },
     "execution_count": 77,
     "metadata": {},
     "output_type": "execute_result"
    }
   ],
   "source": [
    "\"Abhi\".isalnum()"
   ]
  },
  {
   "cell_type": "code",
   "execution_count": 78,
   "id": "6b1336cf-8af5-4a2b-86b9-0ea34399f025",
   "metadata": {},
   "outputs": [
    {
     "data": {
      "text/plain": [
       "False"
      ]
     },
     "execution_count": 78,
     "metadata": {},
     "output_type": "execute_result"
    }
   ],
   "source": [
    "\"Hello@Abhi\".isalnum()"
   ]
  },
  {
   "cell_type": "code",
   "execution_count": 86,
   "id": "7dc00647-22b3-4fad-92e8-b3a425e11e71",
   "metadata": {},
   "outputs": [],
   "source": [
    "## isspace() - True if string has all white space"
   ]
  },
  {
   "cell_type": "code",
   "execution_count": 87,
   "id": "901965e2-cf3e-4a1e-b59e-2f0047cc5a05",
   "metadata": {},
   "outputs": [
    {
     "data": {
      "text/plain": [
       "False"
      ]
     },
     "execution_count": 87,
     "metadata": {},
     "output_type": "execute_result"
    }
   ],
   "source": [
    "\"Hello Abhi\".isspace()"
   ]
  },
  {
   "cell_type": "code",
   "execution_count": 88,
   "id": "e00c7a52-dc0f-4a27-8ace-44ee114690c9",
   "metadata": {},
   "outputs": [
    {
     "data": {
      "text/plain": [
       "True"
      ]
     },
     "execution_count": 88,
     "metadata": {},
     "output_type": "execute_result"
    }
   ],
   "source": [
    "\"    \".isspace()"
   ]
  },
  {
   "cell_type": "code",
   "execution_count": 89,
   "id": "a65e57e3-6ad0-4fa8-a661-2b1d9d6b339e",
   "metadata": {},
   "outputs": [
    {
     "data": {
      "text/plain": [
       "'introuction to programming'"
      ]
     },
     "execution_count": 89,
     "metadata": {},
     "output_type": "execute_result"
    }
   ],
   "source": [
    "wel"
   ]
  },
  {
   "cell_type": "code",
   "execution_count": 90,
   "id": "2768d27e-35b4-4fd5-bbe8-0e56f36bdd04",
   "metadata": {},
   "outputs": [
    {
     "data": {
      "text/plain": [
       "False"
      ]
     },
     "execution_count": 90,
     "metadata": {},
     "output_type": "execute_result"
    }
   ],
   "source": [
    "wel.istitle()"
   ]
  },
  {
   "cell_type": "code",
   "execution_count": 91,
   "id": "41545db3-2c5f-4721-8210-2ecdaffb1e19",
   "metadata": {},
   "outputs": [
    {
     "data": {
      "text/plain": [
       "True"
      ]
     },
     "execution_count": 91,
     "metadata": {},
     "output_type": "execute_result"
    }
   ],
   "source": [
    "\"Abhi Is Good\".istitle()"
   ]
  },
  {
   "cell_type": "code",
   "execution_count": 92,
   "id": "1a0898f7-c0a1-4ba0-b70b-c6782b06a03e",
   "metadata": {},
   "outputs": [
    {
     "data": {
      "text/plain": [
       "False"
      ]
     },
     "execution_count": 92,
     "metadata": {},
     "output_type": "execute_result"
    }
   ],
   "source": [
    "wel.isupper()"
   ]
  },
  {
   "cell_type": "code",
   "execution_count": 93,
   "id": "98728b4b-fe43-46fb-9d3b-e7f8b2afe2e8",
   "metadata": {},
   "outputs": [
    {
     "data": {
      "text/plain": [
       "True"
      ]
     },
     "execution_count": 93,
     "metadata": {},
     "output_type": "execute_result"
    }
   ],
   "source": [
    "wel.islower()"
   ]
  },
  {
   "cell_type": "code",
   "execution_count": 94,
   "id": "fe82029d-6a93-4f19-847b-f061a3b2551a",
   "metadata": {},
   "outputs": [
    {
     "data": {
      "text/plain": [
       "'HELLO EVERYONE'"
      ]
     },
     "execution_count": 94,
     "metadata": {},
     "output_type": "execute_result"
    }
   ],
   "source": [
    "\"hello everyone\".swapcase()"
   ]
  },
  {
   "cell_type": "code",
   "execution_count": 95,
   "id": "f64c5ba6-0558-4b1f-8c3d-9fe686b48528",
   "metadata": {},
   "outputs": [
    {
     "data": {
      "text/plain": [
       "'This Is A Python Class'"
      ]
     },
     "execution_count": 95,
     "metadata": {},
     "output_type": "execute_result"
    }
   ],
   "source": [
    "\"this is a python class\".title()"
   ]
  },
  {
   "cell_type": "code",
   "execution_count": null,
   "id": "e0c16529-0878-4006-8687-59b17dee3487",
   "metadata": {},
   "outputs": [],
   "source": []
  }
 ],
 "metadata": {
  "kernelspec": {
   "display_name": "Python 3 (ipykernel)",
   "language": "python",
   "name": "python3"
  },
  "language_info": {
   "codemirror_mode": {
    "name": "ipython",
    "version": 3
   },
   "file_extension": ".py",
   "mimetype": "text/x-python",
   "name": "python",
   "nbconvert_exporter": "python",
   "pygments_lexer": "ipython3",
   "version": "3.12.4"
  }
 },
 "nbformat": 4,
 "nbformat_minor": 5
}
