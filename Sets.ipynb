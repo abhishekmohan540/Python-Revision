{
 "cells": [
  {
   "cell_type": "markdown",
   "id": "6fb43d15-a85e-4605-bad8-d638df34e2ae",
   "metadata": {},
   "source": [
    "## Docstring"
   ]
  },
  {
   "cell_type": "code",
   "execution_count": 2,
   "id": "9a20cd79-3b7a-483d-bc4e-56cafcaa3f47",
   "metadata": {},
   "outputs": [
    {
     "name": "stdout",
     "output_type": "stream",
     "text": [
      "Return a new list containing all items from the iterable in ascending order.\n",
      "\n",
      "A custom key function can be supplied to customize the sort order, and the\n",
      "reverse flag can be set to request the result in descending order.\n"
     ]
    }
   ],
   "source": [
    "print(sorted.__doc__)"
   ]
  },
  {
   "cell_type": "code",
   "execution_count": 3,
   "id": "7d1c531c-7a26-4d69-893e-5a3be5404b34",
   "metadata": {},
   "outputs": [
    {
     "name": "stdout",
     "output_type": "stream",
     "text": [
      "Return a reverse iterator over the values of the given sequence.\n"
     ]
    }
   ],
   "source": [
    "print(reversed.__doc__)"
   ]
  },
  {
   "cell_type": "code",
   "execution_count": 4,
   "id": "313a4f38-bdc8-48cc-b167-1127234a6d6f",
   "metadata": {},
   "outputs": [
    {
     "data": {
      "text/plain": [
       "25"
      ]
     },
     "execution_count": 4,
     "metadata": {},
     "output_type": "execute_result"
    }
   ],
   "source": [
    "def square(n):\n",
    "    ''' Takes a number n and return its square (n*n)'''\n",
    "    return n*n\n",
    "\n",
    "square(5)"
   ]
  },
  {
   "cell_type": "code",
   "execution_count": 5,
   "id": "e72dc5c9-f013-44a3-907b-db4a5fb6c613",
   "metadata": {},
   "outputs": [
    {
     "name": "stdout",
     "output_type": "stream",
     "text": [
      " Takes a number n and return its square (n*n)\n"
     ]
    }
   ],
   "source": [
    "print(square.__doc__)"
   ]
  },
  {
   "cell_type": "markdown",
   "id": "c3ddd3df-6d81-4edf-a427-992a9446853e",
   "metadata": {},
   "source": [
    "## Sets"
   ]
  },
  {
   "cell_type": "code",
   "execution_count": 6,
   "id": "27e0b03e-f77d-43f5-a205-242cb15069e1",
   "metadata": {},
   "outputs": [],
   "source": [
    "# Set is an unordered collection of objects\n",
    "# Every element of a set is unique\n",
    "# elements can be of different data type"
   ]
  },
  {
   "cell_type": "code",
   "execution_count": 7,
   "id": "866654d8-21c6-437c-911f-ab0b22801552",
   "metadata": {},
   "outputs": [
    {
     "name": "stdout",
     "output_type": "stream",
     "text": [
      "{2, 4, 5, 6, 7}\n",
      "<class 'set'>\n"
     ]
    }
   ],
   "source": [
    "s = {2,2,6,4,5,5,5,7}\n",
    "print(s)\n",
    "print(type(s))"
   ]
  },
  {
   "cell_type": "code",
   "execution_count": 8,
   "id": "44377ba6-28bf-4f10-9f7c-5d68af831bf7",
   "metadata": {},
   "outputs": [
    {
     "name": "stdout",
     "output_type": "stream",
     "text": [
      "{1, 2.5, 3, 2, 5, 'abhi', 'man'}\n"
     ]
    }
   ],
   "source": [
    "s1= {1,\"abhi\",2,3,\"man\",2.5,2,1,5}\n",
    "print(s1)"
   ]
  },
  {
   "cell_type": "code",
   "execution_count": 9,
   "id": "3a74de44-8010-4341-bd3c-38047ce08c1a",
   "metadata": {},
   "outputs": [],
   "source": [
    "## Oberve it is unordered."
   ]
  },
  {
   "cell_type": "code",
   "execution_count": 11,
   "id": "0bc60ba7-1747-44ed-8637-6f464c26de08",
   "metadata": {},
   "outputs": [
    {
     "name": "stdout",
     "output_type": "stream",
     "text": [
      "set() <class 'set'>\n"
     ]
    }
   ],
   "source": [
    "empty_set = set()\n",
    "print(empty_set, type(empty_set))"
   ]
  },
  {
   "cell_type": "code",
   "execution_count": 12,
   "id": "eacfe8c8-517a-4986-9dc1-9d28571cec5b",
   "metadata": {},
   "outputs": [
    {
     "data": {
      "text/plain": [
       "dict"
      ]
     },
     "execution_count": 12,
     "metadata": {},
     "output_type": "execute_result"
    }
   ],
   "source": [
    "s = {}\n",
    "type(s)"
   ]
  },
  {
   "cell_type": "code",
   "execution_count": 13,
   "id": "11d836f7-9508-44e7-a4ad-e1fbf9e0767a",
   "metadata": {},
   "outputs": [
    {
     "data": {
      "text/plain": [
       "set"
      ]
     },
     "execution_count": 13,
     "metadata": {},
     "output_type": "execute_result"
    }
   ],
   "source": [
    "emp_st = set()\n",
    "type(emp_st)"
   ]
  },
  {
   "cell_type": "code",
   "execution_count": 14,
   "id": "7a59ed3b-00ac-47d8-9f1c-0a9a48270716",
   "metadata": {},
   "outputs": [
    {
     "data": {
      "text/plain": [
       "{1, 2, 2.5, 3, 5, 'abhi', 'man'}"
      ]
     },
     "execution_count": 14,
     "metadata": {},
     "output_type": "execute_result"
    }
   ],
   "source": [
    "s1"
   ]
  },
  {
   "cell_type": "code",
   "execution_count": 15,
   "id": "a0eb6d4b-eb3b-4f97-81f8-10c74fabd385",
   "metadata": {},
   "outputs": [],
   "source": [
    "s1.add(100)"
   ]
  },
  {
   "cell_type": "code",
   "execution_count": 16,
   "id": "ac498bbb-79ee-4e10-b436-8ef30b242a65",
   "metadata": {},
   "outputs": [
    {
     "data": {
      "text/plain": [
       "{1, 100, 2, 2.5, 3, 5, 'abhi', 'man'}"
      ]
     },
     "execution_count": 16,
     "metadata": {},
     "output_type": "execute_result"
    }
   ],
   "source": [
    "s1"
   ]
  },
  {
   "cell_type": "code",
   "execution_count": 17,
   "id": "c02b1226-5c82-4dbe-9675-4333e8612300",
   "metadata": {},
   "outputs": [
    {
     "data": {
      "text/plain": [
       "{1, 100, 2, 2.5, 3, 5, 'abhi', 'hello', 'man'}"
      ]
     },
     "execution_count": 17,
     "metadata": {},
     "output_type": "execute_result"
    }
   ],
   "source": [
    "s1.add(\"hello\")\n",
    "s1"
   ]
  },
  {
   "cell_type": "code",
   "execution_count": 18,
   "id": "ea08aa8b-8b95-44a8-bcef-e1a7ddabefc1",
   "metadata": {},
   "outputs": [
    {
     "data": {
      "text/plain": [
       "{1, 2, 3, 4, 6, 7}"
      ]
     },
     "execution_count": 18,
     "metadata": {},
     "output_type": "execute_result"
    }
   ],
   "source": [
    "s2 = {1,2,3}\n",
    "s3 = {4,6,7}\n",
    "s2.union(s3)"
   ]
  },
  {
   "cell_type": "code",
   "execution_count": 20,
   "id": "23f64078-8158-46b3-a906-70229564b902",
   "metadata": {},
   "outputs": [
    {
     "name": "stdout",
     "output_type": "stream",
     "text": [
      "{1, 2, 3}\n",
      "{4, 6, 7}\n"
     ]
    }
   ],
   "source": [
    "print(s2)\n",
    "print(s3)"
   ]
  },
  {
   "cell_type": "code",
   "execution_count": 21,
   "id": "fcdc8559-e751-4e09-a8c3-b191a24f3e24",
   "metadata": {},
   "outputs": [
    {
     "data": {
      "text/plain": [
       "{1, 2, 3, 4, 6, 7}"
      ]
     },
     "execution_count": 21,
     "metadata": {},
     "output_type": "execute_result"
    }
   ],
   "source": [
    "s4 = s2.union(s3)\n",
    "s4"
   ]
  },
  {
   "cell_type": "code",
   "execution_count": 23,
   "id": "c0b7fded-bf68-449c-8737-ada803fc160d",
   "metadata": {},
   "outputs": [
    {
     "name": "stdout",
     "output_type": "stream",
     "text": [
      "{1, 2, 3}\n",
      "{4, 6, 7}\n"
     ]
    }
   ],
   "source": [
    "print(s2)\n",
    "print(s3)  ## s1 and s2 will remain same"
   ]
  },
  {
   "cell_type": "code",
   "execution_count": 24,
   "id": "85287962-797d-417f-bd77-08da125bd874",
   "metadata": {},
   "outputs": [],
   "source": [
    "## If we want to make changes  to happen in s2 and sw3 as well\n",
    "## Then we should use update method.\n",
    "\n",
    "s2.update(s3)"
   ]
  },
  {
   "cell_type": "code",
   "execution_count": 25,
   "id": "50ce4b78-329f-4376-9c33-4588c39851bb",
   "metadata": {},
   "outputs": [
    {
     "name": "stdout",
     "output_type": "stream",
     "text": [
      "{1, 2, 3, 4, 6, 7}\n",
      "{4, 6, 7}\n"
     ]
    }
   ],
   "source": [
    "print(s2)\n",
    "print(s3)"
   ]
  },
  {
   "cell_type": "code",
   "execution_count": 27,
   "id": "65bf884f-cceb-4877-8c79-118941f4bfd9",
   "metadata": {},
   "outputs": [
    {
     "name": "stdout",
     "output_type": "stream",
     "text": [
      "{0, 5, 'e', 10, 'l', 15, 20, 'o', 'H'}\n"
     ]
    }
   ],
   "source": [
    "Numset = {5,15,0,20,10}\n",
    "string = \"Hello\"\n",
    "\n",
    "Numset.update(string)\n",
    "print(Numset)"
   ]
  },
  {
   "cell_type": "code",
   "execution_count": 28,
   "id": "115c8143-dd84-4ae1-9962-f24328a99ae3",
   "metadata": {},
   "outputs": [],
   "source": [
    "## discard() method"
   ]
  },
  {
   "cell_type": "code",
   "execution_count": 29,
   "id": "606060ac-131b-4ba5-9eca-ada2ba83f092",
   "metadata": {},
   "outputs": [
    {
     "data": {
      "text/plain": [
       "{1, 2, 3, 4, 6, 7}"
      ]
     },
     "execution_count": 29,
     "metadata": {},
     "output_type": "execute_result"
    }
   ],
   "source": [
    "s2"
   ]
  },
  {
   "cell_type": "code",
   "execution_count": 30,
   "id": "a29fd2b0-32a0-41d0-b764-f1718687a0cf",
   "metadata": {},
   "outputs": [],
   "source": [
    "s2.discard(7)"
   ]
  },
  {
   "cell_type": "code",
   "execution_count": 31,
   "id": "81658a85-d3e7-487d-8184-b040b3c12e91",
   "metadata": {},
   "outputs": [
    {
     "data": {
      "text/plain": [
       "{1, 2, 3, 4, 6}"
      ]
     },
     "execution_count": 31,
     "metadata": {},
     "output_type": "execute_result"
    }
   ],
   "source": [
    "s2"
   ]
  },
  {
   "cell_type": "code",
   "execution_count": 33,
   "id": "7a7bcbd2-8b5f-45da-beff-63dc11ffe9ce",
   "metadata": {},
   "outputs": [],
   "source": [
    "s2.discard(\"abhi\")   # when element does not exit in set then, gave no error"
   ]
  },
  {
   "cell_type": "code",
   "execution_count": 34,
   "id": "900e62a8-bf67-4174-927d-4d18c3b9b1f4",
   "metadata": {},
   "outputs": [
    {
     "ename": "KeyError",
     "evalue": "'abhi'",
     "output_type": "error",
     "traceback": [
      "\u001b[1;31m---------------------------------------------------------------------------\u001b[0m",
      "\u001b[1;31mKeyError\u001b[0m                                  Traceback (most recent call last)",
      "Cell \u001b[1;32mIn[34], line 1\u001b[0m\n\u001b[1;32m----> 1\u001b[0m \u001b[43ms2\u001b[49m\u001b[38;5;241;43m.\u001b[39;49m\u001b[43mremove\u001b[49m\u001b[43m(\u001b[49m\u001b[38;5;124;43m\"\u001b[39;49m\u001b[38;5;124;43mabhi\u001b[39;49m\u001b[38;5;124;43m\"\u001b[39;49m\u001b[43m)\u001b[49m  \u001b[38;5;66;03m# will give error if not present in set\u001b[39;00m\n",
      "\u001b[1;31mKeyError\u001b[0m: 'abhi'"
     ]
    }
   ],
   "source": [
    "s2.remove(\"abhi\")  # will give error if not present in set"
   ]
  },
  {
   "cell_type": "code",
   "execution_count": 35,
   "id": "ca778951-15d4-4aa9-8ae3-57c344833087",
   "metadata": {},
   "outputs": [],
   "source": [
    "s2.remove(4)"
   ]
  },
  {
   "cell_type": "code",
   "execution_count": 36,
   "id": "a436f27c-5094-4a99-ad9d-6e21c56924df",
   "metadata": {},
   "outputs": [
    {
     "data": {
      "text/plain": [
       "{1, 2, 3, 6}"
      ]
     },
     "execution_count": 36,
     "metadata": {},
     "output_type": "execute_result"
    }
   ],
   "source": [
    "s2"
   ]
  },
  {
   "cell_type": "code",
   "execution_count": 38,
   "id": "2ae2a2cb-ead4-4eca-9ae8-d9ea68d5020f",
   "metadata": {},
   "outputs": [
    {
     "data": {
      "text/plain": [
       "1"
      ]
     },
     "execution_count": 38,
     "metadata": {},
     "output_type": "execute_result"
    }
   ],
   "source": [
    "s2.pop()"
   ]
  },
  {
   "cell_type": "code",
   "execution_count": 39,
   "id": "1a876d45-ae8e-467e-9b81-521d6e37c7a0",
   "metadata": {},
   "outputs": [
    {
     "data": {
      "text/plain": [
       "{2, 3, 6}"
      ]
     },
     "execution_count": 39,
     "metadata": {},
     "output_type": "execute_result"
    }
   ],
   "source": [
    "s2"
   ]
  },
  {
   "cell_type": "code",
   "execution_count": 40,
   "id": "34792576-465f-4a48-8654-82eb68ec17f6",
   "metadata": {},
   "outputs": [
    {
     "data": {
      "text/plain": [
       "2"
      ]
     },
     "execution_count": 40,
     "metadata": {},
     "output_type": "execute_result"
    }
   ],
   "source": [
    "s2.pop()"
   ]
  },
  {
   "cell_type": "code",
   "execution_count": 41,
   "id": "8cbbaca1-c958-48b5-96a5-d6682d9a2e9f",
   "metadata": {},
   "outputs": [
    {
     "data": {
      "text/plain": [
       "{3, 6}"
      ]
     },
     "execution_count": 41,
     "metadata": {},
     "output_type": "execute_result"
    }
   ],
   "source": [
    "s2"
   ]
  },
  {
   "cell_type": "code",
   "execution_count": 43,
   "id": "8a6b69d6-db67-43a2-957c-5a4e85fcff32",
   "metadata": {},
   "outputs": [
    {
     "data": {
      "text/plain": [
       "{4, 6, 7}"
      ]
     },
     "execution_count": 43,
     "metadata": {},
     "output_type": "execute_result"
    }
   ],
   "source": [
    "s3"
   ]
  },
  {
   "cell_type": "code",
   "execution_count": 44,
   "id": "240768df-7f27-47e4-94ae-bd821e55a73c",
   "metadata": {},
   "outputs": [
    {
     "data": {
      "text/plain": [
       "{6}"
      ]
     },
     "execution_count": 44,
     "metadata": {},
     "output_type": "execute_result"
    }
   ],
   "source": [
    "s2.intersection(s3)"
   ]
  },
  {
   "cell_type": "code",
   "execution_count": 45,
   "id": "990a4b3a-ec7f-47c0-9185-c93364a82a7c",
   "metadata": {},
   "outputs": [
    {
     "data": {
      "text/plain": [
       "{6}"
      ]
     },
     "execution_count": 45,
     "metadata": {},
     "output_type": "execute_result"
    }
   ],
   "source": [
    "s3.intersection(s2)"
   ]
  },
  {
   "cell_type": "code",
   "execution_count": 46,
   "id": "97ab8a9b-9f5b-4afe-9da0-d1a7b6d41bf3",
   "metadata": {},
   "outputs": [],
   "source": [
    "planet1={\"Mars\",\"Earth\",\"Mercury\",\"Venus\"}\n",
    "planet2={\"Jupyter\",\"Uranus\",\"Venus\",\"Earth\",\"Neptune\"}"
   ]
  },
  {
   "cell_type": "code",
   "execution_count": 47,
   "id": "028471ec-4615-4e95-b169-35bc4d43ff06",
   "metadata": {},
   "outputs": [
    {
     "data": {
      "text/plain": [
       "{'Earth', 'Venus'}"
      ]
     },
     "execution_count": 47,
     "metadata": {},
     "output_type": "execute_result"
    }
   ],
   "source": [
    "planet1.intersection(planet2)"
   ]
  },
  {
   "cell_type": "code",
   "execution_count": 48,
   "id": "1db4a7b4-1883-4b93-a187-407f9af956ef",
   "metadata": {},
   "outputs": [
    {
     "data": {
      "text/plain": [
       "{'Earth', 'Venus'}"
      ]
     },
     "execution_count": 48,
     "metadata": {},
     "output_type": "execute_result"
    }
   ],
   "source": [
    "planet2.intersection(planet1)"
   ]
  },
  {
   "cell_type": "code",
   "execution_count": 51,
   "id": "be4a19e1-21d0-4361-9e82-3a19930c4d5e",
   "metadata": {},
   "outputs": [],
   "source": [
    "Planets = planet1.intersection_update(planet2)"
   ]
  },
  {
   "cell_type": "code",
   "execution_count": 55,
   "id": "0d85e2e1-94eb-4b55-9ade-164245349d32",
   "metadata": {},
   "outputs": [
    {
     "name": "stdout",
     "output_type": "stream",
     "text": [
      "None\n"
     ]
    }
   ],
   "source": [
    "print(Planets)"
   ]
  },
  {
   "cell_type": "code",
   "execution_count": 53,
   "id": "30989f88-b5f0-49c2-a274-bcb1d76ffa51",
   "metadata": {},
   "outputs": [
    {
     "data": {
      "text/plain": [
       "{'Earth', 'Venus'}"
      ]
     },
     "execution_count": 53,
     "metadata": {},
     "output_type": "execute_result"
    }
   ],
   "source": [
    "planet1"
   ]
  },
  {
   "cell_type": "code",
   "execution_count": 54,
   "id": "a4641325-b306-4412-8293-3b82808e7666",
   "metadata": {},
   "outputs": [
    {
     "data": {
      "text/plain": [
       "{'Earth', 'Jupyter', 'Neptune', 'Uranus', 'Venus'}"
      ]
     },
     "execution_count": 54,
     "metadata": {},
     "output_type": "execute_result"
    }
   ],
   "source": [
    "planet2"
   ]
  },
  {
   "cell_type": "code",
   "execution_count": 56,
   "id": "d2422a9e-d584-41e0-bc37-ee2cbc69220b",
   "metadata": {},
   "outputs": [],
   "source": [
    "## Difference method"
   ]
  },
  {
   "cell_type": "code",
   "execution_count": 58,
   "id": "9fc8e820-0ac1-43d3-9063-c0f2929f243b",
   "metadata": {},
   "outputs": [
    {
     "name": "stdout",
     "output_type": "stream",
     "text": [
      "{0, 5, 15}\n"
     ]
    }
   ],
   "source": [
    "set1 = {5,15,0,20,10}\n",
    "set2 = {10,20,30,40,50}\n",
    "\n",
    "set3 = set1.difference(set2)   # similar to A-B in venn diagram\n",
    "print(set3)"
   ]
  },
  {
   "cell_type": "code",
   "execution_count": 60,
   "id": "a0f4829c-d118-48a8-bdb2-e6518c36851d",
   "metadata": {},
   "outputs": [
    {
     "data": {
      "text/plain": [
       "{0, 5, 10, 15, 20}"
      ]
     },
     "execution_count": 60,
     "metadata": {},
     "output_type": "execute_result"
    }
   ],
   "source": [
    "set1"
   ]
  },
  {
   "cell_type": "code",
   "execution_count": 61,
   "id": "10d52d14-cd2f-4faa-86ab-279c739b4b3d",
   "metadata": {},
   "outputs": [
    {
     "data": {
      "text/plain": [
       "{10, 20, 30, 40, 50}"
      ]
     },
     "execution_count": 61,
     "metadata": {},
     "output_type": "execute_result"
    }
   ],
   "source": [
    "set2"
   ]
  },
  {
   "cell_type": "code",
   "execution_count": 62,
   "id": "dda1a502-3e0c-4eb9-8103-f1d49a922f4f",
   "metadata": {},
   "outputs": [
    {
     "name": "stdout",
     "output_type": "stream",
     "text": [
      "{40, 50, 30}\n"
     ]
    }
   ],
   "source": [
    "set4 = set2.difference(set1)   # similar to B-A in venn diagram\n",
    "print(set4)"
   ]
  },
  {
   "cell_type": "code",
   "execution_count": 63,
   "id": "c5f192e8-0044-49a3-a79d-911e494eefbe",
   "metadata": {},
   "outputs": [],
   "source": [
    "## Symmetric Difference"
   ]
  },
  {
   "cell_type": "code",
   "execution_count": 64,
   "id": "f82aef8d-ac3d-4b80-81bd-c01eb4eb7928",
   "metadata": {},
   "outputs": [],
   "source": [
    "## (A U B) - (A intersection B)\n",
    "## OR,\n",
    "##(A-B) U (B-A)"
   ]
  },
  {
   "cell_type": "code",
   "execution_count": 65,
   "id": "8278c2da-7cda-4cdf-bc15-16c115cd0bdf",
   "metadata": {},
   "outputs": [
    {
     "name": "stdout",
     "output_type": "stream",
     "text": [
      "{0, 20, 5, 10, 15}\n",
      "{50, 20, 40, 10, 30}\n"
     ]
    }
   ],
   "source": [
    "print(set1)\n",
    "print(set2)"
   ]
  },
  {
   "cell_type": "code",
   "execution_count": 66,
   "id": "79024570-91ca-4787-88d1-955f9bb3e20b",
   "metadata": {},
   "outputs": [
    {
     "name": "stdout",
     "output_type": "stream",
     "text": [
      "{0, 50, 5, 40, 30, 15}\n"
     ]
    }
   ],
   "source": [
    "set3 = set1.symmetric_difference(set2)\n",
    "print(set3)"
   ]
  },
  {
   "cell_type": "code",
   "execution_count": 67,
   "id": "ef492a4c-1876-4ca6-8059-2aaafd887418",
   "metadata": {},
   "outputs": [
    {
     "name": "stdout",
     "output_type": "stream",
     "text": [
      "{0, 50, 5, 40, 30, 15}\n"
     ]
    }
   ],
   "source": [
    "set4 = set2.symmetric_difference(set1)\n",
    "print(set4)"
   ]
  },
  {
   "cell_type": "code",
   "execution_count": 68,
   "id": "9420cc29-ee65-4bce-86dc-5ff2aec1f10f",
   "metadata": {},
   "outputs": [
    {
     "name": "stdout",
     "output_type": "stream",
     "text": [
      "{0, 20, 5, 10, 15}\n",
      "{50, 20, 40, 10, 30}\n"
     ]
    }
   ],
   "source": [
    "print(set1)\n",
    "print(set2)"
   ]
  },
  {
   "cell_type": "code",
   "execution_count": 70,
   "id": "b601edbb-fc47-42fc-9c76-281bb63b9e29",
   "metadata": {},
   "outputs": [
    {
     "data": {
      "text/plain": [
       "False"
      ]
     },
     "execution_count": 70,
     "metadata": {},
     "output_type": "execute_result"
    }
   ],
   "source": [
    "set1.isdisjoint(set2)  ## Check for anything common or not. False if common found. "
   ]
  },
  {
   "cell_type": "code",
   "execution_count": 71,
   "id": "b8604492-a8b0-455f-a095-0babefbc7564",
   "metadata": {},
   "outputs": [
    {
     "data": {
      "text/plain": [
       "False"
      ]
     },
     "execution_count": 71,
     "metadata": {},
     "output_type": "execute_result"
    }
   ],
   "source": [
    "set3.isdisjoint(set1)"
   ]
  },
  {
   "cell_type": "code",
   "execution_count": 73,
   "id": "3598b2bb-5b59-4658-97af-d8d2930e37e7",
   "metadata": {},
   "outputs": [
    {
     "data": {
      "text/plain": [
       "True"
      ]
     },
     "execution_count": 73,
     "metadata": {},
     "output_type": "execute_result"
    }
   ],
   "source": [
    "set5= {'a','b','c'}\n",
    "set5.isdisjoint(set1)"
   ]
  },
  {
   "cell_type": "code",
   "execution_count": 74,
   "id": "1aa65adc-b6be-4b1b-99e2-41651b7e30bd",
   "metadata": {},
   "outputs": [
    {
     "data": {
      "text/plain": [
       "True"
      ]
     },
     "execution_count": 74,
     "metadata": {},
     "output_type": "execute_result"
    }
   ],
   "source": [
    "set5.isdisjoint(set2)"
   ]
  },
  {
   "cell_type": "code",
   "execution_count": 75,
   "id": "b5329c16-ac91-4cb6-a274-73ea132b9393",
   "metadata": {},
   "outputs": [
    {
     "data": {
      "text/plain": [
       "{0, 5, 10, 15, 20}"
      ]
     },
     "execution_count": 75,
     "metadata": {},
     "output_type": "execute_result"
    }
   ],
   "source": [
    "set1"
   ]
  },
  {
   "cell_type": "code",
   "execution_count": 76,
   "id": "09cfca91-0d66-497b-91db-d27ea4cb76ff",
   "metadata": {},
   "outputs": [
    {
     "data": {
      "text/plain": [
       "{10, 20, 30, 40, 50}"
      ]
     },
     "execution_count": 76,
     "metadata": {},
     "output_type": "execute_result"
    }
   ],
   "source": [
    "set2"
   ]
  },
  {
   "cell_type": "code",
   "execution_count": 77,
   "id": "e5fc9c84-93c7-45cc-8fbe-dfd83ad5af04",
   "metadata": {},
   "outputs": [
    {
     "data": {
      "text/plain": [
       "False"
      ]
     },
     "execution_count": 77,
     "metadata": {},
     "output_type": "execute_result"
    }
   ],
   "source": [
    "set1.issubset(set2)"
   ]
  },
  {
   "cell_type": "code",
   "execution_count": 78,
   "id": "914821e0-dfe2-4dbd-9451-5afe6d995a57",
   "metadata": {},
   "outputs": [],
   "source": [
    "set6={0,5,10}"
   ]
  },
  {
   "cell_type": "code",
   "execution_count": 79,
   "id": "c60e76b2-ffa8-4b15-b234-02e4e2cdbd7e",
   "metadata": {},
   "outputs": [
    {
     "data": {
      "text/plain": [
       "True"
      ]
     },
     "execution_count": 79,
     "metadata": {},
     "output_type": "execute_result"
    }
   ],
   "source": [
    "set6.issubset(set1)"
   ]
  },
  {
   "cell_type": "code",
   "execution_count": 80,
   "id": "2aca3d98-f1e4-40bc-b3eb-6d10e1187f4d",
   "metadata": {},
   "outputs": [],
   "source": [
    "rand_set = {1,2,1.23,\"a\",4,5,4,5}"
   ]
  },
  {
   "cell_type": "code",
   "execution_count": 81,
   "id": "49850111-e31f-46b3-ac7d-e43aaae4d2bf",
   "metadata": {},
   "outputs": [
    {
     "data": {
      "text/plain": [
       "{1, 1.23, 2, 4, 5, 'a'}"
      ]
     },
     "execution_count": 81,
     "metadata": {},
     "output_type": "execute_result"
    }
   ],
   "source": [
    "rand_set"
   ]
  },
  {
   "cell_type": "code",
   "execution_count": 82,
   "id": "8b6f9d8f-087c-483d-848b-b50b8bd6dfd0",
   "metadata": {},
   "outputs": [],
   "source": [
    "del rand_set"
   ]
  },
  {
   "cell_type": "code",
   "execution_count": 83,
   "id": "c813355b-14a9-4e9b-ada6-d2a66b1c7563",
   "metadata": {},
   "outputs": [
    {
     "ename": "NameError",
     "evalue": "name 'rand_set' is not defined",
     "output_type": "error",
     "traceback": [
      "\u001b[1;31m---------------------------------------------------------------------------\u001b[0m",
      "\u001b[1;31mNameError\u001b[0m                                 Traceback (most recent call last)",
      "Cell \u001b[1;32mIn[83], line 1\u001b[0m\n\u001b[1;32m----> 1\u001b[0m \u001b[43mrand_set\u001b[49m\n",
      "\u001b[1;31mNameError\u001b[0m: name 'rand_set' is not defined"
     ]
    }
   ],
   "source": [
    "rand_set"
   ]
  },
  {
   "cell_type": "code",
   "execution_count": 84,
   "id": "9749db3d-0c42-460f-8c68-a1892d7706b9",
   "metadata": {},
   "outputs": [],
   "source": [
    "rand_set1 = {1,2,3,4,5,6,7,8}"
   ]
  },
  {
   "cell_type": "code",
   "execution_count": 85,
   "id": "c28da91c-49cb-4493-ad9a-49cd2909bbf8",
   "metadata": {},
   "outputs": [],
   "source": [
    "## I dont want to delete the entire set then use claer."
   ]
  },
  {
   "cell_type": "code",
   "execution_count": 86,
   "id": "8d0a815c-6214-446f-9a3b-f6006ecdc277",
   "metadata": {},
   "outputs": [],
   "source": [
    "rand_set1.clear()"
   ]
  },
  {
   "cell_type": "code",
   "execution_count": 87,
   "id": "42a96c7b-3846-486a-8817-746826bec867",
   "metadata": {},
   "outputs": [
    {
     "data": {
      "text/plain": [
       "set()"
      ]
     },
     "execution_count": 87,
     "metadata": {},
     "output_type": "execute_result"
    }
   ],
   "source": [
    "rand_set1"
   ]
  },
  {
   "cell_type": "code",
   "execution_count": 88,
   "id": "85701dbb-9725-4799-972d-0c52b75e4606",
   "metadata": {},
   "outputs": [],
   "source": [
    "# clear removes all the element from the list"
   ]
  },
  {
   "cell_type": "code",
   "execution_count": null,
   "id": "8ad9e790-0233-4870-8059-70ccb056db73",
   "metadata": {},
   "outputs": [],
   "source": []
  }
 ],
 "metadata": {
  "kernelspec": {
   "display_name": "Python 3 (ipykernel)",
   "language": "python",
   "name": "python3"
  },
  "language_info": {
   "codemirror_mode": {
    "name": "ipython",
    "version": 3
   },
   "file_extension": ".py",
   "mimetype": "text/x-python",
   "name": "python",
   "nbconvert_exporter": "python",
   "pygments_lexer": "ipython3",
   "version": "3.12.4"
  }
 },
 "nbformat": 4,
 "nbformat_minor": 5
}
