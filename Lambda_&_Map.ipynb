{
 "cells": [
  {
   "cell_type": "markdown",
   "id": "1fe5eecb-9c43-4762-b595-34d88da47acb",
   "metadata": {},
   "source": [
    "## Lambda Function"
   ]
  },
  {
   "cell_type": "code",
   "execution_count": 1,
   "id": "4d73217b-8aa1-4796-80bf-d2bd7614cce6",
   "metadata": {},
   "outputs": [
    {
     "data": {
      "text/plain": [
       "125"
      ]
     },
     "execution_count": 1,
     "metadata": {},
     "output_type": "execute_result"
    }
   ],
   "source": [
    "def cube(x):\n",
    "    return x*x*x\n",
    "cube(5)"
   ]
  },
  {
   "cell_type": "code",
   "execution_count": 4,
   "id": "43248e6a-6517-4ed9-aa0a-f8e5ff56dec6",
   "metadata": {},
   "outputs": [
    {
     "data": {
      "text/plain": [
       "125"
      ]
     },
     "execution_count": 4,
     "metadata": {},
     "output_type": "execute_result"
    }
   ],
   "source": [
    "## Same thing can be done using lambda function\n",
    "cube  = lambda x: x*x*x\n",
    "cube(5)"
   ]
  },
  {
   "cell_type": "code",
   "execution_count": 5,
   "id": "29c95826-7437-4d5d-9ef2-95293544dfa2",
   "metadata": {},
   "outputs": [
    {
     "data": {
      "text/plain": [
       "200"
      ]
     },
     "execution_count": 5,
     "metadata": {},
     "output_type": "execute_result"
    }
   ],
   "source": [
    "double = lambda x: x*2\n",
    "double(100)"
   ]
  },
  {
   "cell_type": "code",
   "execution_count": 6,
   "id": "4c741d43-56c8-4809-a991-209b3276d4c3",
   "metadata": {},
   "outputs": [
    {
     "data": {
      "text/plain": [
       "4.0"
      ]
     },
     "execution_count": 6,
     "metadata": {},
     "output_type": "execute_result"
    }
   ],
   "source": [
    "avg  = lambda x,y,z: (x+y+z)/3\n",
    "avg(3,4,5)"
   ]
  },
  {
   "cell_type": "code",
   "execution_count": 10,
   "id": "15d96dab-8892-43a4-9ee3-b1ee9e9eef7b",
   "metadata": {},
   "outputs": [
    {
     "name": "stdout",
     "output_type": "stream",
     "text": [
      "[5, 10, 15, 20, 25, 30, 35, 40, 45, 50]\n"
     ]
    }
   ],
   "source": [
    "table = lambda x: [x*i for i in range(1,11)]\n",
    "print(table(5))"
   ]
  },
  {
   "cell_type": "code",
   "execution_count": 12,
   "id": "6bb7242c-bb1e-496a-80ed-9aacb02c6f49",
   "metadata": {},
   "outputs": [
    {
     "name": "stdout",
     "output_type": "stream",
     "text": [
      "[12, 24, 36, 48, 60, 72, 84, 96, 108, 120]\n"
     ]
    }
   ],
   "source": [
    "table = lambda x: [x*i for i in range(1,11)]\n",
    "print(table(12))"
   ]
  },
  {
   "cell_type": "code",
   "execution_count": null,
   "id": "fecd878c-1ff6-40b0-9685-de7175e22536",
   "metadata": {},
   "outputs": [],
   "source": []
  },
  {
   "cell_type": "markdown",
   "id": "0474caa2-2ca7-4e49-a8f8-457d1e7632d1",
   "metadata": {},
   "source": [
    "## Map, Filter, Reduce"
   ]
  },
  {
   "cell_type": "code",
   "execution_count": 13,
   "id": "2cbf1ed9-0a10-4caf-b054-3e480c3de11c",
   "metadata": {},
   "outputs": [
    {
     "name": "stdout",
     "output_type": "stream",
     "text": [
      "[1, 8, 27, 64, 125, 216, 343]\n"
     ]
    }
   ],
   "source": [
    "def cube(x):\n",
    "    return x*x*x\n",
    "\n",
    "newl=[]\n",
    "l = [1,2,3,4,5,6,7]\n",
    "for items in l:\n",
    "    newl.append(cube(items))\n",
    "print(newl)"
   ]
  },
  {
   "cell_type": "code",
   "execution_count": 15,
   "id": "4c1ea0ae-e701-4016-a26b-52e7087f18c1",
   "metadata": {},
   "outputs": [],
   "source": [
    "def cube(x):\n",
    "    return x*x*x\n",
    "l = [1,2,3,4,5,6,7]\n"
   ]
  },
  {
   "cell_type": "code",
   "execution_count": 16,
   "id": "1807b3a8-1322-450b-9bbc-48b10d83b2d9",
   "metadata": {},
   "outputs": [
    {
     "name": "stdout",
     "output_type": "stream",
     "text": [
      "<map object at 0x00000137112AA380>\n"
     ]
    }
   ],
   "source": [
    "newl = map(cube,l)\n",
    "print(newl)"
   ]
  },
  {
   "cell_type": "code",
   "execution_count": 17,
   "id": "275e0e3c-6d56-48ff-9e2a-71cb9cc6647b",
   "metadata": {},
   "outputs": [
    {
     "name": "stdout",
     "output_type": "stream",
     "text": [
      "[1, 8, 27, 64, 125, 216, 343]\n"
     ]
    }
   ],
   "source": [
    "newl = list(map(cube,l))\n",
    "print(newl)"
   ]
  },
  {
   "cell_type": "code",
   "execution_count": 18,
   "id": "4791ac8f-6484-439b-a6c6-e96e2591b5e3",
   "metadata": {},
   "outputs": [],
   "source": [
    "## Filter function"
   ]
  },
  {
   "cell_type": "code",
   "execution_count": 19,
   "id": "7f6cccb6-8395-4913-b0e9-243a3c6f17fe",
   "metadata": {},
   "outputs": [
    {
     "name": "stdout",
     "output_type": "stream",
     "text": [
      "<filter object at 0x0000013712342350>\n"
     ]
    }
   ],
   "source": [
    "l = [1,2,3,4,5,6,7]\n",
    "def filter_function(a):\n",
    "    return a>3\n",
    "\n",
    "newl = filter(filter_function,l)\n",
    "print(newl)"
   ]
  },
  {
   "cell_type": "code",
   "execution_count": 20,
   "id": "b85d17dc-433a-4e77-9735-749a66c12b0e",
   "metadata": {},
   "outputs": [
    {
     "name": "stdout",
     "output_type": "stream",
     "text": [
      "[4, 5, 6, 7]\n"
     ]
    }
   ],
   "source": [
    "l = [1,2,3,4,5,6,7]\n",
    "def filter_function(a):\n",
    "    return a>3\n",
    "\n",
    "newl = list(filter(filter_function,l))\n",
    "print(newl)"
   ]
  },
  {
   "cell_type": "code",
   "execution_count": 21,
   "id": "e352bf6c-1517-488a-9624-599f0746e1bf",
   "metadata": {},
   "outputs": [],
   "source": [
    "## each element in l will go to filter_function. If its output is True then it will go to newl else it will get discarded"
   ]
  },
  {
   "cell_type": "code",
   "execution_count": 26,
   "id": "5ca60dcf-cf63-4972-a7a1-c912d1d311df",
   "metadata": {},
   "outputs": [
    {
     "name": "stdout",
     "output_type": "stream",
     "text": [
      "[2, 4, 6, 8, 10]\n"
     ]
    }
   ],
   "source": [
    "lis = [1,2,3,4,5,6,7,8,9,10]\n",
    "# Need to shortlist numbers divisible by 2 only.\n",
    "\n",
    "def div_by_2(n):\n",
    "    if n%2==0:\n",
    "        return n\n",
    "newlis = list(filter(div_by_2,lis))\n",
    "print(newlis)"
   ]
  },
  {
   "cell_type": "code",
   "execution_count": 22,
   "id": "8016ba40-1b13-4ac7-8b9e-819d2c543495",
   "metadata": {},
   "outputs": [],
   "source": [
    "## Reduce function"
   ]
  },
  {
   "cell_type": "code",
   "execution_count": 23,
   "id": "740293f8-d45f-4bb6-9157-33d68b1d3dfe",
   "metadata": {},
   "outputs": [],
   "source": [
    "from functools import reduce "
   ]
  },
  {
   "cell_type": "code",
   "execution_count": 24,
   "id": "d0db39d5-9638-4a6e-9efc-dcee6573e102",
   "metadata": {},
   "outputs": [
    {
     "name": "stdout",
     "output_type": "stream",
     "text": [
      "15\n"
     ]
    }
   ],
   "source": [
    "numbers = [1,2,3,4,5]\n",
    "def mysum(x,y):\n",
    "    return x+y\n",
    "\n",
    "Sum = reduce(mysum,numbers)\n",
    "print(Sum)"
   ]
  },
  {
   "cell_type": "code",
   "execution_count": 25,
   "id": "dbcdc568-17e9-443e-99c1-d2d7fb3401af",
   "metadata": {},
   "outputs": [],
   "source": [
    "## Working:-\n",
    "## 1+2 = 3\n",
    "## 3+3=6\n",
    "## 6+4=10\n",
    "## 10+5=15"
   ]
  },
  {
   "cell_type": "code",
   "execution_count": null,
   "id": "0fd686c9-0830-4e2d-8d0e-4eaf117dc3f2",
   "metadata": {},
   "outputs": [],
   "source": []
  },
  {
   "cell_type": "markdown",
   "id": "67a8a232-d873-4a46-b1e5-cabbabffcee6",
   "metadata": {},
   "source": [
    "## Lifetime & Scope of varibale"
   ]
  },
  {
   "cell_type": "code",
   "execution_count": 29,
   "id": "5376e71d-bbf9-4a1b-98c8-53255117b854",
   "metadata": {},
   "outputs": [
    {
     "name": "stdout",
     "output_type": "stream",
     "text": [
      "Inside func:  20\n",
      "inside Func:  10\n",
      "Outside func:  30\n"
     ]
    },
    {
     "ename": "NameError",
     "evalue": "name 'b' is not defined",
     "output_type": "error",
     "traceback": [
      "\u001b[1;31m---------------------------------------------------------------------------\u001b[0m",
      "\u001b[1;31mNameError\u001b[0m                                 Traceback (most recent call last)",
      "Cell \u001b[1;32mIn[29], line 9\u001b[0m\n\u001b[0;32m      7\u001b[0m func(a)\n\u001b[0;32m      8\u001b[0m \u001b[38;5;28mprint\u001b[39m(\u001b[38;5;124m\"\u001b[39m\u001b[38;5;124mOutside func: \u001b[39m\u001b[38;5;124m\"\u001b[39m,a)\n\u001b[1;32m----> 9\u001b[0m \u001b[38;5;28mprint\u001b[39m(\u001b[43mb\u001b[49m) \u001b[38;5;66;03m## not defined outside function\u001b[39;00m\n",
      "\u001b[1;31mNameError\u001b[0m: name 'b' is not defined"
     ]
    }
   ],
   "source": [
    "def func(x):\n",
    "    a = 20  # available to inside function only.\n",
    "    b = 10\n",
    "    print(\"Inside func: \",a)\n",
    "    print(\"inside Func: \",b)\n",
    "a  = 30\n",
    "func(a)\n",
    "print(\"Outside func: \",a)\n",
    "print(b) ## not defined outside function"
   ]
  },
  {
   "cell_type": "code",
   "execution_count": null,
   "id": "5cfef5d7-b438-4562-8d7e-ea2c8eaee9c2",
   "metadata": {},
   "outputs": [],
   "source": []
  }
 ],
 "metadata": {
  "kernelspec": {
   "display_name": "Python 3 (ipykernel)",
   "language": "python",
   "name": "python3"
  },
  "language_info": {
   "codemirror_mode": {
    "name": "ipython",
    "version": 3
   },
   "file_extension": ".py",
   "mimetype": "text/x-python",
   "name": "python",
   "nbconvert_exporter": "python",
   "pygments_lexer": "ipython3",
   "version": "3.12.4"
  }
 },
 "nbformat": 4,
 "nbformat_minor": 5
}
