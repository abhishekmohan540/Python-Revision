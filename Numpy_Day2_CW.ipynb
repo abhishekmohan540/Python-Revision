{
 "cells": [
  {
   "cell_type": "markdown",
   "id": "3bb532fb-fa1b-4ee5-845e-a06bd4f5e750",
   "metadata": {},
   "source": [
    "## Numpy"
   ]
  },
  {
   "cell_type": "code",
   "execution_count": 1,
   "id": "0021de98-f581-4b6a-b624-8e359377c38f",
   "metadata": {},
   "outputs": [],
   "source": [
    "# Numpy stands for NUmerical Python.\n",
    "# Operations using Numpy:-\n",
    "# 1. Mathematical  and logical operations on array.\n",
    "# 2. Operations related to linear algebra.\n",
    "# 3. Random number generations.\n",
    "# 4. Fourier  transform etc."
   ]
  },
  {
   "cell_type": "code",
   "execution_count": 2,
   "id": "1324e31b-17c6-482c-a00b-8910ed9dffdf",
   "metadata": {},
   "outputs": [],
   "source": [
    "# Array"
   ]
  },
  {
   "cell_type": "code",
   "execution_count": 3,
   "id": "275d3a3c-a490-452b-a3f2-b88b822ea79d",
   "metadata": {},
   "outputs": [],
   "source": [
    "# Arrays are similar to list in Python except that Arrays have same data types."
   ]
  },
  {
   "cell_type": "code",
   "execution_count": 4,
   "id": "d3929f09-0e50-4de0-8f82-241a254991e1",
   "metadata": {},
   "outputs": [],
   "source": [
    "import numpy as np"
   ]
  },
  {
   "cell_type": "code",
   "execution_count": 5,
   "id": "d0bbbb5c-6d9f-4faf-b023-43aea8a12705",
   "metadata": {},
   "outputs": [],
   "source": [
    "arr = np.array([1,2,3,4,5], float)"
   ]
  },
  {
   "cell_type": "code",
   "execution_count": 6,
   "id": "36a9ca00-2fa2-46db-9a67-8177626d4709",
   "metadata": {},
   "outputs": [
    {
     "data": {
      "text/plain": [
       "array([1., 2., 3., 4., 5.])"
      ]
     },
     "execution_count": 6,
     "metadata": {},
     "output_type": "execute_result"
    }
   ],
   "source": [
    "arr"
   ]
  },
  {
   "cell_type": "code",
   "execution_count": 7,
   "id": "8d071c54-63f1-44d8-9fc6-2c135a55af45",
   "metadata": {},
   "outputs": [
    {
     "data": {
      "text/plain": [
       "numpy.ndarray"
      ]
     },
     "execution_count": 7,
     "metadata": {},
     "output_type": "execute_result"
    }
   ],
   "source": [
    "type(arr)"
   ]
  },
  {
   "cell_type": "code",
   "execution_count": 8,
   "id": "d48fd114-5a4c-4973-9f81-77e503f88dc4",
   "metadata": {},
   "outputs": [],
   "source": [
    "# creating a 2D array"
   ]
  },
  {
   "cell_type": "code",
   "execution_count": 9,
   "id": "938fc78a-f0aa-4d35-abea-1ae5f6def67e",
   "metadata": {},
   "outputs": [],
   "source": [
    "arr1 = np.array([[2,3,5],[5,3,7]])"
   ]
  },
  {
   "cell_type": "code",
   "execution_count": 10,
   "id": "3c7e1556-906b-4f13-9792-c775e04047b7",
   "metadata": {},
   "outputs": [
    {
     "data": {
      "text/plain": [
       "array([[2, 3, 5],\n",
       "       [5, 3, 7]])"
      ]
     },
     "execution_count": 10,
     "metadata": {},
     "output_type": "execute_result"
    }
   ],
   "source": [
    "arr1"
   ]
  },
  {
   "cell_type": "code",
   "execution_count": 11,
   "id": "6c36381b-312a-4478-9000-2ef9c97f2910",
   "metadata": {},
   "outputs": [
    {
     "data": {
      "text/plain": [
       "array([2, 3, 5])"
      ]
     },
     "execution_count": 11,
     "metadata": {},
     "output_type": "execute_result"
    }
   ],
   "source": [
    "arr1[0]"
   ]
  },
  {
   "cell_type": "code",
   "execution_count": 13,
   "id": "2b906683-06f2-4f9f-94d3-891a3b2d7d7e",
   "metadata": {},
   "outputs": [
    {
     "data": {
      "text/plain": [
       "array([5, 3, 7])"
      ]
     },
     "execution_count": 13,
     "metadata": {},
     "output_type": "execute_result"
    }
   ],
   "source": [
    "arr1[1]"
   ]
  },
  {
   "cell_type": "code",
   "execution_count": 15,
   "id": "374c6b57-7eca-41fe-98cb-88614cf55f2e",
   "metadata": {},
   "outputs": [
    {
     "data": {
      "text/plain": [
       "np.int64(5)"
      ]
     },
     "execution_count": 15,
     "metadata": {},
     "output_type": "execute_result"
    }
   ],
   "source": [
    "arr1[0][2] #firt is for row and second is for column"
   ]
  },
  {
   "cell_type": "code",
   "execution_count": 16,
   "id": "363e9ea7-a66a-405e-8861-8fa1c7d31c45",
   "metadata": {},
   "outputs": [
    {
     "data": {
      "text/plain": [
       "array([[2, 3, 5],\n",
       "       [5, 3, 7]])"
      ]
     },
     "execution_count": 16,
     "metadata": {},
     "output_type": "execute_result"
    }
   ],
   "source": [
    "arr1[:,:]"
   ]
  },
  {
   "cell_type": "code",
   "execution_count": 17,
   "id": "e97201f0-d75a-400e-b705-168392ad2617",
   "metadata": {},
   "outputs": [
    {
     "data": {
      "text/plain": [
       "array([3, 3])"
      ]
     },
     "execution_count": 17,
     "metadata": {},
     "output_type": "execute_result"
    }
   ],
   "source": [
    "arr1[:,1]"
   ]
  },
  {
   "cell_type": "code",
   "execution_count": 18,
   "id": "2099bf71-058c-4f90-bd52-56a6c78b2c11",
   "metadata": {},
   "outputs": [
    {
     "data": {
      "text/plain": [
       "array([[2, 3, 5],\n",
       "       [5, 3, 7]])"
      ]
     },
     "execution_count": 18,
     "metadata": {},
     "output_type": "execute_result"
    }
   ],
   "source": [
    "arr1"
   ]
  },
  {
   "cell_type": "code",
   "execution_count": 20,
   "id": "9b14b4cc-e29c-4623-8bf0-3791918d7648",
   "metadata": {},
   "outputs": [
    {
     "data": {
      "text/plain": [
       "array([5, 3, 7])"
      ]
     },
     "execution_count": 20,
     "metadata": {},
     "output_type": "execute_result"
    }
   ],
   "source": [
    "arr1[1,:]"
   ]
  },
  {
   "cell_type": "code",
   "execution_count": 21,
   "id": "77d3e5ed-5d52-4466-bdb5-df4bb4531128",
   "metadata": {},
   "outputs": [],
   "source": [
    "# Identity matrix"
   ]
  },
  {
   "cell_type": "code",
   "execution_count": 22,
   "id": "b3d6896d-7ce7-46f2-aa00-4c55c4f0e56a",
   "metadata": {},
   "outputs": [],
   "source": [
    "arr2 = np.eye(5)"
   ]
  },
  {
   "cell_type": "code",
   "execution_count": 23,
   "id": "af462eb7-8192-41ba-b30e-8976958cb98e",
   "metadata": {},
   "outputs": [
    {
     "data": {
      "text/plain": [
       "array([[1., 0., 0., 0., 0.],\n",
       "       [0., 1., 0., 0., 0.],\n",
       "       [0., 0., 1., 0., 0.],\n",
       "       [0., 0., 0., 1., 0.],\n",
       "       [0., 0., 0., 0., 1.]])"
      ]
     },
     "execution_count": 23,
     "metadata": {},
     "output_type": "execute_result"
    }
   ],
   "source": [
    "arr2"
   ]
  },
  {
   "cell_type": "code",
   "execution_count": 26,
   "id": "ff9abe40-2397-456c-8832-fddbf9776bae",
   "metadata": {},
   "outputs": [
    {
     "data": {
      "text/plain": [
       "array([[0.40869442, 0.23227914, 0.14585745],\n",
       "       [0.04372504, 0.95239846, 0.06891884]])"
      ]
     },
     "execution_count": 26,
     "metadata": {},
     "output_type": "execute_result"
    }
   ],
   "source": [
    "np.random.random([2,3])"
   ]
  },
  {
   "cell_type": "code",
   "execution_count": 27,
   "id": "b97248cd-f373-4763-82a7-6d2edf296f91",
   "metadata": {},
   "outputs": [
    {
     "data": {
      "text/plain": [
       "array([[0.07150129, 0.22470125, 0.58918845],\n",
       "       [0.00104969, 0.19401081, 0.02662306]])"
      ]
     },
     "execution_count": 27,
     "metadata": {},
     "output_type": "execute_result"
    }
   ],
   "source": [
    "np.random.rand(2,3)"
   ]
  },
  {
   "cell_type": "code",
   "execution_count": 30,
   "id": "3eacc9b6-70f4-4e4b-aa34-da157c3458a6",
   "metadata": {},
   "outputs": [
    {
     "data": {
      "text/plain": [
       "17"
      ]
     },
     "execution_count": 30,
     "metadata": {},
     "output_type": "execute_result"
    }
   ],
   "source": [
    "np.random.randint(1,100)"
   ]
  },
  {
   "cell_type": "code",
   "execution_count": 33,
   "id": "98e5062c-d16d-40cd-bf15-ec33ca52939d",
   "metadata": {},
   "outputs": [
    {
     "data": {
      "text/plain": [
       "array([[0., 0., 0., 0.],\n",
       "       [0., 0., 0., 0.],\n",
       "       [0., 0., 0., 0.]])"
      ]
     },
     "execution_count": 33,
     "metadata": {},
     "output_type": "execute_result"
    }
   ],
   "source": [
    "np.zeros([3,4])"
   ]
  },
  {
   "cell_type": "code",
   "execution_count": 34,
   "id": "d4954dc7-6716-4d8d-9741-4c6d3f2a6d14",
   "metadata": {},
   "outputs": [
    {
     "data": {
      "text/plain": [
       "array([[1., 1., 1.],\n",
       "       [1., 1., 1.],\n",
       "       [1., 1., 1.],\n",
       "       [1., 1., 1.],\n",
       "       [1., 1., 1.]])"
      ]
     },
     "execution_count": 34,
     "metadata": {},
     "output_type": "execute_result"
    }
   ],
   "source": [
    "np.ones([5,3])"
   ]
  },
  {
   "cell_type": "code",
   "execution_count": 35,
   "id": "201b0138-10df-4f79-8a8e-fde325b3f2b6",
   "metadata": {},
   "outputs": [
    {
     "data": {
      "text/plain": [
       "array([[6, 6, 6, 6],\n",
       "       [6, 6, 6, 6],\n",
       "       [6, 6, 6, 6],\n",
       "       [6, 6, 6, 6]])"
      ]
     },
     "execution_count": 35,
     "metadata": {},
     "output_type": "execute_result"
    }
   ],
   "source": [
    "np.full([4,4],6)"
   ]
  },
  {
   "cell_type": "code",
   "execution_count": 36,
   "id": "0d15fdc2-3e00-4900-9abf-91d8dddc0eea",
   "metadata": {},
   "outputs": [],
   "source": [
    "# will make a 4x4 matrix with each of its elements as 6"
   ]
  },
  {
   "cell_type": "code",
   "execution_count": 38,
   "id": "19ac5064-3047-4385-824d-3e21a8d3cfac",
   "metadata": {},
   "outputs": [],
   "source": [
    "arr3=np.array([[1,2,3,4,5],[6,7,8,9,10]])"
   ]
  },
  {
   "cell_type": "code",
   "execution_count": 39,
   "id": "61b1a38b-4cfa-4f04-ad2c-81d44b59fa63",
   "metadata": {},
   "outputs": [
    {
     "data": {
      "text/plain": [
       "array([[ 1,  2,  3,  4,  5],\n",
       "       [ 6,  7,  8,  9, 10]])"
      ]
     },
     "execution_count": 39,
     "metadata": {},
     "output_type": "execute_result"
    }
   ],
   "source": [
    "arr3"
   ]
  },
  {
   "cell_type": "code",
   "execution_count": 40,
   "id": "46918380-09ad-4397-9db0-3ac15e83b20c",
   "metadata": {},
   "outputs": [
    {
     "data": {
      "text/plain": [
       "(2, 5)"
      ]
     },
     "execution_count": 40,
     "metadata": {},
     "output_type": "execute_result"
    }
   ],
   "source": [
    "arr3.shape"
   ]
  },
  {
   "cell_type": "code",
   "execution_count": 41,
   "id": "36546c5a-51cc-4f1d-a6f5-1da8578ba05e",
   "metadata": {},
   "outputs": [
    {
     "data": {
      "text/plain": [
       "dtype('int64')"
      ]
     },
     "execution_count": 41,
     "metadata": {},
     "output_type": "execute_result"
    }
   ],
   "source": [
    "arr3.dtype"
   ]
  },
  {
   "cell_type": "code",
   "execution_count": 42,
   "id": "cc9c7b85-474c-4d4c-95d8-684742432deb",
   "metadata": {},
   "outputs": [
    {
     "data": {
      "text/plain": [
       "array([[ 1,  2],\n",
       "       [ 3,  4],\n",
       "       [ 5,  6],\n",
       "       [ 7,  8],\n",
       "       [ 9, 10]])"
      ]
     },
     "execution_count": 42,
     "metadata": {},
     "output_type": "execute_result"
    }
   ],
   "source": [
    "arr3.reshape(5,2)"
   ]
  },
  {
   "cell_type": "code",
   "execution_count": 43,
   "id": "e2c16e86-853e-442a-ae36-9d03fefe01d4",
   "metadata": {},
   "outputs": [
    {
     "data": {
      "text/plain": [
       "array([[ 1,  6],\n",
       "       [ 2,  7],\n",
       "       [ 3,  8],\n",
       "       [ 4,  9],\n",
       "       [ 5, 10]])"
      ]
     },
     "execution_count": 43,
     "metadata": {},
     "output_type": "execute_result"
    }
   ],
   "source": [
    "arr3.T"
   ]
  },
  {
   "cell_type": "code",
   "execution_count": 45,
   "id": "80d81264-a0c4-44e6-b711-6ecdf346100a",
   "metadata": {},
   "outputs": [
    {
     "data": {
      "text/plain": [
       "array([ 1,  2,  3,  4,  5,  6,  7,  8,  9, 10])"
      ]
     },
     "execution_count": 45,
     "metadata": {},
     "output_type": "execute_result"
    }
   ],
   "source": [
    "arr3.flatten()"
   ]
  },
  {
   "cell_type": "markdown",
   "id": "2d4a76db-48de-44b7-8cc5-f83c8127887c",
   "metadata": {},
   "source": [
    "### Numpy Concatenate function"
   ]
  },
  {
   "cell_type": "code",
   "execution_count": 50,
   "id": "42f0f9ed-4e5b-40c1-8a01-a28407b5995a",
   "metadata": {},
   "outputs": [
    {
     "name": "stdout",
     "output_type": "stream",
     "text": [
      "[[1. 2.]\n",
      " [3. 4.]\n",
      " [4. 2.]\n",
      " [5. 6.]]\n"
     ]
    }
   ],
   "source": [
    "arr4 = np.array([[1,2],[3,4]],float)\n",
    "arr5 = np.array([[4,2],[5,6]],float)\n",
    "print(np.concatenate([arr4,arr5]))"
   ]
  },
  {
   "cell_type": "code",
   "execution_count": 51,
   "id": "31cdd012-eaab-47a8-954b-b3eb6549891f",
   "metadata": {},
   "outputs": [
    {
     "name": "stdout",
     "output_type": "stream",
     "text": [
      "[[1. 2. 4. 2.]\n",
      " [3. 4. 5. 6.]]\n"
     ]
    }
   ],
   "source": [
    "print(np.concatenate([arr4,arr5],axis =1))"
   ]
  },
  {
   "cell_type": "code",
   "execution_count": 52,
   "id": "9e18276a-67ec-481b-89c8-611e129a65d1",
   "metadata": {},
   "outputs": [
    {
     "name": "stdout",
     "output_type": "stream",
     "text": [
      "[[1. 2.]\n",
      " [3. 4.]\n",
      " [4. 2.]\n",
      " [5. 6.]]\n"
     ]
    }
   ],
   "source": [
    "print(np.concatenate([arr4,arr5],axis =0))"
   ]
  },
  {
   "cell_type": "markdown",
   "id": "5069a928-41a9-4452-9270-cba05cef8f66",
   "metadata": {},
   "source": [
    "### Array Mathematics"
   ]
  },
  {
   "cell_type": "code",
   "execution_count": 53,
   "id": "be205603-912d-45ec-8722-c4ad244561ea",
   "metadata": {},
   "outputs": [
    {
     "data": {
      "text/plain": [
       "array([[1., 2.],\n",
       "       [3., 4.]])"
      ]
     },
     "execution_count": 53,
     "metadata": {},
     "output_type": "execute_result"
    }
   ],
   "source": [
    "arr4"
   ]
  },
  {
   "cell_type": "code",
   "execution_count": 54,
   "id": "c9f28e11-5a13-41fe-b26a-51fa977cf67c",
   "metadata": {},
   "outputs": [
    {
     "data": {
      "text/plain": [
       "array([[4., 2.],\n",
       "       [5., 6.]])"
      ]
     },
     "execution_count": 54,
     "metadata": {},
     "output_type": "execute_result"
    }
   ],
   "source": [
    "arr5"
   ]
  },
  {
   "cell_type": "code",
   "execution_count": 55,
   "id": "9473acf5-e69b-47c9-b908-558594ae227e",
   "metadata": {},
   "outputs": [
    {
     "data": {
      "text/plain": [
       "array([[4.        , 1.        ],\n",
       "       [1.66666667, 1.5       ]])"
      ]
     },
     "execution_count": 55,
     "metadata": {},
     "output_type": "execute_result"
    }
   ],
   "source": [
    "arr5/arr4"
   ]
  },
  {
   "cell_type": "code",
   "execution_count": 56,
   "id": "c3fb6e83-319e-43e6-b71e-aaba9058e52b",
   "metadata": {},
   "outputs": [
    {
     "data": {
      "text/plain": [
       "array([[ 4.,  4.],\n",
       "       [15., 24.]])"
      ]
     },
     "execution_count": 56,
     "metadata": {},
     "output_type": "execute_result"
    }
   ],
   "source": [
    "arr4*arr5    # multiply correspomding elements only."
   ]
  },
  {
   "cell_type": "code",
   "execution_count": 57,
   "id": "2360ecee-2372-4ac9-a2b1-d149e52d96b5",
   "metadata": {},
   "outputs": [
    {
     "data": {
      "text/plain": [
       "array([[3., 0.],\n",
       "       [2., 2.]])"
      ]
     },
     "execution_count": 57,
     "metadata": {},
     "output_type": "execute_result"
    }
   ],
   "source": [
    "arr5-arr4"
   ]
  },
  {
   "cell_type": "code",
   "execution_count": 58,
   "id": "7fee0a19-5901-482b-9c50-91c1515aeb67",
   "metadata": {},
   "outputs": [
    {
     "data": {
      "text/plain": [
       "array([[ 5.,  4.],\n",
       "       [ 8., 10.]])"
      ]
     },
     "execution_count": 58,
     "metadata": {},
     "output_type": "execute_result"
    }
   ],
   "source": [
    "arr4+arr5"
   ]
  },
  {
   "cell_type": "code",
   "execution_count": 59,
   "id": "606b749c-2461-4cca-a837-94f2b195f80c",
   "metadata": {},
   "outputs": [
    {
     "data": {
      "text/plain": [
       "array([[1., 2.],\n",
       "       [3., 4.]])"
      ]
     },
     "execution_count": 59,
     "metadata": {},
     "output_type": "execute_result"
    }
   ],
   "source": [
    "arr4"
   ]
  },
  {
   "cell_type": "code",
   "execution_count": 60,
   "id": "efe149fb-4288-415b-ab49-b16e9b9b83eb",
   "metadata": {},
   "outputs": [
    {
     "data": {
      "text/plain": [
       "array([[6., 7.],\n",
       "       [8., 9.]])"
      ]
     },
     "execution_count": 60,
     "metadata": {},
     "output_type": "execute_result"
    }
   ],
   "source": [
    "arr4+5"
   ]
  },
  {
   "cell_type": "code",
   "execution_count": 61,
   "id": "641fcd6a-4465-445d-a760-fc8baa67c3b3",
   "metadata": {},
   "outputs": [
    {
     "data": {
      "text/plain": [
       "array([[2., 4.],\n",
       "       [4., 6.]])"
      ]
     },
     "execution_count": 61,
     "metadata": {},
     "output_type": "execute_result"
    }
   ],
   "source": [
    "arr4+[1,2]"
   ]
  },
  {
   "cell_type": "code",
   "execution_count": 62,
   "id": "342f0a35-002a-4b57-837a-0aae7e9bfe8c",
   "metadata": {},
   "outputs": [],
   "source": [
    "arr6=np.array([[3,2],[7,8],[5,9]])   # is 3 x 2 matrix"
   ]
  },
  {
   "cell_type": "code",
   "execution_count": 63,
   "id": "a12b259e-4b64-4168-a9f7-536af030f16e",
   "metadata": {},
   "outputs": [
    {
     "data": {
      "text/plain": [
       "array([[3, 2],\n",
       "       [7, 8],\n",
       "       [5, 9]])"
      ]
     },
     "execution_count": 63,
     "metadata": {},
     "output_type": "execute_result"
    }
   ],
   "source": [
    "arr6"
   ]
  },
  {
   "cell_type": "code",
   "execution_count": 64,
   "id": "87d7a12d-f489-4b29-b04f-df727c82eb33",
   "metadata": {},
   "outputs": [
    {
     "data": {
      "text/plain": [
       "array([[4., 2.],\n",
       "       [5., 6.]])"
      ]
     },
     "execution_count": 64,
     "metadata": {},
     "output_type": "execute_result"
    }
   ],
   "source": [
    "arr5"
   ]
  },
  {
   "cell_type": "code",
   "execution_count": 65,
   "id": "e387a974-4675-47e9-85df-3c05603ae7d2",
   "metadata": {},
   "outputs": [
    {
     "ename": "ValueError",
     "evalue": "operands could not be broadcast together with shapes (2,2) (3,2) ",
     "output_type": "error",
     "traceback": [
      "\u001b[1;31m---------------------------------------------------------------------------\u001b[0m",
      "\u001b[1;31mValueError\u001b[0m                                Traceback (most recent call last)",
      "Cell \u001b[1;32mIn[65], line 1\u001b[0m\n\u001b[1;32m----> 1\u001b[0m \u001b[43marr5\u001b[49m\u001b[38;5;241;43m*\u001b[39;49m\u001b[43marr6\u001b[49m\n",
      "\u001b[1;31mValueError\u001b[0m: operands could not be broadcast together with shapes (2,2) (3,2) "
     ]
    }
   ],
   "source": [
    "arr5*arr6"
   ]
  },
  {
   "cell_type": "code",
   "execution_count": 66,
   "id": "199742d0-d5d1-48ea-875f-35cf2831166d",
   "metadata": {},
   "outputs": [
    {
     "ename": "ValueError",
     "evalue": "operands could not be broadcast together with shapes (3,2) (2,2) ",
     "output_type": "error",
     "traceback": [
      "\u001b[1;31m---------------------------------------------------------------------------\u001b[0m",
      "\u001b[1;31mValueError\u001b[0m                                Traceback (most recent call last)",
      "Cell \u001b[1;32mIn[66], line 1\u001b[0m\n\u001b[1;32m----> 1\u001b[0m \u001b[43marr6\u001b[49m\u001b[38;5;241;43m*\u001b[39;49m\u001b[43marr5\u001b[49m\n",
      "\u001b[1;31mValueError\u001b[0m: operands could not be broadcast together with shapes (3,2) (2,2) "
     ]
    }
   ],
   "source": [
    "arr6*arr5"
   ]
  },
  {
   "cell_type": "code",
   "execution_count": 67,
   "id": "c1cb4d74-ddaa-473f-aa28-b91a82616cef",
   "metadata": {},
   "outputs": [],
   "source": [
    "# This is not the matrix multipliction as we do in mathematics"
   ]
  },
  {
   "cell_type": "markdown",
   "id": "9a90d09e-f8ef-4643-9a5d-f1f0495e3099",
   "metadata": {},
   "source": [
    "### Array iteration"
   ]
  },
  {
   "cell_type": "code",
   "execution_count": 68,
   "id": "2125fb71-5bee-4853-b8ce-81d3f1c52e8d",
   "metadata": {},
   "outputs": [
    {
     "data": {
      "text/plain": [
       "array([[3, 2],\n",
       "       [7, 8],\n",
       "       [5, 9]])"
      ]
     },
     "execution_count": 68,
     "metadata": {},
     "output_type": "execute_result"
    }
   ],
   "source": [
    "arr6"
   ]
  },
  {
   "cell_type": "code",
   "execution_count": 69,
   "id": "2bfe2431-b2a5-46dd-af56-6354749b3914",
   "metadata": {},
   "outputs": [
    {
     "name": "stdout",
     "output_type": "stream",
     "text": [
      "[3 2]\n",
      "[7 8]\n",
      "[5 9]\n"
     ]
    }
   ],
   "source": [
    "for x in arr6:\n",
    "    print(x)"
   ]
  },
  {
   "cell_type": "code",
   "execution_count": 70,
   "id": "e7503a23-cd75-432e-b753-8f0a51ddc329",
   "metadata": {},
   "outputs": [
    {
     "name": "stdout",
     "output_type": "stream",
     "text": [
      "5\n",
      "15\n",
      "14\n"
     ]
    }
   ],
   "source": [
    "for x,y in arr6:\n",
    "    print(x+y)"
   ]
  },
  {
   "cell_type": "code",
   "execution_count": 71,
   "id": "75931cca-2546-4bc4-aadd-92e164fda732",
   "metadata": {},
   "outputs": [
    {
     "name": "stdout",
     "output_type": "stream",
     "text": [
      "3 2\n",
      "7 8\n",
      "5 9\n"
     ]
    }
   ],
   "source": [
    "for x,y in arr6:\n",
    "    print(x,y)"
   ]
  },
  {
   "cell_type": "code",
   "execution_count": 72,
   "id": "9d20107e-5694-4f38-adf2-fc31199bec0b",
   "metadata": {},
   "outputs": [
    {
     "data": {
      "text/plain": [
       "array([[3, 2],\n",
       "       [7, 8],\n",
       "       [5, 9]])"
      ]
     },
     "execution_count": 72,
     "metadata": {},
     "output_type": "execute_result"
    }
   ],
   "source": [
    "arr6"
   ]
  },
  {
   "cell_type": "code",
   "execution_count": 73,
   "id": "fedeb8d9-7e59-4f2a-8a2c-f7d47c698afa",
   "metadata": {},
   "outputs": [
    {
     "data": {
      "text/plain": [
       "np.int64(15120)"
      ]
     },
     "execution_count": 73,
     "metadata": {},
     "output_type": "execute_result"
    }
   ],
   "source": [
    "arr6.prod()"
   ]
  },
  {
   "cell_type": "code",
   "execution_count": 75,
   "id": "0595100e-c4c1-4cbf-8ed4-31523acf2155",
   "metadata": {},
   "outputs": [
    {
     "data": {
      "text/plain": [
       "array([105, 144])"
      ]
     },
     "execution_count": 75,
     "metadata": {},
     "output_type": "execute_result"
    }
   ],
   "source": [
    "arr6.prod(axis=0)"
   ]
  },
  {
   "cell_type": "code",
   "execution_count": 76,
   "id": "7e20c7ab-704c-4e1f-bca4-36bd6830e096",
   "metadata": {},
   "outputs": [
    {
     "data": {
      "text/plain": [
       "array([ 6, 56, 45])"
      ]
     },
     "execution_count": 76,
     "metadata": {},
     "output_type": "execute_result"
    }
   ],
   "source": [
    "arr6.prod(axis=1)"
   ]
  },
  {
   "cell_type": "code",
   "execution_count": 77,
   "id": "1e40cd80-15bf-4ef8-9ad7-31c5004735f4",
   "metadata": {},
   "outputs": [
    {
     "data": {
      "text/plain": [
       "np.int64(34)"
      ]
     },
     "execution_count": 77,
     "metadata": {},
     "output_type": "execute_result"
    }
   ],
   "source": [
    "arr6.sum()"
   ]
  },
  {
   "cell_type": "code",
   "execution_count": 78,
   "id": "ecc11f1c-2efc-4ea3-b21c-1eff7aef544c",
   "metadata": {},
   "outputs": [
    {
     "name": "stdout",
     "output_type": "stream",
     "text": [
      "[15 19]\n",
      "[ 5 15 14]\n"
     ]
    }
   ],
   "source": [
    "print(arr6.sum(axis=0))\n",
    "print(arr6.sum(axis=1))"
   ]
  },
  {
   "cell_type": "code",
   "execution_count": 79,
   "id": "e24b3305-82b5-4ca2-b661-7c39dc116d6f",
   "metadata": {},
   "outputs": [
    {
     "data": {
      "text/plain": [
       "array([[3, 2],\n",
       "       [7, 8],\n",
       "       [5, 9]])"
      ]
     },
     "execution_count": 79,
     "metadata": {},
     "output_type": "execute_result"
    }
   ],
   "source": [
    "arr6"
   ]
  },
  {
   "cell_type": "code",
   "execution_count": 80,
   "id": "65267282-124b-458a-afae-6fd44c6dcf7d",
   "metadata": {},
   "outputs": [
    {
     "data": {
      "text/plain": [
       "np.float64(5.666666666666667)"
      ]
     },
     "execution_count": 80,
     "metadata": {},
     "output_type": "execute_result"
    }
   ],
   "source": [
    "arr6.mean()"
   ]
  },
  {
   "cell_type": "code",
   "execution_count": 81,
   "id": "fc90b91d-1568-4d8f-924f-98b286e7ace6",
   "metadata": {},
   "outputs": [
    {
     "name": "stdout",
     "output_type": "stream",
     "text": [
      "[5.         6.33333333]\n",
      "[2.5 7.5 7. ]\n"
     ]
    }
   ],
   "source": [
    "print(arr6.mean(axis=0))\n",
    "print(arr6.mean(axis=1))"
   ]
  },
  {
   "cell_type": "code",
   "execution_count": 82,
   "id": "b192d157-96c2-483f-8949-a071a13a8276",
   "metadata": {},
   "outputs": [],
   "source": [
    "## Variance"
   ]
  },
  {
   "cell_type": "code",
   "execution_count": 83,
   "id": "2452abff-6b6c-4140-9302-6c87a2803634",
   "metadata": {},
   "outputs": [
    {
     "data": {
      "text/plain": [
       "np.float64(6.555555555555556)"
      ]
     },
     "execution_count": 83,
     "metadata": {},
     "output_type": "execute_result"
    }
   ],
   "source": [
    "arr6.var()"
   ]
  },
  {
   "cell_type": "code",
   "execution_count": 84,
   "id": "b4b09964-dfef-4f0a-bf40-579bb034190a",
   "metadata": {},
   "outputs": [
    {
     "name": "stdout",
     "output_type": "stream",
     "text": [
      "[2.66666667 9.55555556]\n",
      "[0.25 0.25 4.  ]\n"
     ]
    }
   ],
   "source": [
    "print(arr6.var(axis=0))\n",
    "print(arr6.var(axis=1))"
   ]
  },
  {
   "cell_type": "code",
   "execution_count": 85,
   "id": "6232cd93-4709-4757-ab4b-dad3258b565c",
   "metadata": {},
   "outputs": [
    {
     "data": {
      "text/plain": [
       "np.float64(2.560381915956203)"
      ]
     },
     "execution_count": 85,
     "metadata": {},
     "output_type": "execute_result"
    }
   ],
   "source": [
    "arr6.std()"
   ]
  },
  {
   "cell_type": "code",
   "execution_count": 86,
   "id": "119ecdcb-5a9b-4434-800d-b681c66494e1",
   "metadata": {},
   "outputs": [
    {
     "name": "stdout",
     "output_type": "stream",
     "text": [
      "[1.63299316 3.09120617]\n",
      "[0.5 0.5 2. ]\n"
     ]
    }
   ],
   "source": [
    "print(arr6.std(axis=0))\n",
    "print(arr6.std(axis=1))"
   ]
  },
  {
   "cell_type": "code",
   "execution_count": 87,
   "id": "f1223215-5c83-4aa9-a13d-9167a133e200",
   "metadata": {},
   "outputs": [
    {
     "data": {
      "text/plain": [
       "np.int64(2)"
      ]
     },
     "execution_count": 87,
     "metadata": {},
     "output_type": "execute_result"
    }
   ],
   "source": [
    "arr6.min()"
   ]
  },
  {
   "cell_type": "code",
   "execution_count": 89,
   "id": "bb3c2252-8b64-4e7c-ae3b-ad307f21cbb9",
   "metadata": {},
   "outputs": [
    {
     "name": "stdout",
     "output_type": "stream",
     "text": [
      "[3 2]\n",
      "[2 7 5]\n"
     ]
    }
   ],
   "source": [
    "print(arr6.min(axis=0))\n",
    "print(arr6.min(axis=1))"
   ]
  },
  {
   "cell_type": "code",
   "execution_count": 90,
   "id": "ea12201b-b640-4a26-9634-dd003c4932aa",
   "metadata": {},
   "outputs": [
    {
     "data": {
      "text/plain": [
       "array([[3, 2],\n",
       "       [7, 8],\n",
       "       [5, 9]])"
      ]
     },
     "execution_count": 90,
     "metadata": {},
     "output_type": "execute_result"
    }
   ],
   "source": [
    "arr6"
   ]
  },
  {
   "cell_type": "code",
   "execution_count": 91,
   "id": "80da6dbf-aa5d-4d23-ae40-835d73357f9e",
   "metadata": {},
   "outputs": [
    {
     "data": {
      "text/plain": [
       "np.int64(9)"
      ]
     },
     "execution_count": 91,
     "metadata": {},
     "output_type": "execute_result"
    }
   ],
   "source": [
    "arr6.max()"
   ]
  },
  {
   "cell_type": "code",
   "execution_count": 92,
   "id": "94de546a-51d6-4905-a13c-9f71ee34808c",
   "metadata": {},
   "outputs": [
    {
     "name": "stdout",
     "output_type": "stream",
     "text": [
      "[7 9]\n",
      "[3 8 9]\n"
     ]
    }
   ],
   "source": [
    "print(arr6.max(axis=0))\n",
    "print(arr6.max(axis=1))"
   ]
  },
  {
   "cell_type": "code",
   "execution_count": 93,
   "id": "d4f7697b-5cd2-410e-86f1-4eaba1d5eda4",
   "metadata": {},
   "outputs": [],
   "source": [
    "arr7 = np.array([[5,7,4],[8,2,1]])"
   ]
  },
  {
   "cell_type": "code",
   "execution_count": 94,
   "id": "f3bf3679-b127-4d14-845d-e48343552239",
   "metadata": {},
   "outputs": [
    {
     "data": {
      "text/plain": [
       "array([[5, 7, 4],\n",
       "       [8, 2, 1]])"
      ]
     },
     "execution_count": 94,
     "metadata": {},
     "output_type": "execute_result"
    }
   ],
   "source": [
    "arr7"
   ]
  },
  {
   "cell_type": "code",
   "execution_count": 96,
   "id": "20e5b872-ce15-4753-b639-ac519301f50c",
   "metadata": {},
   "outputs": [
    {
     "name": "stdout",
     "output_type": "stream",
     "text": [
      "5\n"
     ]
    }
   ],
   "source": [
    "print(arr7.argmin())"
   ]
  },
  {
   "cell_type": "code",
   "execution_count": 97,
   "id": "0723dce6-488a-48c8-9123-a270e779fae6",
   "metadata": {},
   "outputs": [
    {
     "name": "stdout",
     "output_type": "stream",
     "text": [
      "[0 1 1]\n"
     ]
    }
   ],
   "source": [
    "print(arr7.argmin(axis=0))"
   ]
  },
  {
   "cell_type": "code",
   "execution_count": 98,
   "id": "a98f2678-309a-4973-8483-462d0362617a",
   "metadata": {},
   "outputs": [
    {
     "name": "stdout",
     "output_type": "stream",
     "text": [
      "[2 2]\n"
     ]
    }
   ],
   "source": [
    "print(arr7.argmin(axis=1))"
   ]
  },
  {
   "cell_type": "code",
   "execution_count": 99,
   "id": "83b07a99-9105-4c4f-84a4-188c3b26feac",
   "metadata": {},
   "outputs": [
    {
     "name": "stdout",
     "output_type": "stream",
     "text": [
      "3\n"
     ]
    }
   ],
   "source": [
    "print(arr7.argmax())"
   ]
  },
  {
   "cell_type": "code",
   "execution_count": 100,
   "id": "d3e2282a-d07b-42d3-9c63-5d1d2c247c52",
   "metadata": {},
   "outputs": [
    {
     "name": "stdout",
     "output_type": "stream",
     "text": [
      "[1 0 0]\n"
     ]
    }
   ],
   "source": [
    "print(arr7.argmax(axis=0))"
   ]
  },
  {
   "cell_type": "code",
   "execution_count": 101,
   "id": "55c15da2-dcfd-423e-b1f4-4d28e6c0fc95",
   "metadata": {},
   "outputs": [
    {
     "name": "stdout",
     "output_type": "stream",
     "text": [
      "[1 0]\n"
     ]
    }
   ],
   "source": [
    "print(arr7.argmax(axis=1))"
   ]
  },
  {
   "cell_type": "code",
   "execution_count": 102,
   "id": "615a4493-d01f-4b43-9e71-dfcda9cdcf9a",
   "metadata": {},
   "outputs": [],
   "source": [
    "## Last slide left to cover "
   ]
  },
  {
   "cell_type": "code",
   "execution_count": 5,
   "id": "095fbdd2-adc1-428d-99da-49b75200174c",
   "metadata": {},
   "outputs": [],
   "source": [
    "arr8 = np.array([[5,7,4],[8,2,1]])"
   ]
  },
  {
   "cell_type": "code",
   "execution_count": 6,
   "id": "e87cdd44-c31c-4aa2-addf-6eda25dd2eb2",
   "metadata": {},
   "outputs": [
    {
     "data": {
      "text/plain": [
       "array([[5, 7, 4],\n",
       "       [8, 2, 1]])"
      ]
     },
     "execution_count": 6,
     "metadata": {},
     "output_type": "execute_result"
    }
   ],
   "source": [
    "arr8"
   ]
  },
  {
   "cell_type": "code",
   "execution_count": 12,
   "id": "6fed3c85-7fd0-4245-a181-991f5b40f13b",
   "metadata": {},
   "outputs": [
    {
     "name": "stdout",
     "output_type": "stream",
     "text": [
      "[[1 2 7]\n",
      " [4 5 8]]\n"
     ]
    }
   ],
   "source": [
    "arr8.sort()\n",
    "print(arr8)"
   ]
  },
  {
   "cell_type": "code",
   "execution_count": 13,
   "id": "9e8c6052-8e50-40b4-a4e0-b1939ec16d6c",
   "metadata": {},
   "outputs": [
    {
     "name": "stdout",
     "output_type": "stream",
     "text": [
      "[[1 2 7]\n",
      " [4 5 8]]\n"
     ]
    }
   ],
   "source": [
    "arr8.sort(axis=0)\n",
    "print(arr8)"
   ]
  },
  {
   "cell_type": "code",
   "execution_count": 14,
   "id": "1607d51c-f61f-4453-996d-4de4d17fc915",
   "metadata": {},
   "outputs": [
    {
     "name": "stdout",
     "output_type": "stream",
     "text": [
      "[[1 2 7]\n",
      " [4 5 8]]\n"
     ]
    }
   ],
   "source": [
    "arr8.sort(axis=1)\n",
    "print(arr8)"
   ]
  },
  {
   "cell_type": "code",
   "execution_count": 15,
   "id": "125a7518-68c3-45e4-93fc-45aea8d1f78f",
   "metadata": {},
   "outputs": [
    {
     "data": {
      "text/plain": [
       "array([1, 5])"
      ]
     },
     "execution_count": 15,
     "metadata": {},
     "output_type": "execute_result"
    }
   ],
   "source": [
    "arr8.diagonal()"
   ]
  },
  {
   "cell_type": "code",
   "execution_count": 16,
   "id": "fba66406-7275-48f0-b268-6408f234fe72",
   "metadata": {},
   "outputs": [],
   "source": [
    "arr9 = np.array([[4,5,6],[4,0,2],[7,8,3]])"
   ]
  },
  {
   "cell_type": "code",
   "execution_count": 17,
   "id": "1b7a2a3a-ea02-4067-aabe-dff539e258f5",
   "metadata": {},
   "outputs": [
    {
     "data": {
      "text/plain": [
       "array([4, 0, 3])"
      ]
     },
     "execution_count": 17,
     "metadata": {},
     "output_type": "execute_result"
    }
   ],
   "source": [
    "arr9.diagonal()"
   ]
  },
  {
   "cell_type": "code",
   "execution_count": 19,
   "id": "4402939e-8078-4554-846b-653f3ef53440",
   "metadata": {},
   "outputs": [],
   "source": [
    "ar1= np.array([[4,5],[7,2]])\n",
    "ar2= np.array([[2,5],[1,1]])"
   ]
  },
  {
   "cell_type": "code",
   "execution_count": 20,
   "id": "b92c3e86-dd26-43cd-9fd5-a371c23cdb84",
   "metadata": {},
   "outputs": [
    {
     "name": "stdout",
     "output_type": "stream",
     "text": [
      "[[4 5]\n",
      " [7 2]]\n",
      "[[2 5]\n",
      " [1 1]]\n"
     ]
    }
   ],
   "source": [
    "print(ar1)\n",
    "print(ar2)"
   ]
  },
  {
   "cell_type": "code",
   "execution_count": 21,
   "id": "1ee79daf-54ee-4fd0-b696-eac605e10b21",
   "metadata": {},
   "outputs": [
    {
     "data": {
      "text/plain": [
       "array([[13, 25],\n",
       "       [16, 37]])"
      ]
     },
     "execution_count": 21,
     "metadata": {},
     "output_type": "execute_result"
    }
   ],
   "source": [
    "np.dot(ar1,ar2)"
   ]
  },
  {
   "cell_type": "code",
   "execution_count": 22,
   "id": "ac9ab41f-ccfe-4f60-be9b-b40789070772",
   "metadata": {},
   "outputs": [
    {
     "data": {
      "text/plain": [
       "array([[43, 20],\n",
       "       [11,  7]])"
      ]
     },
     "execution_count": 22,
     "metadata": {},
     "output_type": "execute_result"
    }
   ],
   "source": [
    "np.dot(ar2,ar1)"
   ]
  },
  {
   "cell_type": "code",
   "execution_count": 24,
   "id": "17903721-f848-4f40-acd5-bdb4fc7ab111",
   "metadata": {},
   "outputs": [],
   "source": [
    "ar3=np.array([[1,2,3],[4,5,6]])"
   ]
  },
  {
   "cell_type": "code",
   "execution_count": 25,
   "id": "2015a468-8f03-48ab-a7eb-d8b48e2bdb6a",
   "metadata": {},
   "outputs": [
    {
     "data": {
      "text/plain": [
       "array([[24, 33, 42],\n",
       "       [15, 24, 33]])"
      ]
     },
     "execution_count": 25,
     "metadata": {},
     "output_type": "execute_result"
    }
   ],
   "source": [
    "np.dot(ar1,ar3)"
   ]
  },
  {
   "cell_type": "code",
   "execution_count": 27,
   "id": "b58b0b4f-52d8-4e9c-9bf6-0a659ad136be",
   "metadata": {},
   "outputs": [
    {
     "ename": "ValueError",
     "evalue": "shapes (2,3) and (2,2) not aligned: 3 (dim 1) != 2 (dim 0)",
     "output_type": "error",
     "traceback": [
      "\u001b[1;31m---------------------------------------------------------------------------\u001b[0m",
      "\u001b[1;31mValueError\u001b[0m                                Traceback (most recent call last)",
      "Cell \u001b[1;32mIn[27], line 1\u001b[0m\n\u001b[1;32m----> 1\u001b[0m \u001b[43mnp\u001b[49m\u001b[38;5;241;43m.\u001b[39;49m\u001b[43mdot\u001b[49m\u001b[43m(\u001b[49m\u001b[43mar3\u001b[49m\u001b[43m,\u001b[49m\u001b[43mar1\u001b[49m\u001b[43m)\u001b[49m  \u001b[38;5;66;03m# mathematicalyy not possible\u001b[39;00m\n",
      "\u001b[1;31mValueError\u001b[0m: shapes (2,3) and (2,2) not aligned: 3 (dim 1) != 2 (dim 0)"
     ]
    }
   ],
   "source": [
    "np.dot(ar3,ar1)  # mathematicalyy not possible"
   ]
  },
  {
   "cell_type": "code",
   "execution_count": 28,
   "id": "735b82d8-205b-4902-aece-b06f6e4c73a8",
   "metadata": {},
   "outputs": [
    {
     "data": {
      "text/plain": [
       "array([[ True, False],\n",
       "       [ True,  True]])"
      ]
     },
     "execution_count": 28,
     "metadata": {},
     "output_type": "execute_result"
    }
   ],
   "source": [
    "ar1>ar2"
   ]
  },
  {
   "cell_type": "code",
   "execution_count": 29,
   "id": "2f559739-cbc0-4ed2-a7e2-e221b9f6c58b",
   "metadata": {},
   "outputs": [
    {
     "data": {
      "text/plain": [
       "array([[False, False],\n",
       "       [ True, False]])"
      ]
     },
     "execution_count": 29,
     "metadata": {},
     "output_type": "execute_result"
    }
   ],
   "source": [
    "ar1>5"
   ]
  },
  {
   "cell_type": "code",
   "execution_count": 30,
   "id": "94f92952-7229-4951-852f-c808c013ec90",
   "metadata": {},
   "outputs": [
    {
     "data": {
      "text/plain": [
       "array([[ True,  True],\n",
       "       [ True,  True]])"
      ]
     },
     "execution_count": 30,
     "metadata": {},
     "output_type": "execute_result"
    }
   ],
   "source": [
    "ar2<100"
   ]
  },
  {
   "cell_type": "code",
   "execution_count": 31,
   "id": "61e3c077-7a40-48b0-a6eb-a7027f8ae8f2",
   "metadata": {},
   "outputs": [],
   "source": [
    "a = np.array([1,2,3],float)\n",
    "b = np.array([4,2,6],float)"
   ]
  },
  {
   "cell_type": "code",
   "execution_count": 32,
   "id": "04118a39-ee53-4ba3-97b3-f8d7ad571456",
   "metadata": {},
   "outputs": [
    {
     "data": {
      "text/plain": [
       "array([[ 4.,  8., 12.],\n",
       "       [ 2.,  4.,  6.],\n",
       "       [ 6., 12., 18.]])"
      ]
     },
     "execution_count": 32,
     "metadata": {},
     "output_type": "execute_result"
    }
   ],
   "source": [
    "np.outer(b,a)"
   ]
  },
  {
   "cell_type": "code",
   "execution_count": 33,
   "id": "662efa85-9286-47c8-ad02-d86c93d963c4",
   "metadata": {},
   "outputs": [
    {
     "data": {
      "text/plain": [
       "array([[ 4.,  2.,  6.],\n",
       "       [ 8.,  4., 12.],\n",
       "       [12.,  6., 18.]])"
      ]
     },
     "execution_count": 33,
     "metadata": {},
     "output_type": "execute_result"
    }
   ],
   "source": [
    "np.outer(a,b)"
   ]
  },
  {
   "cell_type": "code",
   "execution_count": 36,
   "id": "adec5139-9339-415a-bc8d-ae7c749085c3",
   "metadata": {},
   "outputs": [
    {
     "name": "stdout",
     "output_type": "stream",
     "text": [
      "26.0\n"
     ]
    }
   ],
   "source": [
    "print(np.inner(a,b))"
   ]
  },
  {
   "cell_type": "code",
   "execution_count": 37,
   "id": "493cea39-6eba-4e39-89da-1fbb799de0c2",
   "metadata": {},
   "outputs": [
    {
     "name": "stdout",
     "output_type": "stream",
     "text": [
      "26.0\n"
     ]
    }
   ],
   "source": [
    "print(np.inner(b,a))"
   ]
  },
  {
   "cell_type": "code",
   "execution_count": null,
   "id": "a4741261-6ea4-437d-8a6c-4ec1b16e191c",
   "metadata": {},
   "outputs": [],
   "source": []
  }
 ],
 "metadata": {
  "kernelspec": {
   "display_name": "Python 3 (ipykernel)",
   "language": "python",
   "name": "python3"
  },
  "language_info": {
   "codemirror_mode": {
    "name": "ipython",
    "version": 3
   },
   "file_extension": ".py",
   "mimetype": "text/x-python",
   "name": "python",
   "nbconvert_exporter": "python",
   "pygments_lexer": "ipython3",
   "version": "3.12.4"
  }
 },
 "nbformat": 4,
 "nbformat_minor": 5
}
