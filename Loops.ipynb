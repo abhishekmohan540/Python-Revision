{
 "cells": [
  {
   "cell_type": "markdown",
   "id": "f7a626e7-7a10-4c8d-9835-d0be61702d15",
   "metadata": {},
   "source": [
    "## Data Types"
   ]
  },
  {
   "cell_type": "code",
   "execution_count": 1,
   "id": "efc83cc5-905f-4961-b271-6e6d8a853364",
   "metadata": {},
   "outputs": [
    {
     "name": "stdout",
     "output_type": "stream",
     "text": [
      "0.4\n",
      "<class 'float'>\n"
     ]
    }
   ],
   "source": [
    "a = 2/5.0\n",
    "print(a)\n",
    "print(type(a))"
   ]
  },
  {
   "cell_type": "code",
   "execution_count": 2,
   "id": "c7f6afda-1b55-427a-ad8d-1e31dec4e38e",
   "metadata": {},
   "outputs": [
    {
     "name": "stdout",
     "output_type": "stream",
     "text": [
      "0.4\n",
      "<class 'float'>\n"
     ]
    }
   ],
   "source": [
    "a = 2.0/5\n",
    "print(a)\n",
    "print(type(a))"
   ]
  },
  {
   "cell_type": "code",
   "execution_count": 3,
   "id": "16679221-c1d6-47a3-a37f-1bd893c17f35",
   "metadata": {},
   "outputs": [
    {
     "name": "stdout",
     "output_type": "stream",
     "text": [
      "0.4\n",
      "<class 'float'>\n"
     ]
    }
   ],
   "source": [
    "a = 2/5\n",
    "print(a)\n",
    "print(type(a))"
   ]
  },
  {
   "cell_type": "code",
   "execution_count": 6,
   "id": "8a57a8a3-f6ae-4b79-849b-13cffa774cde",
   "metadata": {},
   "outputs": [
    {
     "name": "stdout",
     "output_type": "stream",
     "text": [
      "(0.4+0.6j)\n",
      "<class 'complex'>\n"
     ]
    }
   ],
   "source": [
    "a = (2+3j)/5\n",
    "print(a)\n",
    "print(type(a))"
   ]
  },
  {
   "cell_type": "code",
   "execution_count": 7,
   "id": "f6e1ae7a-9992-4688-ae97-00ee16ceccdd",
   "metadata": {},
   "outputs": [
    {
     "name": "stdout",
     "output_type": "stream",
     "text": [
      "(0.4+0.6j)\n",
      "<class 'complex'>\n"
     ]
    }
   ],
   "source": [
    "a = (2+3j)/5.0\n",
    "print(a)\n",
    "print(type(a))"
   ]
  },
  {
   "cell_type": "code",
   "execution_count": 8,
   "id": "c1cb852b-8145-4dd1-8b70-36474eaa832a",
   "metadata": {},
   "outputs": [
    {
     "name": "stdout",
     "output_type": "stream",
     "text": [
      "(0.3448275862068966-0.13793103448275862j)\n",
      "<class 'complex'>\n"
     ]
    }
   ],
   "source": [
    "a = 2/(5+2j)\n",
    "print(a)\n",
    "print(type(a))"
   ]
  },
  {
   "cell_type": "code",
   "execution_count": 9,
   "id": "e1754c1c-47a1-4072-a2f0-505da15b4af0",
   "metadata": {},
   "outputs": [
    {
     "data": {
      "text/plain": [
       "2"
      ]
     },
     "execution_count": 9,
     "metadata": {},
     "output_type": "execute_result"
    }
   ],
   "source": [
    "5//2"
   ]
  },
  {
   "cell_type": "code",
   "execution_count": 10,
   "id": "458c5df1-1b27-41a2-8408-4ae9d6b831fc",
   "metadata": {},
   "outputs": [
    {
     "data": {
      "text/plain": [
       "0"
      ]
     },
     "execution_count": 10,
     "metadata": {},
     "output_type": "execute_result"
    }
   ],
   "source": [
    "1//2"
   ]
  },
  {
   "cell_type": "code",
   "execution_count": 11,
   "id": "99b5b6b3-ba90-44e4-a7e6-0dd793820e4a",
   "metadata": {},
   "outputs": [
    {
     "data": {
      "text/plain": [
       "0.5"
      ]
     },
     "execution_count": 11,
     "metadata": {},
     "output_type": "execute_result"
    }
   ],
   "source": [
    "1/2"
   ]
  },
  {
   "cell_type": "code",
   "execution_count": 12,
   "id": "e3b3ed9f-7ecf-4d35-9990-1fcb5cefc447",
   "metadata": {},
   "outputs": [
    {
     "data": {
      "text/plain": [
       "1"
      ]
     },
     "execution_count": 12,
     "metadata": {},
     "output_type": "execute_result"
    }
   ],
   "source": [
    "1%2"
   ]
  },
  {
   "cell_type": "markdown",
   "id": "cb5c22b4-b39e-413a-aa3b-0e95c71136ec",
   "metadata": {},
   "source": [
    "## While Loop"
   ]
  },
  {
   "cell_type": "markdown",
   "id": "ae9c45e9-2861-4952-b83f-5007b28c0f33",
   "metadata": {},
   "source": [
    "### Decimal to Binary coversion"
   ]
  },
  {
   "cell_type": "code",
   "execution_count": 16,
   "id": "8d50a90e-ada0-4e2a-96b5-54079b927e36",
   "metadata": {},
   "outputs": [
    {
     "name": "stdin",
     "output_type": "stream",
     "text": [
      "Enter Number:  25\n"
     ]
    },
    {
     "name": "stdout",
     "output_type": "stream",
     "text": [
      "[1, 1, 0, 0, 1]\n"
     ]
    }
   ],
   "source": [
    "num = int(input(\"Enter Number: \"))\n",
    "res = []\n",
    "while num>0:\n",
    "    rem = num%2\n",
    "    res.append(rem)\n",
    "    num = num//2\n",
    "print(res[::-1])"
   ]
  },
  {
   "cell_type": "code",
   "execution_count": 17,
   "id": "b211cbd9-9b43-4186-bc4a-23ccbeefcee8",
   "metadata": {},
   "outputs": [
    {
     "name": "stdin",
     "output_type": "stream",
     "text": [
      "Enter Number:  56\n"
     ]
    },
    {
     "name": "stdout",
     "output_type": "stream",
     "text": [
      "[1, 1, 1, 0, 0, 0]\n"
     ]
    }
   ],
   "source": [
    "num = int(input(\"Enter Number: \"))\n",
    "res = []\n",
    "while num>0:\n",
    "    rem = num%2\n",
    "    res.append(rem)\n",
    "    num = num//2\n",
    "print(res[::-1])"
   ]
  },
  {
   "cell_type": "code",
   "execution_count": 18,
   "id": "6157c415-59df-4f8a-a75e-6b2fe556f45a",
   "metadata": {},
   "outputs": [],
   "source": [
    "## TAble to any number using While loop"
   ]
  },
  {
   "cell_type": "code",
   "execution_count": 19,
   "id": "5095c982-f1aa-4e90-920b-99912869d8df",
   "metadata": {},
   "outputs": [
    {
     "name": "stdin",
     "output_type": "stream",
     "text": [
      "ENter a number : 5\n"
     ]
    },
    {
     "name": "stdout",
     "output_type": "stream",
     "text": [
      "5*1= 5\n",
      "5*2= 10\n",
      "5*3= 15\n",
      "5*4= 20\n",
      "5*5= 25\n",
      "5*6= 30\n",
      "5*7= 35\n",
      "5*8= 40\n",
      "5*9= 45\n",
      "5*10= 50\n"
     ]
    }
   ],
   "source": [
    "num = int(input(\"ENter a number :\"))\n",
    "i=1\n",
    "while i<=10:\n",
    "    res = num*i\n",
    "    print(f\"{num}*{i}=\",res)\n",
    "    i+=1\n"
   ]
  },
  {
   "cell_type": "code",
   "execution_count": 20,
   "id": "0ea0872f-1abc-4016-9fb7-f8d737c29373",
   "metadata": {},
   "outputs": [
    {
     "name": "stdin",
     "output_type": "stream",
     "text": [
      "ENter a number : 65\n"
     ]
    },
    {
     "name": "stdout",
     "output_type": "stream",
     "text": [
      "65*1= 65\n",
      "65*2= 130\n",
      "65*3= 195\n",
      "65*4= 260\n",
      "65*5= 325\n",
      "65*6= 390\n",
      "65*7= 455\n",
      "65*8= 520\n",
      "65*9= 585\n",
      "65*10= 650\n"
     ]
    }
   ],
   "source": [
    "num = int(input(\"ENter a number :\"))\n",
    "i=1\n",
    "while i<=10:\n",
    "    res = num*i\n",
    "    print(f\"{num}*{i}=\",res)\n",
    "    i+=1"
   ]
  },
  {
   "cell_type": "markdown",
   "id": "0361d560-9fe7-4801-8827-bad24f7d7b20",
   "metadata": {},
   "source": [
    "## For Loops"
   ]
  },
  {
   "cell_type": "code",
   "execution_count": 21,
   "id": "47de9790-cd54-47b0-853c-0f4a711c47fa",
   "metadata": {},
   "outputs": [
    {
     "name": "stdout",
     "output_type": "stream",
     "text": [
      "A\n",
      "b\n",
      "h\n",
      "i\n",
      "s\n",
      "h\n",
      "e\n",
      "k\n"
     ]
    }
   ],
   "source": [
    "name = \"Abhishek\"\n",
    "for char in name:\n",
    "    print(char)"
   ]
  },
  {
   "cell_type": "code",
   "execution_count": 22,
   "id": "db49d512-ebfd-432e-9dcb-dc9625e66f05",
   "metadata": {},
   "outputs": [
    {
     "name": "stdout",
     "output_type": "stream",
     "text": [
      "A b h i s h e k "
     ]
    }
   ],
   "source": [
    "name = \"Abhishek\"\n",
    "for char in name:\n",
    "    print(char, end=' ')"
   ]
  },
  {
   "cell_type": "code",
   "execution_count": 23,
   "id": "2dcff4cb-316c-408a-9b43-f8d7f45c8c05",
   "metadata": {},
   "outputs": [
    {
     "name": "stdout",
     "output_type": "stream",
     "text": [
      "A, b, h, i, s, h, e, k, "
     ]
    }
   ],
   "source": [
    "name = \"Abhishek\"\n",
    "for char in name:\n",
    "    print(char, end=', ')"
   ]
  },
  {
   "cell_type": "code",
   "execution_count": 24,
   "id": "1f94ac35-48f9-4de8-a7c3-072b1cb2b507",
   "metadata": {},
   "outputs": [
    {
     "name": "stdout",
     "output_type": "stream",
     "text": [
      "0\n",
      "1\n",
      "2\n",
      "3\n",
      "4\n",
      "5\n",
      "6\n",
      "7\n",
      "8\n",
      "9\n"
     ]
    }
   ],
   "source": [
    "for k in range(10):\n",
    "    print(k)"
   ]
  },
  {
   "cell_type": "code",
   "execution_count": 25,
   "id": "fa956be2-20d4-4c6e-be7f-0341690bec48",
   "metadata": {},
   "outputs": [
    {
     "name": "stdout",
     "output_type": "stream",
     "text": [
      "5,6,7,8,9,10,"
     ]
    }
   ],
   "source": [
    "for i in range(5,11):\n",
    "    print(i, end=',')"
   ]
  },
  {
   "cell_type": "code",
   "execution_count": 26,
   "id": "2caa4e98-36b3-4b4e-a5cf-3df87efe554c",
   "metadata": {},
   "outputs": [
    {
     "name": "stdout",
     "output_type": "stream",
     "text": [
      "5,10,15,20,25,30,35,40,45,50,55,60,65,70,75,80,85,90,95,"
     ]
    }
   ],
   "source": [
    "for i in range(5,100,5):\n",
    "    print(i, end=',')"
   ]
  },
  {
   "cell_type": "code",
   "execution_count": 27,
   "id": "d7f3cfa8-94ed-4d1c-87fc-7ed3dbeee519",
   "metadata": {},
   "outputs": [
    {
     "name": "stdout",
     "output_type": "stream",
     "text": [
      "0\n",
      "1\n",
      "2\n",
      "3\n",
      "Done with the loop\n"
     ]
    }
   ],
   "source": [
    "i=0\n",
    "while(i<=3):\n",
    "    print(i)\n",
    "    i=i+1\n",
    "print(\"Done with the loop\")"
   ]
  },
  {
   "cell_type": "code",
   "execution_count": 29,
   "id": "8d7988f2-6c4f-4d85-bb26-91ecd196534e",
   "metadata": {},
   "outputs": [
    {
     "name": "stdin",
     "output_type": "stream",
     "text": [
      "Enter the value of i:  12\n"
     ]
    },
    {
     "name": "stdout",
     "output_type": "stream",
     "text": [
      "12\n"
     ]
    },
    {
     "name": "stdin",
     "output_type": "stream",
     "text": [
      "Enter the value of i:  45\n"
     ]
    },
    {
     "name": "stdout",
     "output_type": "stream",
     "text": [
      "45\n"
     ]
    },
    {
     "name": "stdin",
     "output_type": "stream",
     "text": [
      "Enter the value of i:  0\n"
     ]
    },
    {
     "name": "stdout",
     "output_type": "stream",
     "text": [
      "0\n"
     ]
    },
    {
     "name": "stdin",
     "output_type": "stream",
     "text": [
      "Enter the value of i:  32\n"
     ]
    },
    {
     "name": "stdout",
     "output_type": "stream",
     "text": [
      "32\n"
     ]
    },
    {
     "name": "stdin",
     "output_type": "stream",
     "text": [
      "Enter the value of i:  19\n"
     ]
    },
    {
     "name": "stdout",
     "output_type": "stream",
     "text": [
      "19\n"
     ]
    },
    {
     "name": "stdin",
     "output_type": "stream",
     "text": [
      "Enter the value of i:  56\n"
     ]
    },
    {
     "name": "stdout",
     "output_type": "stream",
     "text": [
      "56\n",
      "DOne\n"
     ]
    }
   ],
   "source": [
    "i=1\n",
    "while i<=50:\n",
    "    i = int(input(\"Enter the value of i: \"))\n",
    "    print(i)\n",
    "print(\"DOne\")"
   ]
  },
  {
   "cell_type": "code",
   "execution_count": 30,
   "id": "dc9f3596-f1b9-4749-9d86-bd864fd2a7ad",
   "metadata": {},
   "outputs": [
    {
     "name": "stdout",
     "output_type": "stream",
     "text": [
      "5\n",
      "4\n",
      "3\n",
      "2\n",
      "1\n"
     ]
    }
   ],
   "source": [
    "count=5\n",
    "while count>0:\n",
    "    print(count)\n",
    "    count=count-1"
   ]
  },
  {
   "cell_type": "code",
   "execution_count": 32,
   "id": "d5bde0fb-aaa2-42d5-9a78-64d31d687ce0",
   "metadata": {},
   "outputs": [],
   "source": [
    "# count=5\n",
    "# while count>0:\n",
    "#     print(count)\n",
    "#     count=count+1\n",
    "\n",
    "#Infinite Loop"
   ]
  },
  {
   "cell_type": "markdown",
   "id": "5368f872-f2b6-4230-ba20-f5abf5604e31",
   "metadata": {},
   "source": [
    "## While-Else Loop"
   ]
  },
  {
   "cell_type": "code",
   "execution_count": 33,
   "id": "64090596-8d23-4087-bad8-9069bcd1b257",
   "metadata": {},
   "outputs": [
    {
     "name": "stdout",
     "output_type": "stream",
     "text": [
      "5\n",
      "4\n",
      "3\n",
      "2\n",
      "1\n",
      "Else Executed\n"
     ]
    }
   ],
   "source": [
    "count=5\n",
    "while count>0:\n",
    "    print(count)\n",
    "    count=count-1\n",
    "else:\n",
    "    print(\"Else Executed\")"
   ]
  },
  {
   "cell_type": "code",
   "execution_count": 34,
   "id": "014f0634-9c9d-4a92-b8b9-8f1528c9b036",
   "metadata": {},
   "outputs": [
    {
     "name": "stdout",
     "output_type": "stream",
     "text": [
      "0\n",
      "5\n",
      "10\n",
      "15\n",
      "20\n",
      "25\n",
      "30\n",
      "35\n",
      "40\n",
      "45\n",
      "50\n"
     ]
    }
   ],
   "source": [
    "for i in range(12):\n",
    "    print(5*i)\n",
    "    if i==10:\n",
    "        break"
   ]
  },
  {
   "cell_type": "code",
   "execution_count": 37,
   "id": "31c265ce-8b46-4780-9551-23d96b1cc89e",
   "metadata": {},
   "outputs": [
    {
     "name": "stdout",
     "output_type": "stream",
     "text": [
      "1\n",
      "2\n",
      "3\n",
      "4\n",
      "5\n",
      "6\n",
      "7\n",
      "8\n",
      "9\n",
      "10\n",
      "11\n",
      "12\n",
      "13\n",
      "14\n",
      "15\n",
      "16\n",
      "17\n",
      "18\n",
      "19\n"
     ]
    }
   ],
   "source": [
    "i=1\n",
    "\n",
    "while True:\n",
    "    print(i)\n",
    "    i=i+1\n",
    "    if i%20==0:\n",
    "        break"
   ]
  },
  {
   "cell_type": "markdown",
   "id": "f31e5fa4-c634-4571-a0ad-16bfc585054d",
   "metadata": {},
   "source": [
    "## For -Else Loop"
   ]
  },
  {
   "cell_type": "code",
   "execution_count": 39,
   "id": "8861dfa9-ce02-426b-8104-682e21401d2c",
   "metadata": {},
   "outputs": [
    {
     "name": "stdout",
     "output_type": "stream",
     "text": [
      "Not Found\n",
      "Not Found\n",
      "Not Found\n",
      "Not Found\n",
      "Bottle found\n"
     ]
    }
   ],
   "source": [
    "saman = [\"Pen\", \"Books\", \"Umbrella\", \"Torch\", \"Bottle\"]\n",
    "for i in saman:\n",
    "    if(i==\"Bottle\"):\n",
    "        print(\"Bottle found\")\n",
    "    else:\n",
    "        print(\"Not Found\")\n"
   ]
  },
  {
   "cell_type": "code",
   "execution_count": 44,
   "id": "e801db72-dbcc-48d3-bf10-b21570bbbc3f",
   "metadata": {},
   "outputs": [
    {
     "name": "stdout",
     "output_type": "stream",
     "text": [
      "found\n"
     ]
    }
   ],
   "source": [
    "saman = [\"Pen\", \"Books\", \"Umbrella\", \"Torch\", \"Bottle\"]\n",
    "for i in saman:\n",
    "    if(i==\"Bottle\"):\n",
    "        print(\"found\")\n",
    "        break\n",
    "else:\n",
    "    print(\"Not Found\")"
   ]
  },
  {
   "cell_type": "code",
   "execution_count": 45,
   "id": "35c2789e-0bc9-4472-9676-fbc963e1a8cf",
   "metadata": {},
   "outputs": [
    {
     "name": "stdout",
     "output_type": "stream",
     "text": [
      "found\n"
     ]
    }
   ],
   "source": [
    "saman = [\"Pen\", \"Books\", \"Umbrella\", \"Torch\", \"Bottle\"]\n",
    "for i in saman:\n",
    "    if(i==\"Torch\"):\n",
    "        print(\"found\")\n",
    "        break\n",
    "else:\n",
    "    print(\"Not Found\")"
   ]
  },
  {
   "cell_type": "code",
   "execution_count": 46,
   "id": "34a97cb0-ff47-47e9-9425-d3c17df9eb97",
   "metadata": {},
   "outputs": [
    {
     "name": "stdout",
     "output_type": "stream",
     "text": [
      "Not Found\n"
     ]
    }
   ],
   "source": [
    "saman = [\"Pen\", \"Books\", \"Umbrella\", \"Torch\", \"Bottle\"]\n",
    "for i in saman:\n",
    "    if(i==\"Clothes\"):\n",
    "        print(\"found\")\n",
    "        break\n",
    "else:\n",
    "    print(\"Not Found\")"
   ]
  },
  {
   "cell_type": "code",
   "execution_count": null,
   "id": "93525a47-5e9a-4c01-9443-abc270efed43",
   "metadata": {},
   "outputs": [],
   "source": []
  },
  {
   "cell_type": "code",
   "execution_count": null,
   "id": "f494ee86-2e0c-4138-9be2-0a7c61910bd6",
   "metadata": {},
   "outputs": [],
   "source": []
  }
 ],
 "metadata": {
  "kernelspec": {
   "display_name": "Python 3 (ipykernel)",
   "language": "python",
   "name": "python3"
  },
  "language_info": {
   "codemirror_mode": {
    "name": "ipython",
    "version": 3
   },
   "file_extension": ".py",
   "mimetype": "text/x-python",
   "name": "python",
   "nbconvert_exporter": "python",
   "pygments_lexer": "ipython3",
   "version": "3.12.4"
  }
 },
 "nbformat": 4,
 "nbformat_minor": 5
}
