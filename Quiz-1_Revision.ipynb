{
 "cells": [
  {
   "cell_type": "markdown",
   "id": "fa73d42d-5318-4403-921d-1c5e7b89c30f",
   "metadata": {},
   "source": [
    "## Practice of Data Types, Operators, Lists, Strings and Tuples"
   ]
  },
  {
   "cell_type": "code",
   "execution_count": 11,
   "id": "b89b2a5c-bd27-422f-92ae-ef32bd78f973",
   "metadata": {},
   "outputs": [
    {
     "name": "stdout",
     "output_type": "stream",
     "text": [
      "1\n",
      "2\n",
      "3\n",
      "4\n",
      "5\n",
      "6\n",
      "7\n",
      "8\n",
      "9\n",
      "10\n"
     ]
    }
   ],
   "source": [
    "L=[]\n",
    "for i in range(10):\n",
    "    print(i+1)\n",
    "    L.append(i**2)"
   ]
  },
  {
   "cell_type": "code",
   "execution_count": 12,
   "id": "5d36a5d1-a918-4999-b42f-2544cabfd3d0",
   "metadata": {},
   "outputs": [
    {
     "name": "stdout",
     "output_type": "stream",
     "text": [
      "[0, 1, 4, 9, 16, 25, 36, 49, 64, 81]\n"
     ]
    }
   ],
   "source": [
    "print(L)"
   ]
  },
  {
   "cell_type": "code",
   "execution_count": 14,
   "id": "0dd16ed7-b737-4be2-8942-95f6be00c448",
   "metadata": {},
   "outputs": [
    {
     "name": "stdout",
     "output_type": "stream",
     "text": [
      "0\n",
      "2\n",
      "4\n",
      "6\n",
      "8\n",
      "[0, 4, 16, 36, 64]\n"
     ]
    }
   ],
   "source": [
    "L=[]\n",
    "for i in range(0,10,2):   # 0 to 10 in steps of 2\n",
    "    print(i)\n",
    "    L.append(i**2)\n",
    "print(L)"
   ]
  },
  {
   "cell_type": "code",
   "execution_count": 1,
   "id": "97a43db2-db1c-4752-83d1-3fa79236034f",
   "metadata": {},
   "outputs": [],
   "source": [
    "string = \"this is my country indai\""
   ]
  },
  {
   "cell_type": "code",
   "execution_count": 2,
   "id": "7dbd0503-614b-4a6f-b0ee-7b3b6ec4f054",
   "metadata": {},
   "outputs": [
    {
     "data": {
      "text/plain": [
       "'This is my country indai'"
      ]
     },
     "execution_count": 2,
     "metadata": {},
     "output_type": "execute_result"
    }
   ],
   "source": [
    "string.capitalize()"
   ]
  },
  {
   "cell_type": "code",
   "execution_count": 3,
   "id": "fc68055d-3d69-4330-b916-a18c2f959aae",
   "metadata": {},
   "outputs": [
    {
     "data": {
      "text/plain": [
       "'THIS IS MY COUNTRY INDAI'"
      ]
     },
     "execution_count": 3,
     "metadata": {},
     "output_type": "execute_result"
    }
   ],
   "source": [
    "string.upper()"
   ]
  },
  {
   "cell_type": "code",
   "execution_count": 4,
   "id": "19c8464e-779d-4970-b422-3327fd1ad27b",
   "metadata": {},
   "outputs": [
    {
     "data": {
      "text/plain": [
       "'this is my country indai'"
      ]
     },
     "execution_count": 4,
     "metadata": {},
     "output_type": "execute_result"
    }
   ],
   "source": [
    "string.lower()"
   ]
  },
  {
   "cell_type": "code",
   "execution_count": 5,
   "id": "23c5636e-b66c-432c-9991-3b43dcec76a6",
   "metadata": {},
   "outputs": [
    {
     "data": {
      "text/plain": [
       "'This Is My Country Indai'"
      ]
     },
     "execution_count": 5,
     "metadata": {},
     "output_type": "execute_result"
    }
   ],
   "source": [
    "string.title()"
   ]
  },
  {
   "cell_type": "code",
   "execution_count": 6,
   "id": "68172996-8608-45db-bc35-a43104e4339e",
   "metadata": {},
   "outputs": [
    {
     "data": {
      "text/plain": [
       "'this is my country india'"
      ]
     },
     "execution_count": 6,
     "metadata": {},
     "output_type": "execute_result"
    }
   ],
   "source": [
    "string.replace(\"indai\", \"india\")"
   ]
  },
  {
   "cell_type": "code",
   "execution_count": 8,
   "id": "ff6db621-6b70-4a3b-ac53-d670729d1c95",
   "metadata": {},
   "outputs": [
    {
     "data": {
      "text/plain": [
       "'this is my country indai'"
      ]
     },
     "execution_count": 8,
     "metadata": {},
     "output_type": "execute_result"
    }
   ],
   "source": [
    "string"
   ]
  },
  {
   "cell_type": "code",
   "execution_count": 9,
   "id": "9a4f3e14-1dca-4779-b8d5-eb22bfd2098c",
   "metadata": {},
   "outputs": [
    {
     "data": {
      "text/plain": [
       "'HELO'"
      ]
     },
     "execution_count": 9,
     "metadata": {},
     "output_type": "execute_result"
    }
   ],
   "source": [
    "\"helo\".swapcase()"
   ]
  },
  {
   "cell_type": "code",
   "execution_count": 10,
   "id": "48304a17-303b-4efe-82a0-24dce66a8297",
   "metadata": {},
   "outputs": [
    {
     "data": {
      "text/plain": [
       "'IN IS A BALL'"
      ]
     },
     "execution_count": 10,
     "metadata": {},
     "output_type": "execute_result"
    }
   ],
   "source": [
    "\"in is a ball\".swapcase()"
   ]
  },
  {
   "cell_type": "code",
   "execution_count": 11,
   "id": "6a9db020-17c1-4066-80a3-aef291287772",
   "metadata": {},
   "outputs": [
    {
     "data": {
      "text/plain": [
       "'tHIS'"
      ]
     },
     "execution_count": 11,
     "metadata": {},
     "output_type": "execute_result"
    }
   ],
   "source": [
    "\"This\".swapcase()"
   ]
  },
  {
   "cell_type": "code",
   "execution_count": 12,
   "id": "1924a68a-35f4-4ca0-bb94-cb9f71ba47e0",
   "metadata": {},
   "outputs": [
    {
     "name": "stdout",
     "output_type": "stream",
     "text": [
      "(5+0j)\n"
     ]
    }
   ],
   "source": [
    "a=5\n",
    "b= complex(a)\n",
    "print(b)"
   ]
  },
  {
   "cell_type": "code",
   "execution_count": 16,
   "id": "86177541-045d-482d-86df-d5622568ad62",
   "metadata": {},
   "outputs": [
    {
     "name": "stdout",
     "output_type": "stream",
     "text": [
      "(10+5j)\n"
     ]
    }
   ],
   "source": [
    "a=10\n",
    "b= complex(a,5)\n",
    "print(b)"
   ]
  },
  {
   "cell_type": "code",
   "execution_count": 17,
   "id": "9f4caaf8-92e5-4fef-8e8b-2c9bc1cf2f37",
   "metadata": {},
   "outputs": [
    {
     "name": "stdout",
     "output_type": "stream",
     "text": [
      "True\n"
     ]
    }
   ],
   "source": [
    "a = 110\n",
    "b= bool(a)\n",
    "print(b)"
   ]
  },
  {
   "cell_type": "code",
   "execution_count": 19,
   "id": "9687a310-dd94-4016-bf43-baec9166e111",
   "metadata": {},
   "outputs": [
    {
     "name": "stdout",
     "output_type": "stream",
     "text": [
      "True\n"
     ]
    }
   ],
   "source": [
    "a = \"123abc\"\n",
    "b= bool(a)\n",
    "print(b)"
   ]
  },
  {
   "cell_type": "code",
   "execution_count": 23,
   "id": "d910127d-2b5a-4419-9128-a083d05806e4",
   "metadata": {},
   "outputs": [
    {
     "name": "stdout",
     "output_type": "stream",
     "text": [
      "False\n"
     ]
    }
   ],
   "source": [
    "a = \"\"\n",
    "b= bool(a)\n",
    "print(b)"
   ]
  },
  {
   "cell_type": "code",
   "execution_count": 24,
   "id": "e56f4ccb-b113-44f1-9021-d501818e4bd3",
   "metadata": {},
   "outputs": [
    {
     "name": "stdout",
     "output_type": "stream",
     "text": [
      "False\n"
     ]
    }
   ],
   "source": [
    "a = 0\n",
    "b= bool(a)\n",
    "print(b)"
   ]
  },
  {
   "cell_type": "code",
   "execution_count": 29,
   "id": "a14d45de-c286-4774-85b5-03b02e820ae5",
   "metadata": {},
   "outputs": [
    {
     "name": "stdout",
     "output_type": "stream",
     "text": [
      "this is \" my pen\n"
     ]
    }
   ],
   "source": [
    "print(\"this is \\\" my pen\")"
   ]
  },
  {
   "cell_type": "code",
   "execution_count": 34,
   "id": "8497708b-600b-46b7-b0b2-891adfd9cfa3",
   "metadata": {},
   "outputs": [
    {
     "name": "stdout",
     "output_type": "stream",
     "text": [
      "thisi is \"a\" pen\n"
     ]
    }
   ],
   "source": [
    "print(\"thisi is \\\"a\\\" pen\")"
   ]
  },
  {
   "cell_type": "code",
   "execution_count": 36,
   "id": "ffdd840a-d05e-4018-a8d9-ad0eb5a80bd7",
   "metadata": {},
   "outputs": [
    {
     "data": {
      "text/plain": [
       "1"
      ]
     },
     "execution_count": 36,
     "metadata": {},
     "output_type": "execute_result"
    }
   ],
   "source": [
    "5//3"
   ]
  },
  {
   "cell_type": "code",
   "execution_count": 38,
   "id": "03b311cd-fbc9-4bdc-a831-3369b601042e",
   "metadata": {},
   "outputs": [
    {
     "data": {
      "text/plain": [
       "3"
      ]
     },
     "execution_count": 38,
     "metadata": {},
     "output_type": "execute_result"
    }
   ],
   "source": [
    "20//6"
   ]
  },
  {
   "cell_type": "code",
   "execution_count": 39,
   "id": "c1dc89f2-3a27-4dc5-ab86-812f16dc4103",
   "metadata": {},
   "outputs": [
    {
     "data": {
      "text/plain": [
       "3.3333333333333335"
      ]
     },
     "execution_count": 39,
     "metadata": {},
     "output_type": "execute_result"
    }
   ],
   "source": [
    "20/6"
   ]
  },
  {
   "cell_type": "code",
   "execution_count": 40,
   "id": "ae472dcc-4382-47bc-a026-dd141958b4f6",
   "metadata": {},
   "outputs": [
    {
     "data": {
      "text/plain": [
       "2"
      ]
     },
     "execution_count": 40,
     "metadata": {},
     "output_type": "execute_result"
    }
   ],
   "source": [
    "20%6"
   ]
  },
  {
   "cell_type": "code",
   "execution_count": 41,
   "id": "8b4279d1-a9f5-4e61-9c1c-24df4c197657",
   "metadata": {},
   "outputs": [
    {
     "data": {
      "text/plain": [
       "8"
      ]
     },
     "execution_count": 41,
     "metadata": {},
     "output_type": "execute_result"
    }
   ],
   "source": [
    "2**3"
   ]
  },
  {
   "cell_type": "code",
   "execution_count": 42,
   "id": "f49a7f2a-a6a4-48b9-8b4c-b50c2e08fe2f",
   "metadata": {},
   "outputs": [
    {
     "data": {
      "text/plain": [
       "125"
      ]
     },
     "execution_count": 42,
     "metadata": {},
     "output_type": "execute_result"
    }
   ],
   "source": [
    "5**3"
   ]
  },
  {
   "cell_type": "code",
   "execution_count": 43,
   "id": "4d057310-1911-4683-85fc-f563ad1581d9",
   "metadata": {},
   "outputs": [
    {
     "data": {
      "text/plain": [
       "False"
      ]
     },
     "execution_count": 43,
     "metadata": {},
     "output_type": "execute_result"
    }
   ],
   "source": [
    "2>6"
   ]
  },
  {
   "cell_type": "code",
   "execution_count": 44,
   "id": "550b6644-831e-4849-a3b3-410681a55405",
   "metadata": {},
   "outputs": [
    {
     "data": {
      "text/plain": [
       "True"
      ]
     },
     "execution_count": 44,
     "metadata": {},
     "output_type": "execute_result"
    }
   ],
   "source": [
    "56>23"
   ]
  },
  {
   "cell_type": "code",
   "execution_count": 45,
   "id": "085f3bd9-b149-47eb-87e7-5065b4ccbeb8",
   "metadata": {},
   "outputs": [
    {
     "data": {
      "text/plain": [
       "True"
      ]
     },
     "execution_count": 45,
     "metadata": {},
     "output_type": "execute_result"
    }
   ],
   "source": [
    "20 != 50"
   ]
  },
  {
   "cell_type": "code",
   "execution_count": 46,
   "id": "4b017597-9f45-47e0-ab03-a2d82f770dd5",
   "metadata": {},
   "outputs": [
    {
     "data": {
      "text/plain": [
       "True"
      ]
     },
     "execution_count": 46,
     "metadata": {},
     "output_type": "execute_result"
    }
   ],
   "source": [
    "30 == 30"
   ]
  },
  {
   "cell_type": "code",
   "execution_count": 47,
   "id": "96b45245-7baf-4b44-beff-900433d51b3c",
   "metadata": {},
   "outputs": [
    {
     "data": {
      "text/plain": [
       "False"
      ]
     },
     "execution_count": 47,
     "metadata": {},
     "output_type": "execute_result"
    }
   ],
   "source": [
    "20 != 20"
   ]
  },
  {
   "cell_type": "code",
   "execution_count": 49,
   "id": "339d71c3-86a2-46bb-8072-c610e159e1da",
   "metadata": {},
   "outputs": [
    {
     "name": "stdout",
     "output_type": "stream",
     "text": [
      "140729482475992 140729482475992\n"
     ]
    },
    {
     "data": {
      "text/plain": [
       "True"
      ]
     },
     "execution_count": 49,
     "metadata": {},
     "output_type": "execute_result"
    }
   ],
   "source": [
    "a = 2\n",
    "b= 2\n",
    "print(id(a), id(b))\n",
    "a is b"
   ]
  },
  {
   "cell_type": "code",
   "execution_count": 50,
   "id": "6f627366-a48f-4d09-8529-770f7fe65fe8",
   "metadata": {},
   "outputs": [
    {
     "name": "stdout",
     "output_type": "stream",
     "text": [
      "140729482475992 1386581310864\n"
     ]
    },
    {
     "data": {
      "text/plain": [
       "False"
      ]
     },
     "execution_count": 50,
     "metadata": {},
     "output_type": "execute_result"
    }
   ],
   "source": [
    "a = 2\n",
    "b= 2.0\n",
    "print(id(a), id(b))\n",
    "a is b"
   ]
  },
  {
   "cell_type": "code",
   "execution_count": 51,
   "id": "9d7aeb20-b9a4-4a7a-a4bc-8564d6bd6c8a",
   "metadata": {},
   "outputs": [
    {
     "data": {
      "text/plain": [
       "True"
      ]
     },
     "execution_count": 51,
     "metadata": {},
     "output_type": "execute_result"
    }
   ],
   "source": [
    "2 == 2.0"
   ]
  },
  {
   "cell_type": "code",
   "execution_count": 52,
   "id": "05ae3533-5eb4-4b8a-9dcb-9da0f5f19de3",
   "metadata": {},
   "outputs": [
    {
     "name": "stderr",
     "output_type": "stream",
     "text": [
      "<>:1: SyntaxWarning: \"is\" with 'int' literal. Did you mean \"==\"?\n",
      "<>:1: SyntaxWarning: \"is\" with 'int' literal. Did you mean \"==\"?\n",
      "C:\\Users\\abc\\AppData\\Local\\Temp\\ipykernel_9296\\700261715.py:1: SyntaxWarning: \"is\" with 'int' literal. Did you mean \"==\"?\n",
      "  2 is 2.0\n"
     ]
    },
    {
     "data": {
      "text/plain": [
       "False"
      ]
     },
     "execution_count": 52,
     "metadata": {},
     "output_type": "execute_result"
    }
   ],
   "source": [
    "2 is 2.0"
   ]
  },
  {
   "cell_type": "code",
   "execution_count": 54,
   "id": "35069a32-c03c-4ed5-8c7d-0736c975bd08",
   "metadata": {},
   "outputs": [
    {
     "name": "stdout",
     "output_type": "stream",
     "text": [
      "1386555194464 1386555194464\n"
     ]
    },
    {
     "data": {
      "text/plain": [
       "True"
      ]
     },
     "execution_count": 54,
     "metadata": {},
     "output_type": "execute_result"
    }
   ],
   "source": [
    "a = \"hello\"\n",
    "b =\"hello\"\n",
    "print(id(a),id(b))\n",
    "a is b"
   ]
  },
  {
   "cell_type": "code",
   "execution_count": 55,
   "id": "700ed6b3-a43e-457b-9f89-426e84f20848",
   "metadata": {},
   "outputs": [
    {
     "data": {
      "text/plain": [
       "True"
      ]
     },
     "execution_count": 55,
     "metadata": {},
     "output_type": "execute_result"
    }
   ],
   "source": [
    "\"a\" in \"abhishek\""
   ]
  },
  {
   "cell_type": "code",
   "execution_count": 56,
   "id": "50f59949-592e-41f8-bb51-38be1bdae5f6",
   "metadata": {},
   "outputs": [
    {
     "data": {
      "text/plain": [
       "True"
      ]
     },
     "execution_count": 56,
     "metadata": {},
     "output_type": "execute_result"
    }
   ],
   "source": [
    "\"abhi\" in \"abhihjek\""
   ]
  },
  {
   "cell_type": "code",
   "execution_count": 59,
   "id": "f2a10957-1aea-41ae-9715-73c73c66b0f2",
   "metadata": {},
   "outputs": [
    {
     "data": {
      "text/plain": [
       "True"
      ]
     },
     "execution_count": 59,
     "metadata": {},
     "output_type": "execute_result"
    }
   ],
   "source": [
    "5 in [1,2,5,6]"
   ]
  },
  {
   "cell_type": "code",
   "execution_count": 60,
   "id": "f5dc5524-4354-43f4-8ec2-717f7f62ac30",
   "metadata": {},
   "outputs": [
    {
     "data": {
      "text/plain": [
       "True"
      ]
     },
     "execution_count": 60,
     "metadata": {},
     "output_type": "execute_result"
    }
   ],
   "source": [
    "7 not in [1,2,3]"
   ]
  },
  {
   "cell_type": "markdown",
   "id": "a97eba28-55a9-4d24-ae6c-982a58bbaed7",
   "metadata": {},
   "source": [
    "### Break and Continue"
   ]
  },
  {
   "cell_type": "code",
   "execution_count": 61,
   "id": "7b4954b2-69d1-49c4-bac4-848df4a9e0bc",
   "metadata": {},
   "outputs": [
    {
     "name": "stdout",
     "output_type": "stream",
     "text": [
      "1 2 4 5 \n",
      " Program Over\n"
     ]
    }
   ],
   "source": [
    "count = 0\n",
    "while True:\n",
    "    count = count+1\n",
    "    if count>5:\n",
    "        break\n",
    "    if count == 3:\n",
    "        continue\n",
    "    print(count, end=\" \")\n",
    "print(\"\\n Program Over\")"
   ]
  },
  {
   "cell_type": "code",
   "execution_count": 66,
   "id": "a8714fd3-a814-4218-981a-5376607340fd",
   "metadata": {},
   "outputs": [
    {
     "name": "stdout",
     "output_type": "stream",
     "text": [
      "0 1 2 3 4 5 6 7 8 9 "
     ]
    }
   ],
   "source": [
    "for i in range(0,10):\n",
    "    print(i, end=' ')"
   ]
  },
  {
   "cell_type": "code",
   "execution_count": 71,
   "id": "4845cb92-b418-4da0-a20e-31da0ce2587d",
   "metadata": {},
   "outputs": [
    {
     "data": {
      "text/plain": [
       "['abhisek', 'mohan', 'jha']"
      ]
     },
     "execution_count": 71,
     "metadata": {},
     "output_type": "execute_result"
    }
   ],
   "source": [
    "\"abhisek mohan jha\".split(\" \")"
   ]
  },
  {
   "cell_type": "code",
   "execution_count": 72,
   "id": "7a81381a-205a-42db-974d-48b53ae1e26d",
   "metadata": {},
   "outputs": [
    {
     "data": {
      "text/plain": [
       "['Python', 'is', 'a', 'high', 'level', 'language']"
      ]
     },
     "execution_count": 72,
     "metadata": {},
     "output_type": "execute_result"
    }
   ],
   "source": [
    "\"Python is a high level language\".split()"
   ]
  },
  {
   "cell_type": "code",
   "execution_count": 73,
   "id": "d69fc2f0-fa5a-491e-8c49-0bc8857dec84",
   "metadata": {},
   "outputs": [
    {
     "data": {
      "text/plain": [
       "['Python', 'is', 'a', 'high level language']"
      ]
     },
     "execution_count": 73,
     "metadata": {},
     "output_type": "execute_result"
    }
   ],
   "source": [
    "\"Python is a high level language\".split(\" \",3)"
   ]
  },
  {
   "cell_type": "code",
   "execution_count": 74,
   "id": "a21d419e-bef6-41e0-92fc-9324f527914f",
   "metadata": {},
   "outputs": [
    {
     "data": {
      "text/plain": [
       "True"
      ]
     },
     "execution_count": 74,
     "metadata": {},
     "output_type": "execute_result"
    }
   ],
   "source": [
    "\"1235456\".isdecimal()"
   ]
  },
  {
   "cell_type": "code",
   "execution_count": 75,
   "id": "f0d54008-e086-4e09-a34c-622dde9e3dd0",
   "metadata": {},
   "outputs": [
    {
     "data": {
      "text/plain": [
       "False"
      ]
     },
     "execution_count": 75,
     "metadata": {},
     "output_type": "execute_result"
    }
   ],
   "source": [
    "\"12avc\".isdecimal()"
   ]
  },
  {
   "cell_type": "code",
   "execution_count": 76,
   "id": "35254b85-5f5e-4007-a91a-b53c09e9701e",
   "metadata": {},
   "outputs": [
    {
     "data": {
      "text/plain": [
       "10"
      ]
     },
     "execution_count": 76,
     "metadata": {},
     "output_type": "execute_result"
    }
   ],
   "source": [
    "\"Python is high level\".find(\"high\")"
   ]
  },
  {
   "cell_type": "code",
   "execution_count": 77,
   "id": "cd0738c3-a798-47fa-89fe-1966256e11c4",
   "metadata": {},
   "outputs": [
    {
     "data": {
      "text/plain": [
       "4"
      ]
     },
     "execution_count": 77,
     "metadata": {},
     "output_type": "execute_result"
    }
   ],
   "source": [
    "\"Python\".find(\"o\")"
   ]
  },
  {
   "cell_type": "code",
   "execution_count": 81,
   "id": "f69b1dd2-376a-4b9c-9ff2-35d92fd2552a",
   "metadata": {},
   "outputs": [
    {
     "data": {
      "text/plain": [
       "-1"
      ]
     },
     "execution_count": 81,
     "metadata": {},
     "output_type": "execute_result"
    }
   ],
   "source": [
    "\"Python is high level\".find(\"high\",1,5)     #if not present, returns -1"
   ]
  },
  {
   "cell_type": "code",
   "execution_count": 82,
   "id": "3caea8ca-cfd7-4543-bbcc-194b6fe065a0",
   "metadata": {},
   "outputs": [
    {
     "data": {
      "text/plain": [
       "-1"
      ]
     },
     "execution_count": 82,
     "metadata": {},
     "output_type": "execute_result"
    }
   ],
   "source": [
    "\"Python\".find(\"5\")"
   ]
  },
  {
   "cell_type": "code",
   "execution_count": 87,
   "id": "ff81d650-d3c5-43e2-8ed9-150f01a3c29a",
   "metadata": {},
   "outputs": [
    {
     "data": {
      "text/plain": [
       "[1, 2, 33, 4, 5]"
      ]
     },
     "execution_count": 87,
     "metadata": {},
     "output_type": "execute_result"
    }
   ],
   "source": [
    "a=[1,2,33,4]\n",
    "a.insert(4,5)\n",
    "a"
   ]
  },
  {
   "cell_type": "code",
   "execution_count": 90,
   "id": "d29dc2e2-9748-41c8-ba6f-e8fc30fadbeb",
   "metadata": {},
   "outputs": [],
   "source": [
    "a.insert(5,\"abhi\") #insert(index, value)"
   ]
  },
  {
   "cell_type": "code",
   "execution_count": 91,
   "id": "fbecf256-fb3f-454f-a75f-ad74cb51664d",
   "metadata": {},
   "outputs": [
    {
     "data": {
      "text/plain": [
       "[1, 2, 33, 4, 5, 'abhi', 'abhi']"
      ]
     },
     "execution_count": 91,
     "metadata": {},
     "output_type": "execute_result"
    }
   ],
   "source": [
    "a"
   ]
  },
  {
   "cell_type": "code",
   "execution_count": 92,
   "id": "ce5d3430-35d1-46ab-ac57-f2c4f6938f86",
   "metadata": {},
   "outputs": [
    {
     "data": {
      "text/plain": [
       "2"
      ]
     },
     "execution_count": 92,
     "metadata": {},
     "output_type": "execute_result"
    }
   ],
   "source": [
    "a.count(\"abhi\")"
   ]
  },
  {
   "cell_type": "code",
   "execution_count": 93,
   "id": "226bccea-0576-420f-a573-cf276ea297f3",
   "metadata": {},
   "outputs": [
    {
     "data": {
      "text/plain": [
       "1"
      ]
     },
     "execution_count": 93,
     "metadata": {},
     "output_type": "execute_result"
    }
   ],
   "source": [
    "a.count(1)"
   ]
  },
  {
   "cell_type": "code",
   "execution_count": 94,
   "id": "e515d550-f02c-432c-b811-257f98a877ed",
   "metadata": {},
   "outputs": [
    {
     "data": {
      "text/plain": [
       "5"
      ]
     },
     "execution_count": 94,
     "metadata": {},
     "output_type": "execute_result"
    }
   ],
   "source": [
    "a.index(\"abhi\")   # return first ocuurnce "
   ]
  },
  {
   "cell_type": "code",
   "execution_count": 95,
   "id": "42132679-19e2-4956-910f-a1eb46e1a759",
   "metadata": {},
   "outputs": [
    {
     "data": {
      "text/plain": [
       "2"
      ]
     },
     "execution_count": 95,
     "metadata": {},
     "output_type": "execute_result"
    }
   ],
   "source": [
    "a.index(33)"
   ]
  },
  {
   "cell_type": "code",
   "execution_count": 96,
   "id": "8a06539b-e94f-4736-afe9-8ae38f046d58",
   "metadata": {},
   "outputs": [],
   "source": [
    "# list.remove(element)\n",
    "# list.pop(index)"
   ]
  },
  {
   "cell_type": "code",
   "execution_count": 97,
   "id": "10ed4860-1eeb-45a2-8665-5c3f478ca651",
   "metadata": {},
   "outputs": [
    {
     "data": {
      "text/plain": [
       "[1, 2, 3]"
      ]
     },
     "execution_count": 97,
     "metadata": {},
     "output_type": "execute_result"
    }
   ],
   "source": [
    "b =[1,2,3,4]\n",
    "b.remove(4)\n",
    "b"
   ]
  },
  {
   "cell_type": "code",
   "execution_count": 98,
   "id": "93ca5028-9bba-4ff5-bfb1-d63de462e911",
   "metadata": {},
   "outputs": [
    {
     "data": {
      "text/plain": [
       "[1, 2]"
      ]
     },
     "execution_count": 98,
     "metadata": {},
     "output_type": "execute_result"
    }
   ],
   "source": [
    "b.pop()\n",
    "b"
   ]
  },
  {
   "cell_type": "code",
   "execution_count": 99,
   "id": "fa47d2ad-811d-4b3d-ab7f-178f613dd926",
   "metadata": {},
   "outputs": [
    {
     "ename": "ValueError",
     "evalue": "list.remove(x): x not in list",
     "output_type": "error",
     "traceback": [
      "\u001b[1;31m---------------------------------------------------------------------------\u001b[0m",
      "\u001b[1;31mValueError\u001b[0m                                Traceback (most recent call last)",
      "Cell \u001b[1;32mIn[99], line 1\u001b[0m\n\u001b[1;32m----> 1\u001b[0m \u001b[43mb\u001b[49m\u001b[38;5;241;43m.\u001b[39;49m\u001b[43mremove\u001b[49m\u001b[43m(\u001b[49m\u001b[38;5;124;43m\"\u001b[39;49m\u001b[38;5;124;43ma\u001b[39;49m\u001b[38;5;124;43m\"\u001b[39;49m\u001b[43m)\u001b[49m\n",
      "\u001b[1;31mValueError\u001b[0m: list.remove(x): x not in list"
     ]
    }
   ],
   "source": [
    "b.remove(\"a\")"
   ]
  },
  {
   "cell_type": "code",
   "execution_count": 100,
   "id": "c4499e7c-c38c-4a0d-b6e7-eb1af1bea08a",
   "metadata": {},
   "outputs": [
    {
     "ename": "IndexError",
     "evalue": "pop index out of range",
     "output_type": "error",
     "traceback": [
      "\u001b[1;31m---------------------------------------------------------------------------\u001b[0m",
      "\u001b[1;31mIndexError\u001b[0m                                Traceback (most recent call last)",
      "Cell \u001b[1;32mIn[100], line 1\u001b[0m\n\u001b[1;32m----> 1\u001b[0m \u001b[43mb\u001b[49m\u001b[38;5;241;43m.\u001b[39;49m\u001b[43mpop\u001b[49m\u001b[43m(\u001b[49m\u001b[38;5;241;43m5\u001b[39;49m\u001b[43m)\u001b[49m\n",
      "\u001b[1;31mIndexError\u001b[0m: pop index out of range"
     ]
    }
   ],
   "source": [
    "b.pop(5)"
   ]
  },
  {
   "cell_type": "code",
   "execution_count": 101,
   "id": "9d083a02-1285-46e8-91de-937ebd46883a",
   "metadata": {},
   "outputs": [
    {
     "data": {
      "text/plain": [
       "[1, 2]"
      ]
     },
     "execution_count": 101,
     "metadata": {},
     "output_type": "execute_result"
    }
   ],
   "source": [
    "b"
   ]
  },
  {
   "cell_type": "code",
   "execution_count": 103,
   "id": "cafbb13e-0d57-42b1-8f6e-2fc47ddc7095",
   "metadata": {},
   "outputs": [],
   "source": [
    "b[1]=5"
   ]
  },
  {
   "cell_type": "code",
   "execution_count": 104,
   "id": "2fb00e58-62aa-40ed-b867-539cbcaaae45",
   "metadata": {},
   "outputs": [
    {
     "data": {
      "text/plain": [
       "[1, 5]"
      ]
     },
     "execution_count": 104,
     "metadata": {},
     "output_type": "execute_result"
    }
   ],
   "source": [
    "b"
   ]
  },
  {
   "cell_type": "code",
   "execution_count": 106,
   "id": "7a97d4b5-d79b-4982-974c-863968884be5",
   "metadata": {},
   "outputs": [],
   "source": [
    "b.extend([4,5,6,7])"
   ]
  },
  {
   "cell_type": "code",
   "execution_count": 107,
   "id": "7f1ebe3f-8794-44fb-baa0-958623025c2b",
   "metadata": {},
   "outputs": [
    {
     "data": {
      "text/plain": [
       "[1, 5, 4, 5, 6, 7]"
      ]
     },
     "execution_count": 107,
     "metadata": {},
     "output_type": "execute_result"
    }
   ],
   "source": [
    "b"
   ]
  },
  {
   "cell_type": "code",
   "execution_count": 108,
   "id": "59a4d530-f54b-4499-8c1d-1fa7145f401f",
   "metadata": {},
   "outputs": [
    {
     "data": {
      "text/plain": [
       "[7, 6, 5, 4, 5, 1]"
      ]
     },
     "execution_count": 108,
     "metadata": {},
     "output_type": "execute_result"
    }
   ],
   "source": [
    "b.reverse()\n",
    "b"
   ]
  },
  {
   "cell_type": "code",
   "execution_count": 109,
   "id": "0ed8f8d2-52e1-4384-9ae8-0efa912bdeea",
   "metadata": {},
   "outputs": [],
   "source": [
    "b.sort()"
   ]
  },
  {
   "cell_type": "code",
   "execution_count": 110,
   "id": "c2f745a6-fec6-40e8-a07f-cbb0a00317aa",
   "metadata": {},
   "outputs": [
    {
     "data": {
      "text/plain": [
       "[1, 4, 5, 5, 6, 7]"
      ]
     },
     "execution_count": 110,
     "metadata": {},
     "output_type": "execute_result"
    }
   ],
   "source": [
    "b"
   ]
  },
  {
   "cell_type": "code",
   "execution_count": 111,
   "id": "1eb8fdbf-af7e-481e-ae15-a89e51be1ee7",
   "metadata": {},
   "outputs": [
    {
     "data": {
      "text/plain": [
       "[7, 6, 5, 5, 4, 1]"
      ]
     },
     "execution_count": 111,
     "metadata": {},
     "output_type": "execute_result"
    }
   ],
   "source": [
    "b.sort(reverse=True)\n",
    "b"
   ]
  },
  {
   "cell_type": "code",
   "execution_count": 112,
   "id": "1d7075b9-5a2f-439c-98c5-206e0cc238ee",
   "metadata": {},
   "outputs": [
    {
     "data": {
      "text/plain": [
       "[1, 4, 5, 5, 6, 7]"
      ]
     },
     "execution_count": 112,
     "metadata": {},
     "output_type": "execute_result"
    }
   ],
   "source": [
    "b.sort(reverse=False)\n",
    "b"
   ]
  },
  {
   "cell_type": "code",
   "execution_count": 114,
   "id": "035c614f-ea0f-431e-a597-9192f70ea55a",
   "metadata": {},
   "outputs": [
    {
     "name": "stdout",
     "output_type": "stream",
     "text": [
      "[1, 2, 3, 4, 100]\n",
      "[1, 2, 3, 4]\n"
     ]
    }
   ],
   "source": [
    "##copy()\n",
    "\n",
    "a=[1,2,3,4]\n",
    "b=  a.copy()\n",
    "b.append(100)\n",
    "print(b)\n",
    "print(a)"
   ]
  },
  {
   "cell_type": "code",
   "execution_count": 115,
   "id": "bd09444a-70e5-484b-afd3-8d0010cb98f1",
   "metadata": {},
   "outputs": [
    {
     "name": "stdout",
     "output_type": "stream",
     "text": [
      "[1, 2, 3, 4, 'abhi']\n",
      "[1, 2, 3, 4, 'abhi']\n"
     ]
    }
   ],
   "source": [
    "## deep copy\n",
    "a=[1,2,3,4]\n",
    "b = a\n",
    "b.append(\"abhi\")\n",
    "print(b)\n",
    "print(a)"
   ]
  },
  {
   "cell_type": "code",
   "execution_count": 116,
   "id": "1f2ce964-b724-42b2-8e90-e7c0eb8bc886",
   "metadata": {},
   "outputs": [
    {
     "data": {
      "text/plain": [
       "[]"
      ]
     },
     "execution_count": 116,
     "metadata": {},
     "output_type": "execute_result"
    }
   ],
   "source": [
    "a = [2,5,8,9,7]\n",
    "a.clear()\n",
    "a"
   ]
  },
  {
   "cell_type": "code",
   "execution_count": 118,
   "id": "6ae53a77-a560-4842-aacc-e5ce5564e040",
   "metadata": {},
   "outputs": [],
   "source": [
    "del a"
   ]
  },
  {
   "cell_type": "code",
   "execution_count": 119,
   "id": "9078008a-c458-424a-8510-5e81fffca2ea",
   "metadata": {
    "scrolled": true
   },
   "outputs": [
    {
     "ename": "NameError",
     "evalue": "name 'a' is not defined",
     "output_type": "error",
     "traceback": [
      "\u001b[1;31m---------------------------------------------------------------------------\u001b[0m",
      "\u001b[1;31mNameError\u001b[0m                                 Traceback (most recent call last)",
      "Cell \u001b[1;32mIn[119], line 1\u001b[0m\n\u001b[1;32m----> 1\u001b[0m \u001b[43ma\u001b[49m\n",
      "\u001b[1;31mNameError\u001b[0m: name 'a' is not defined"
     ]
    }
   ],
   "source": [
    "a"
   ]
  },
  {
   "cell_type": "code",
   "execution_count": 121,
   "id": "b8a99b8a-99ce-4bf6-a155-364f59ced7f1",
   "metadata": {},
   "outputs": [
    {
     "name": "stdout",
     "output_type": "stream",
     "text": [
      "(1, 'a', 1.23, 'abhi', 'b', 3)\n",
      "(1, 'a', 1.23, 1, 'a', 1.23)\n",
      "('abhi', 'b', 3, 'abhi', 'b', 3, 'abhi', 'b', 3)\n"
     ]
    }
   ],
   "source": [
    "## Tuples\n",
    "tup1 = (1,\"a\",1.23)\n",
    "tup2 = (\"abhi\",\"b\",3)\n",
    "\n",
    "print(tup1+tup2)\n",
    "print(tup1*2)\n",
    "print(tup2*3)"
   ]
  },
  {
   "cell_type": "code",
   "execution_count": 122,
   "id": "b65a2dc7-c013-4578-b08d-cb36d2b11406",
   "metadata": {},
   "outputs": [],
   "source": [
    "## Sorted function sorts any sequence (list, tuple, string etc.) and returns a list with elements in sorted manner."
   ]
  },
  {
   "cell_type": "code",
   "execution_count": 127,
   "id": "2efa9a35-163a-41d9-8002-d0a747147260",
   "metadata": {},
   "outputs": [
    {
     "name": "stdout",
     "output_type": "stream",
     "text": [
      "[1, 3, 5, 6, 7, 9]\n",
      "['abhi', 'bal', 'jay', 'ram']\n",
      "[5, 7, 9, 1, 3, 6]\n",
      "['abhi', 'ram', 'jay', 'bal']\n"
     ]
    }
   ],
   "source": [
    "a=[5,7,9,1,3,6]\n",
    "b= [\"abhi\",\"ram\", \"jay\",\"bal\"]\n",
    "\n",
    "print(sorted(a))\n",
    "print(sorted(b))\n",
    "print(a)\n",
    "print(b)"
   ]
  },
  {
   "cell_type": "code",
   "execution_count": 128,
   "id": "38ad4216-8906-4ee0-ac68-70c76892512d",
   "metadata": {},
   "outputs": [
    {
     "name": "stdout",
     "output_type": "stream",
     "text": [
      "[0, 1, 2, 5, 6, 7]\n"
     ]
    }
   ],
   "source": [
    "c = (5,1,6,7,2,0)\n",
    "print(sorted(c))"
   ]
  },
  {
   "cell_type": "code",
   "execution_count": 129,
   "id": "c30dda9f-c591-4b11-9203-dd6cd85aa463",
   "metadata": {},
   "outputs": [
    {
     "data": {
      "text/plain": [
       "tuple"
      ]
     },
     "execution_count": 129,
     "metadata": {},
     "output_type": "execute_result"
    }
   ],
   "source": [
    "a = 1,\n",
    "type(a)"
   ]
  },
  {
   "cell_type": "code",
   "execution_count": 130,
   "id": "3fe4a03c-e567-4c31-9141-585562c9f853",
   "metadata": {},
   "outputs": [],
   "source": [
    "## Reversed function"
   ]
  },
  {
   "cell_type": "code",
   "execution_count": 132,
   "id": "f65d547a-047a-474e-b27a-84dc5e018134",
   "metadata": {},
   "outputs": [],
   "source": [
    "a=[5,7,9,1,3,6]\n",
    "b= [\"abhi\",\"ram\", \"jay\",\"bal\"]"
   ]
  },
  {
   "cell_type": "code",
   "execution_count": 133,
   "id": "307d09ee-0767-439c-9aef-0866d2eccc8a",
   "metadata": {},
   "outputs": [
    {
     "data": {
      "text/plain": [
       "<list_reverseiterator at 0x142d6746b60>"
      ]
     },
     "execution_count": 133,
     "metadata": {},
     "output_type": "execute_result"
    }
   ],
   "source": [
    "reversed(a)"
   ]
  },
  {
   "cell_type": "code",
   "execution_count": 135,
   "id": "93c456c2-49b8-4693-98a2-43a73a459504",
   "metadata": {},
   "outputs": [
    {
     "name": "stdout",
     "output_type": "stream",
     "text": [
      "(6, 3, 1, 9, 7, 5)\n"
     ]
    }
   ],
   "source": [
    "print(tuple(reversed(a)))"
   ]
  },
  {
   "cell_type": "code",
   "execution_count": 136,
   "id": "4dc54398-589d-44a8-9ffc-c5e43df9df22",
   "metadata": {},
   "outputs": [
    {
     "name": "stdout",
     "output_type": "stream",
     "text": [
      "[6, 3, 1, 9, 7, 5]\n"
     ]
    }
   ],
   "source": [
    "print(list(reversed(a)))"
   ]
  },
  {
   "cell_type": "code",
   "execution_count": 137,
   "id": "e1b5c38b-8060-4fb8-92dc-f74464e51762",
   "metadata": {},
   "outputs": [
    {
     "name": "stdout",
     "output_type": "stream",
     "text": [
      "('bal', 'jay', 'ram', 'abhi')\n"
     ]
    }
   ],
   "source": [
    "print(tuple(reversed(b)))"
   ]
  },
  {
   "cell_type": "code",
   "execution_count": null,
   "id": "45845254-21f1-4842-acde-9df0f3417751",
   "metadata": {},
   "outputs": [],
   "source": []
  }
 ],
 "metadata": {
  "kernelspec": {
   "display_name": "Python 3 (ipykernel)",
   "language": "python",
   "name": "python3"
  },
  "language_info": {
   "codemirror_mode": {
    "name": "ipython",
    "version": 3
   },
   "file_extension": ".py",
   "mimetype": "text/x-python",
   "name": "python",
   "nbconvert_exporter": "python",
   "pygments_lexer": "ipython3",
   "version": "3.12.4"
  }
 },
 "nbformat": 4,
 "nbformat_minor": 5
}
