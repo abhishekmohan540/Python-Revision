{
 "cells": [
  {
   "cell_type": "markdown",
   "id": "d746f659-19ea-4041-8ad5-5f7aa80c9e03",
   "metadata": {},
   "source": [
    "## Tuples"
   ]
  },
  {
   "cell_type": "code",
   "execution_count": 1,
   "id": "148e2f29-fdc0-42e6-9cd0-51301970a5f7",
   "metadata": {},
   "outputs": [
    {
     "name": "stdout",
     "output_type": "stream",
     "text": [
      "()\n",
      "<class 'tuple'>\n"
     ]
    }
   ],
   "source": [
    "tup = ()\n",
    "print(tup)\n",
    "print(type(tup))"
   ]
  },
  {
   "cell_type": "code",
   "execution_count": 2,
   "id": "d9c2a50f-e945-4fd9-946b-1b210515c6ef",
   "metadata": {},
   "outputs": [
    {
     "name": "stdout",
     "output_type": "stream",
     "text": [
      "<class 'tuple'>\n"
     ]
    }
   ],
   "source": [
    "tup = (1,2,3,4)\n",
    "print(type(tup))"
   ]
  },
  {
   "cell_type": "code",
   "execution_count": 4,
   "id": "75e32d19-9697-4da1-bdfb-1ae87d5d589c",
   "metadata": {},
   "outputs": [
    {
     "name": "stdout",
     "output_type": "stream",
     "text": [
      "<class 'int'>\n"
     ]
    }
   ],
   "source": [
    "tup1 = (1)  # NOte here\n",
    "print(type(tup1))"
   ]
  },
  {
   "cell_type": "code",
   "execution_count": 5,
   "id": "a0a4ccb3-5d6f-4570-bf5b-17f2c03d4f84",
   "metadata": {},
   "outputs": [
    {
     "name": "stdout",
     "output_type": "stream",
     "text": [
      "(1,)\n",
      "<class 'tuple'>\n"
     ]
    }
   ],
   "source": [
    "tup2 = (1,)\n",
    "print(tup2)\n",
    "print(type(tup2))"
   ]
  },
  {
   "cell_type": "code",
   "execution_count": 6,
   "id": "2bc99013-f97b-4208-a33b-68026e1f4305",
   "metadata": {},
   "outputs": [
    {
     "name": "stdout",
     "output_type": "stream",
     "text": [
      "(1, 'abhi', 1.235) <class 'tuple'>\n"
     ]
    }
   ],
   "source": [
    "tup3 = (1,\"abhi\", 1.235)\n",
    "print(tup3, type(tup))"
   ]
  },
  {
   "cell_type": "code",
   "execution_count": 7,
   "id": "496a5700-93c8-4c81-b936-8ed4e09a3d15",
   "metadata": {},
   "outputs": [
    {
     "ename": "TypeError",
     "evalue": "'tuple' object does not support item assignment",
     "output_type": "error",
     "traceback": [
      "\u001b[1;31m---------------------------------------------------------------------------\u001b[0m",
      "\u001b[1;31mTypeError\u001b[0m                                 Traceback (most recent call last)",
      "Cell \u001b[1;32mIn[7], line 2\u001b[0m\n\u001b[0;32m      1\u001b[0m \u001b[38;5;66;03m# Tuples are immuatbale\u001b[39;00m\n\u001b[1;32m----> 2\u001b[0m \u001b[43mtup3\u001b[49m\u001b[43m[\u001b[49m\u001b[38;5;241;43m0\u001b[39;49m\u001b[43m]\u001b[49m \u001b[38;5;241m=\u001b[39m \u001b[38;5;241m5\u001b[39m\n",
      "\u001b[1;31mTypeError\u001b[0m: 'tuple' object does not support item assignment"
     ]
    }
   ],
   "source": [
    "# Tuples are immuatbale\n",
    "tup3[0] = 5"
   ]
  },
  {
   "cell_type": "code",
   "execution_count": 8,
   "id": "ad76e4c0-44fe-4de0-9300-3752211fcf4a",
   "metadata": {},
   "outputs": [
    {
     "data": {
      "text/plain": [
       "'abhi'"
      ]
     },
     "execution_count": 8,
     "metadata": {},
     "output_type": "execute_result"
    }
   ],
   "source": [
    "tup3[1]"
   ]
  },
  {
   "cell_type": "code",
   "execution_count": 9,
   "id": "24de3fa5-2109-4224-be70-babe57d17c21",
   "metadata": {},
   "outputs": [
    {
     "data": {
      "text/plain": [
       "1.235"
      ]
     },
     "execution_count": 9,
     "metadata": {},
     "output_type": "execute_result"
    }
   ],
   "source": [
    "tup3[2]"
   ]
  },
  {
   "cell_type": "code",
   "execution_count": 11,
   "id": "16c32544-a16e-4cba-b075-66d1b5a1158f",
   "metadata": {},
   "outputs": [],
   "source": [
    "val  = \"a\", \"b\",\"c\", 1,2,3"
   ]
  },
  {
   "cell_type": "code",
   "execution_count": 12,
   "id": "2007abce-a11c-4d64-82b0-526922e18d63",
   "metadata": {},
   "outputs": [
    {
     "name": "stdout",
     "output_type": "stream",
     "text": [
      "<class 'tuple'>\n",
      "('a', 'b', 'c', 1, 2, 3)\n"
     ]
    }
   ],
   "source": [
    "print(type(val))\n",
    "print(val)"
   ]
  },
  {
   "cell_type": "code",
   "execution_count": 13,
   "id": "0bda97a6-4bf7-4840-b873-4c0dfea3995b",
   "metadata": {},
   "outputs": [
    {
     "data": {
      "text/plain": [
       "tuple"
      ]
     },
     "execution_count": 13,
     "metadata": {},
     "output_type": "execute_result"
    }
   ],
   "source": [
    "val1= \"a\",\n",
    "type(val1)"
   ]
  },
  {
   "cell_type": "code",
   "execution_count": 14,
   "id": "d4f71d36-94bd-476c-b6ec-fc5ad7938b05",
   "metadata": {},
   "outputs": [
    {
     "data": {
      "text/plain": [
       "str"
      ]
     },
     "execution_count": 14,
     "metadata": {},
     "output_type": "execute_result"
    }
   ],
   "source": [
    "val2= \"a\"\n",
    "type(val2)"
   ]
  },
  {
   "cell_type": "code",
   "execution_count": 15,
   "id": "4c9165d6-165f-420c-ad99-91f43af6f546",
   "metadata": {},
   "outputs": [
    {
     "data": {
      "text/plain": [
       "(1, 'abhi', 1.235)"
      ]
     },
     "execution_count": 15,
     "metadata": {},
     "output_type": "execute_result"
    }
   ],
   "source": [
    "tup3"
   ]
  },
  {
   "cell_type": "code",
   "execution_count": 17,
   "id": "8398faa0-5291-4c7e-9c8d-6f31a4f595dc",
   "metadata": {},
   "outputs": [
    {
     "data": {
      "text/plain": [
       "1.235"
      ]
     },
     "execution_count": 17,
     "metadata": {},
     "output_type": "execute_result"
    }
   ],
   "source": [
    "tup3[-1]"
   ]
  },
  {
   "cell_type": "code",
   "execution_count": 18,
   "id": "2bc5f100-c729-408b-885d-38620b4f321f",
   "metadata": {},
   "outputs": [
    {
     "data": {
      "text/plain": [
       "3"
      ]
     },
     "execution_count": 18,
     "metadata": {},
     "output_type": "execute_result"
    }
   ],
   "source": [
    "len(tup3)"
   ]
  },
  {
   "cell_type": "code",
   "execution_count": 19,
   "id": "dd6ee547-7867-46db-b34d-d813fd5cd9e4",
   "metadata": {},
   "outputs": [
    {
     "data": {
      "text/plain": [
       "'abhi'"
      ]
     },
     "execution_count": 19,
     "metadata": {},
     "output_type": "execute_result"
    }
   ],
   "source": [
    "tup3[-2]"
   ]
  },
  {
   "cell_type": "code",
   "execution_count": 20,
   "id": "5327a2fb-3d9d-4ccd-8600-10cb62babf18",
   "metadata": {},
   "outputs": [
    {
     "name": "stdout",
     "output_type": "stream",
     "text": [
      "('abhi', 1.235)\n"
     ]
    }
   ],
   "source": [
    "# Slicing in tuple\n",
    "\n",
    "tup4=tup3[1:3]\n",
    "print(tup4)"
   ]
  },
  {
   "cell_type": "code",
   "execution_count": 21,
   "id": "0cb95a0f-5d99-465a-8493-a901193c4243",
   "metadata": {},
   "outputs": [],
   "source": [
    "tup5 = (1,2,3,4,\"a\", \"b\",1.45)"
   ]
  },
  {
   "cell_type": "code",
   "execution_count": 22,
   "id": "8d6ea5b2-2e79-4005-b619-38d118823ad4",
   "metadata": {},
   "outputs": [
    {
     "data": {
      "text/plain": [
       "(3, 4, 'a', 'b', 1.45)"
      ]
     },
     "execution_count": 22,
     "metadata": {},
     "output_type": "execute_result"
    }
   ],
   "source": [
    "tup5[2:7]"
   ]
  },
  {
   "cell_type": "code",
   "execution_count": 23,
   "id": "4dad44fe-e49d-449b-8936-f3984ef63234",
   "metadata": {},
   "outputs": [],
   "source": [
    "tup6=(1,2,3)\n",
    "tup7=(\"a\",\"b\",\"c\")"
   ]
  },
  {
   "cell_type": "code",
   "execution_count": 24,
   "id": "2f63bd78-5f0a-4329-9c84-2af0563c16a8",
   "metadata": {},
   "outputs": [
    {
     "name": "stdout",
     "output_type": "stream",
     "text": [
      "(1, 2, 3, 'a', 'b', 'c')\n"
     ]
    }
   ],
   "source": [
    "tup8=tup6+tup7\n",
    "print(tup8)"
   ]
  },
  {
   "cell_type": "code",
   "execution_count": 25,
   "id": "e2ae7acf-7419-4439-b506-736e1381a903",
   "metadata": {},
   "outputs": [
    {
     "name": "stdout",
     "output_type": "stream",
     "text": [
      "[1, 2, 3, 'a', 'b', 'c']\n"
     ]
    }
   ],
   "source": [
    "lis = list(tup8)  # to make change in tuple, convert it into  list.\n",
    "print(lis)"
   ]
  },
  {
   "cell_type": "code",
   "execution_count": 26,
   "id": "b4a9e939-7bc4-4b3c-9b98-8a2c0d06f7a8",
   "metadata": {},
   "outputs": [
    {
     "name": "stdout",
     "output_type": "stream",
     "text": [
      "[10, 2, 3, 'a', 'b', 'c']\n"
     ]
    }
   ],
   "source": [
    "# now I can do cahnges in the list.\n",
    "lis[0]=10\n",
    "print(lis)"
   ]
  },
  {
   "cell_type": "code",
   "execution_count": 27,
   "id": "c7746366-fed1-49b3-8d14-f86356ae807b",
   "metadata": {},
   "outputs": [
    {
     "data": {
      "text/plain": [
       "(1, 2, 3, 'a', 'b', 'c')"
      ]
     },
     "execution_count": 27,
     "metadata": {},
     "output_type": "execute_result"
    }
   ],
   "source": [
    "tup8"
   ]
  },
  {
   "cell_type": "code",
   "execution_count": 28,
   "id": "3911f543-9eec-4040-aba1-24639fe5498f",
   "metadata": {},
   "outputs": [
    {
     "name": "stdout",
     "output_type": "stream",
     "text": [
      "(10, 2, 3, 'a', 'b', 'c')\n"
     ]
    }
   ],
   "source": [
    "tup9=tuple(lis)\n",
    "print(tup9)"
   ]
  },
  {
   "cell_type": "code",
   "execution_count": 29,
   "id": "29e6ce13-06d9-4112-855a-bf4437ad5e86",
   "metadata": {},
   "outputs": [
    {
     "ename": "TypeError",
     "evalue": "'tuple' object does not support item assignment",
     "output_type": "error",
     "traceback": [
      "\u001b[1;31m---------------------------------------------------------------------------\u001b[0m",
      "\u001b[1;31mTypeError\u001b[0m                                 Traceback (most recent call last)",
      "Cell \u001b[1;32mIn[29], line 1\u001b[0m\n\u001b[1;32m----> 1\u001b[0m \u001b[43mtup9\u001b[49m\u001b[43m[\u001b[49m\u001b[38;5;241;43m0\u001b[39;49m\u001b[43m]\u001b[49m\u001b[38;5;241m=\u001b[39m\u001b[38;5;241m15\u001b[39m\n",
      "\u001b[1;31mTypeError\u001b[0m: 'tuple' object does not support item assignment"
     ]
    }
   ],
   "source": [
    "tup9[0]=15"
   ]
  },
  {
   "cell_type": "code",
   "execution_count": 30,
   "id": "294d36c0-1ef7-4023-a823-26d829791d00",
   "metadata": {},
   "outputs": [
    {
     "data": {
      "text/plain": [
       "(10, 2, 3, 'a', 'b', 'c')"
      ]
     },
     "execution_count": 30,
     "metadata": {},
     "output_type": "execute_result"
    }
   ],
   "source": [
    "tup9"
   ]
  },
  {
   "cell_type": "code",
   "execution_count": 32,
   "id": "a9d95cb7-5154-4a16-b200-051f57c0303b",
   "metadata": {},
   "outputs": [
    {
     "data": {
      "text/plain": [
       "(10, 2, 3, 'a', 'b', 'c', 10, 2, 3, 'a', 'b', 'c')"
      ]
     },
     "execution_count": 32,
     "metadata": {},
     "output_type": "execute_result"
    }
   ],
   "source": [
    "tup9*2"
   ]
  },
  {
   "cell_type": "code",
   "execution_count": 33,
   "id": "375eb84c-84a6-4ba1-bd76-3c1a186241f4",
   "metadata": {},
   "outputs": [
    {
     "data": {
      "text/plain": [
       "(10, 2, 3, 'a', 'b', 'c', 10, 2, 3, 'a', 'b', 'c', 10, 2, 3, 'a', 'b', 'c')"
      ]
     },
     "execution_count": 33,
     "metadata": {},
     "output_type": "execute_result"
    }
   ],
   "source": [
    "tup9*3"
   ]
  },
  {
   "cell_type": "code",
   "execution_count": 34,
   "id": "c85dccd8-f3ee-40ee-9db9-80afe48da5ab",
   "metadata": {},
   "outputs": [
    {
     "data": {
      "text/plain": [
       "1"
      ]
     },
     "execution_count": 34,
     "metadata": {},
     "output_type": "execute_result"
    }
   ],
   "source": [
    "# Count\n",
    "tup9.count(2)"
   ]
  },
  {
   "cell_type": "code",
   "execution_count": 36,
   "id": "407b3df8-6c06-44c8-a78c-2acb0359ca21",
   "metadata": {},
   "outputs": [
    {
     "name": "stdout",
     "output_type": "stream",
     "text": [
      "(10, 2, 3, 'a', 'b', 'c', 10, 2, 3, 'a', 'b', 'c', 10, 2, 3, 'a', 'b', 'c')\n"
     ]
    },
    {
     "data": {
      "text/plain": [
       "3"
      ]
     },
     "execution_count": 36,
     "metadata": {},
     "output_type": "execute_result"
    }
   ],
   "source": [
    "tup10=tup9*3\n",
    "print(tup10)\n",
    "tup10.count(\"a\")"
   ]
  },
  {
   "cell_type": "code",
   "execution_count": 37,
   "id": "9c17c1a1-d7bb-4b2e-97d9-a1b492fef06c",
   "metadata": {},
   "outputs": [
    {
     "data": {
      "text/plain": [
       "2"
      ]
     },
     "execution_count": 37,
     "metadata": {},
     "output_type": "execute_result"
    }
   ],
   "source": [
    "## index\n",
    "tup10.index(3)"
   ]
  },
  {
   "cell_type": "code",
   "execution_count": 38,
   "id": "ebaac10e-3b78-4c10-8257-9cb7f4b804bc",
   "metadata": {},
   "outputs": [
    {
     "data": {
      "text/plain": [
       "3"
      ]
     },
     "execution_count": 38,
     "metadata": {},
     "output_type": "execute_result"
    }
   ],
   "source": [
    "tup10.index(\"a\")"
   ]
  },
  {
   "cell_type": "code",
   "execution_count": 40,
   "id": "441f4265-cdc6-4ce6-b5c5-6b904789bfa9",
   "metadata": {},
   "outputs": [
    {
     "data": {
      "text/plain": [
       "6"
      ]
     },
     "execution_count": 40,
     "metadata": {},
     "output_type": "execute_result"
    }
   ],
   "source": [
    "tup10.index(10,1,7)"
   ]
  },
  {
   "cell_type": "code",
   "execution_count": 41,
   "id": "4b2e927e-b0be-4097-b7e0-96353c5d00f0",
   "metadata": {},
   "outputs": [],
   "source": [
    "tup11 = (10,5,0,4,15,6)"
   ]
  },
  {
   "cell_type": "markdown",
   "id": "7a828848-5bff-42b4-87cc-85bd8b102211",
   "metadata": {},
   "source": [
    "## Sorted Function"
   ]
  },
  {
   "cell_type": "code",
   "execution_count": 46,
   "id": "961e0ca4-0ef5-4ade-8d6a-25e29e4ec1fa",
   "metadata": {},
   "outputs": [
    {
     "name": "stdout",
     "output_type": "stream",
     "text": [
      "[0, 4, 5, 6, 10, 15]\n"
     ]
    }
   ],
   "source": [
    "new_tup = sorted(tup11, reverse =False)\n",
    "print(new_tup)"
   ]
  },
  {
   "cell_type": "code",
   "execution_count": 47,
   "id": "20af82ca-86dc-4321-a59e-40ec6a13b5fe",
   "metadata": {},
   "outputs": [
    {
     "name": "stdout",
     "output_type": "stream",
     "text": [
      "[15, 10, 6, 5, 4, 0]\n"
     ]
    }
   ],
   "source": [
    "new_tup1 = sorted(tup11, reverse = True)\n",
    "print(new_tup1)"
   ]
  },
  {
   "cell_type": "code",
   "execution_count": 49,
   "id": "b6568210-88c7-4f2d-a040-a87a48bdbb6f",
   "metadata": {},
   "outputs": [
    {
     "name": "stdout",
     "output_type": "stream",
     "text": [
      "[(2, 1), (5, 2), (2, 3), (1, 3), (1, 5)]\n"
     ]
    }
   ],
   "source": [
    "Tup = [(1,5),(5,2),(2,3), (1,3), (2,1)]\n",
    "\n",
    "New_Tup = sorted(Tup, key = lambda x:x[1])\n",
    "print(New_Tup)"
   ]
  },
  {
   "cell_type": "code",
   "execution_count": 51,
   "id": "cf116f39-6b87-4753-92b0-0bda29f4ea76",
   "metadata": {},
   "outputs": [
    {
     "name": "stdout",
     "output_type": "stream",
     "text": [
      "[(1, 5), (1, 3), (2, 3), (2, 1), (5, 2)]\n"
     ]
    }
   ],
   "source": [
    "Tup1 = [(1,5),(5,2),(2,3), (1,3), (2,1)]\n",
    "\n",
    "New_Tup1 = sorted(Tup1, key = lambda x:x[0])\n",
    "print(New_Tup1)"
   ]
  },
  {
   "cell_type": "markdown",
   "id": "c77ee5d2-200c-4494-a18c-a22e44836f42",
   "metadata": {},
   "source": [
    "## Reversed Function"
   ]
  },
  {
   "cell_type": "code",
   "execution_count": 54,
   "id": "a6a80a95-5787-4698-a6f8-2e1167cad94c",
   "metadata": {},
   "outputs": [
    {
     "name": "stdout",
     "output_type": "stream",
     "text": [
      "<list_reverseiterator object at 0x00000117961B68C0>\n"
     ]
    }
   ],
   "source": [
    "NumList = [5,15,0,20,10]\n",
    "print(reversed(NumList))"
   ]
  },
  {
   "cell_type": "code",
   "execution_count": 55,
   "id": "850eaaa7-7e9e-49b8-aaf6-19be3304e785",
   "metadata": {},
   "outputs": [
    {
     "name": "stdout",
     "output_type": "stream",
     "text": [
      "(10, 20, 0, 15, 5)\n"
     ]
    }
   ],
   "source": [
    "NumList = [5,15,0,20,10]\n",
    "print(tuple(reversed(NumList)))"
   ]
  },
  {
   "cell_type": "code",
   "execution_count": 56,
   "id": "05ea6dae-5228-4507-9c6d-b0112e1d5f5d",
   "metadata": {},
   "outputs": [
    {
     "name": "stdout",
     "output_type": "stream",
     "text": [
      "<reversed object at 0x00000117961B7400>\n"
     ]
    }
   ],
   "source": [
    "Planets = (\"Mercury\", \"Venus\", \"Mars\")\n",
    "print(reversed(Planets))"
   ]
  },
  {
   "cell_type": "code",
   "execution_count": 57,
   "id": "50e12318-b282-4a3c-bf81-076bf7df017e",
   "metadata": {},
   "outputs": [
    {
     "name": "stdout",
     "output_type": "stream",
     "text": [
      "['Mars', 'Venus', 'Mercury']\n"
     ]
    }
   ],
   "source": [
    "Planets = (\"Mercury\", \"Venus\", \"Mars\")\n",
    "print(list(reversed(Planets)))"
   ]
  },
  {
   "cell_type": "markdown",
   "id": "74b0b074-300d-4bcc-b8d6-57ec86ee4872",
   "metadata": {},
   "source": [
    "## f-string"
   ]
  },
  {
   "cell_type": "code",
   "execution_count": 60,
   "id": "2069d00f-f101-407f-81b8-ab49b744a4e5",
   "metadata": {},
   "outputs": [
    {
     "name": "stdout",
     "output_type": "stream",
     "text": [
      "My name is Abhishek and I am from India\n"
     ]
    }
   ],
   "source": [
    "name = \"Abhishek\"\n",
    "country = \"India\"\n",
    "\n",
    "out = \"My name is {} and I am from {}\".format(name,country)\n",
    "print(out)"
   ]
  },
  {
   "cell_type": "code",
   "execution_count": 61,
   "id": "9c8346d1-9d06-475d-8d1d-7ded5e20578e",
   "metadata": {},
   "outputs": [
    {
     "name": "stdout",
     "output_type": "stream",
     "text": [
      "My name is Abhishek and I am from India\n"
     ]
    }
   ],
   "source": [
    "name = \"Abhishek\"\n",
    "country = \"India\"\n",
    "\n",
    "out = f\"My name is {name} and I am from {country}\"\n",
    "print(out)"
   ]
  },
  {
   "cell_type": "code",
   "execution_count": 62,
   "id": "ca903f22-8bf6-40e2-9f1f-5e20c3856760",
   "metadata": {},
   "outputs": [
    {
     "name": "stdout",
     "output_type": "stream",
     "text": [
      "('The sum of 10 and 20 is:', 30)\n"
     ]
    }
   ],
   "source": [
    "a= 10\n",
    "b= 20 \n",
    "\n",
    "Sum = f\"The sum of {a} and {b} is:\",a+b\n",
    "print(Sum)"
   ]
  },
  {
   "cell_type": "code",
   "execution_count": null,
   "id": "2226e297-e83c-4f68-b3f4-2044d3dfc053",
   "metadata": {},
   "outputs": [],
   "source": []
  }
 ],
 "metadata": {
  "kernelspec": {
   "display_name": "Python 3 (ipykernel)",
   "language": "python",
   "name": "python3"
  },
  "language_info": {
   "codemirror_mode": {
    "name": "ipython",
    "version": 3
   },
   "file_extension": ".py",
   "mimetype": "text/x-python",
   "name": "python",
   "nbconvert_exporter": "python",
   "pygments_lexer": "ipython3",
   "version": "3.12.4"
  }
 },
 "nbformat": 4,
 "nbformat_minor": 5
}
